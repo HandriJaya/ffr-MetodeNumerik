{
 "cells": [
  {
   "cell_type": "code",
   "execution_count": 1,
   "metadata": {},
   "outputs": [],
   "source": [
    "import numpy as np\n",
    "import matplotlib.pyplot as plt"
   ]
  },
  {
   "cell_type": "markdown",
   "metadata": {},
   "source": [
    "Mencari akar persamaan:\n",
    "$$\n",
    "f(x) = 5x^3 - 5x^2 + 6x - 2 = 0\n",
    "$$"
   ]
  },
  {
   "cell_type": "markdown",
   "metadata": {},
   "source": [
    "Metode bisection:"
   ]
  },
  {
   "cell_type": "code",
   "execution_count": 2,
   "metadata": {},
   "outputs": [],
   "source": [
    "def func_01(x):\n",
    "    return 5*x**3 - 5*x**2 + 6*x - 2"
   ]
  },
  {
   "cell_type": "code",
   "execution_count": 9,
   "metadata": {},
   "outputs": [],
   "source": [
    "xmin = 0.0\n",
    "xmax = 2.0\n",
    "x = np.linspace(xmin, xmax, 500)\n",
    "y = func_01(x)"
   ]
  },
  {
   "cell_type": "code",
   "execution_count": 10,
   "metadata": {},
   "outputs": [
    {
     "data": {
      "image/png": "[encoded data removed]",
      "text/plain": [
       "<Figure size 432x288 with 1 Axes>"
      ]
     },
     "metadata": {
      "needs_background": "light"
     },
     "output_type": "display_data"
    }
   ],
   "source": [
    "plt.clf()\n",
    "plt.plot(x, y)\n",
    "plt.grid()"
   ]
  },
  {
   "cell_type": "code",
   "execution_count": 15,
   "metadata": {},
   "outputs": [],
   "source": [
    "xl = 0.0 # left\n",
    "xr = 2.0 # right"
   ]
  },
  {
   "cell_type": "code",
   "execution_count": 16,
   "metadata": {},
   "outputs": [
    {
     "data": {
      "text/plain": [
       "(-2.0, 30.0)"
      ]
     },
     "execution_count": 16,
     "metadata": {},
     "output_type": "execute_result"
    }
   ],
   "source": [
    "func_01(xl), func_01(xr)"
   ]
  },
  {
   "cell_type": "markdown",
   "metadata": {},
   "source": [
    "Aproksimasi akar:"
   ]
  },
  {
   "cell_type": "code",
   "execution_count": 17,
   "metadata": {},
   "outputs": [
    {
     "data": {
      "text/plain": [
       "1.0"
      ]
     },
     "execution_count": 17,
     "metadata": {},
     "output_type": "execute_result"
    }
   ],
   "source": [
    "x_root = 0.5*(xl + xr)\n",
    "x_root"
   ]
  },
  {
   "cell_type": "code",
   "execution_count": 18,
   "metadata": {},
   "outputs": [
    {
     "data": {
      "text/plain": [
       "4.0"
      ]
     },
     "execution_count": 18,
     "metadata": {},
     "output_type": "execute_result"
    }
   ],
   "source": [
    "func_01(x_root)"
   ]
  },
  {
   "cell_type": "code",
   "execution_count": 19,
   "metadata": {},
   "outputs": [
    {
     "data": {
      "text/plain": [
       "(0.0, 1.0, 2.0)"
      ]
     },
     "execution_count": 19,
     "metadata": {},
     "output_type": "execute_result"
    }
   ],
   "source": [
    "xl, x_root, xr"
   ]
  },
  {
   "cell_type": "code",
   "execution_count": 20,
   "metadata": {},
   "outputs": [
    {
     "data": {
      "text/plain": [
       "(-2.0, 4.0, 30.0)"
      ]
     },
     "execution_count": 20,
     "metadata": {},
     "output_type": "execute_result"
    }
   ],
   "source": [
    "func_01(xl), func_01(x_root), func_01(xr)"
   ]
  },
  {
   "cell_type": "code",
   "execution_count": 21,
   "metadata": {},
   "outputs": [],
   "source": [
    "xr = x_root"
   ]
  },
  {
   "cell_type": "markdown",
   "metadata": {},
   "source": [
    "Selang baru:"
   ]
  },
  {
   "cell_type": "code",
   "execution_count": 22,
   "metadata": {},
   "outputs": [
    {
     "data": {
      "text/plain": [
       "(0.0, 1.0)"
      ]
     },
     "execution_count": 22,
     "metadata": {},
     "output_type": "execute_result"
    }
   ],
   "source": [
    "xl, xr"
   ]
  },
  {
   "cell_type": "code",
   "execution_count": 23,
   "metadata": {},
   "outputs": [
    {
     "data": {
      "image/png": "[encoded data removed]",
      "text/plain": [
       "<Figure size 432x288 with 1 Axes>"
      ]
     },
     "metadata": {
      "needs_background": "light"
     },
     "output_type": "display_data"
    }
   ],
   "source": [
    "xmin = 0.0\n",
    "xmax = 1.0\n",
    "x = np.linspace(xmin, xmax, 500)\n",
    "y = func_01(x)\n",
    "\n",
    "plt.clf()\n",
    "plt.plot(x, y)\n",
    "plt.grid()"
   ]
  },
  {
   "cell_type": "code",
   "execution_count": 24,
   "metadata": {},
   "outputs": [
    {
     "data": {
      "text/plain": [
       "(-2.0, 4.0)"
      ]
     },
     "execution_count": 24,
     "metadata": {},
     "output_type": "execute_result"
    }
   ],
   "source": [
    "func_01(xl), func_01(xr)"
   ]
  },
  {
   "cell_type": "code",
   "execution_count": 25,
   "metadata": {},
   "outputs": [
    {
     "data": {
      "text/plain": [
       "0.5"
      ]
     },
     "execution_count": 25,
     "metadata": {},
     "output_type": "execute_result"
    }
   ],
   "source": [
    "x_root = 0.5*(xl + xr)\n",
    "x_root"
   ]
  },
  {
   "cell_type": "code",
   "execution_count": 26,
   "metadata": {},
   "outputs": [
    {
     "data": {
      "text/plain": [
       "(0.0, 0.5, 1.0)"
      ]
     },
     "execution_count": 26,
     "metadata": {},
     "output_type": "execute_result"
    }
   ],
   "source": [
    "xl, x_root, xr"
   ]
  },
  {
   "cell_type": "code",
   "execution_count": 27,
   "metadata": {},
   "outputs": [
    {
     "data": {
      "text/plain": [
       "(-2.0, 0.375, 4.0)"
      ]
     },
     "execution_count": 27,
     "metadata": {},
     "output_type": "execute_result"
    }
   ],
   "source": [
    "func_01(xl), func_01(x_root), func_01(xr)"
   ]
  },
  {
   "cell_type": "code",
   "execution_count": 28,
   "metadata": {},
   "outputs": [],
   "source": [
    "xr = x_root"
   ]
  },
  {
   "cell_type": "code",
   "execution_count": 29,
   "metadata": {},
   "outputs": [
    {
     "data": {
      "text/plain": [
       "(0.0, 0.5)"
      ]
     },
     "execution_count": 29,
     "metadata": {},
     "output_type": "execute_result"
    }
   ],
   "source": [
    "xl, xr"
   ]
  },
  {
   "cell_type": "code",
   "execution_count": 30,
   "metadata": {},
   "outputs": [
    {
     "data": {
      "image/png": "[encoded data removed]",
      "text/plain": [
       "<Figure size 432x288 with 1 Axes>"
      ]
     },
     "metadata": {
      "needs_background": "light"
     },
     "output_type": "display_data"
    }
   ],
   "source": [
    "xmin = 0.0\n",
    "xmax = 0.5\n",
    "x = np.linspace(xmin, xmax, 500)\n",
    "y = func_01(x)\n",
    "\n",
    "plt.clf()\n",
    "plt.plot(x, y)\n",
    "plt.grid()"
   ]
  },
  {
   "cell_type": "code",
   "execution_count": 31,
   "metadata": {},
   "outputs": [
    {
     "data": {
      "text/plain": [
       "0.25"
      ]
     },
     "execution_count": 31,
     "metadata": {},
     "output_type": "execute_result"
    }
   ],
   "source": [
    "x_root = 0.5*(xl + xr)\n",
    "x_root"
   ]
  },
  {
   "cell_type": "code",
   "execution_count": 32,
   "metadata": {},
   "outputs": [
    {
     "data": {
      "text/plain": [
       "(0.0, 0.25, 0.5)"
      ]
     },
     "execution_count": 32,
     "metadata": {},
     "output_type": "execute_result"
    }
   ],
   "source": [
    "xl, x_root, xr"
   ]
  },
  {
   "cell_type": "code",
   "execution_count": 33,
   "metadata": {},
   "outputs": [
    {
     "data": {
      "text/plain": [
       "(-2.0, -0.734375, 0.375)"
      ]
     },
     "execution_count": 33,
     "metadata": {},
     "output_type": "execute_result"
    }
   ],
   "source": [
    "func_01(xl), func_01(x_root), func_01(xr)"
   ]
  },
  {
   "cell_type": "code",
   "execution_count": 34,
   "metadata": {},
   "outputs": [],
   "source": [
    "xl = x_root"
   ]
  },
  {
   "cell_type": "code",
   "execution_count": 35,
   "metadata": {},
   "outputs": [
    {
     "data": {
      "text/plain": [
       "(0.25, 0.5)"
      ]
     },
     "execution_count": 35,
     "metadata": {},
     "output_type": "execute_result"
    }
   ],
   "source": [
    "xl, xr"
   ]
  },
  {
   "cell_type": "code",
   "execution_count": 36,
   "metadata": {},
   "outputs": [
    {
     "data": {
      "text/plain": [
       "(-0.734375, 0.375)"
      ]
     },
     "execution_count": 36,
     "metadata": {},
     "output_type": "execute_result"
    }
   ],
   "source": [
    "func_01(xl), func_01(xr)"
   ]
  },
  {
   "cell_type": "code",
   "execution_count": null,
   "metadata": {},
   "outputs": [],
   "source": [
    "x_root = "
   ]
  },
  {
   "cell_type": "markdown",
   "metadata": {},
   "source": [
    "## Pakai fungsi"
   ]
  },
  {
   "cell_type": "code",
   "execution_count": 37,
   "metadata": {},
   "outputs": [],
   "source": [
    "def bisection(f, x1, x2, TOL=1e-10, NiterMax=100):\n",
    "    \n",
    "    f1 = f(x1)\n",
    "    f2 = f(x2)\n",
    "    \n",
    "    if f1*f2 > 0:\n",
    "        raise RuntimeError(\"f1 dan f2 memiliki tanda yang sama\")\n",
    "\n",
    "    for i in range(1,NiterMax+1):\n",
    "        \n",
    "        xr = 0.5*(x1 + x2)\n",
    "        fxr = f(xr)\n",
    "        \n",
    "        if abs(fxr) <= TOL:\n",
    "            print(\"Iterasi konvergen: akar ditemukan\")\n",
    "            return xr\n",
    "        \n",
    "        print(\"Iter = %5d, xr = %18.10f, abs(fxr) = %15.5e\" % (i, xr, abs(fxr)))\n",
    "    \n",
    "        # f1 dan fxr berbeda tanda\n",
    "        if f1*fxr < 0.0:\n",
    "            x2 = xr\n",
    "            f2 = fxr\n",
    "        else:\n",
    "            x1 = xr\n",
    "            f1 = fxr\n",
    "        \n",
    "    print(\"WARNING: Konvergensi tidak diperleh setelah %d iterasi\" % NiterMax)\n",
    "    print(\"WARNING: Nilai tebakan akhir akan dikembalikan\")\n",
    "    return xr"
   ]
  },
  {
   "cell_type": "code",
   "execution_count": 38,
   "metadata": {},
   "outputs": [
    {
     "name": "stdout",
     "output_type": "stream",
     "text": [
      "Iter =     1, xr =       1.0000000000, abs(fxr) =     4.00000e+00\n",
      "Iter =     2, xr =       0.5000000000, abs(fxr) =     3.75000e-01\n",
      "Iter =     3, xr =       0.2500000000, abs(fxr) =     7.34375e-01\n",
      "Iter =     4, xr =       0.3750000000, abs(fxr) =     1.89453e-01\n",
      "Iter =     5, xr =       0.4375000000, abs(fxr) =     8.66699e-02\n",
      "Iter =     6, xr =       0.4062500000, abs(fxr) =     5.24597e-02\n",
      "Iter =     7, xr =       0.4218750000, abs(fxr) =     1.67809e-02\n",
      "Iter =     8, xr =       0.4140625000, abs(fxr) =     1.79133e-02\n",
      "Iter =     9, xr =       0.4179687500, abs(fxr) =     5.85616e-04\n",
      "Iter =    10, xr =       0.4199218750, abs(fxr) =     8.09266e-03\n",
      "Iter =    11, xr =       0.4189453125, abs(fxr) =     3.75230e-03\n",
      "Iter =    12, xr =       0.4184570312, abs(fxr) =     1.58304e-03\n",
      "Iter =    13, xr =       0.4182128906, abs(fxr) =     4.98635e-04\n",
      "Iter =    14, xr =       0.4180908203, abs(fxr) =     4.35092e-05\n",
      "Iter =    15, xr =       0.4181518555, abs(fxr) =     2.27558e-04\n",
      "Iter =    16, xr =       0.4181213379, abs(fxr) =     9.20233e-05\n",
      "Iter =    17, xr =       0.4181060791, abs(fxr) =     2.42567e-05\n",
      "Iter =    18, xr =       0.4180984497, abs(fxr) =     9.62632e-06\n",
      "Iter =    19, xr =       0.4181022644, abs(fxr) =     7.31519e-06\n",
      "Iter =    20, xr =       0.4181003571, abs(fxr) =     1.15557e-06\n",
      "Iter =    21, xr =       0.4181013107, abs(fxr) =     3.07981e-06\n",
      "Iter =    22, xr =       0.4181008339, abs(fxr) =     9.62119e-07\n",
      "Iter =    23, xr =       0.4181005955, abs(fxr) =     9.67255e-08\n",
      "Iter =    24, xr =       0.4181007147, abs(fxr) =     4.32697e-07\n",
      "Iter =    25, xr =       0.4181006551, abs(fxr) =     1.67986e-07\n",
      "Iter =    26, xr =       0.4181006253, abs(fxr) =     3.56301e-08\n",
      "Iter =    27, xr =       0.4181006104, abs(fxr) =     3.05477e-08\n",
      "Iter =    28, xr =       0.4181006178, abs(fxr) =     2.54121e-09\n",
      "Iter =    29, xr =       0.4181006141, abs(fxr) =     1.40032e-08\n",
      "Iter =    30, xr =       0.4181006160, abs(fxr) =     5.73101e-09\n",
      "Iter =    31, xr =       0.4181006169, abs(fxr) =     1.59490e-09\n",
      "Iter =    32, xr =       0.4181006174, abs(fxr) =     4.73154e-10\n",
      "Iter =    33, xr =       0.4181006171, abs(fxr) =     5.60874e-10\n",
      "Iterasi konvergen: akar ditemukan\n"
     ]
    },
    {
     "data": {
      "text/plain": [
       "0.41810061724390835"
      ]
     },
     "execution_count": 38,
     "metadata": {},
     "output_type": "execute_result"
    }
   ],
   "source": [
    "bisection(func_01, 0.0, 2.0)"
   ]
  },
  {
   "cell_type": "markdown",
   "metadata": {},
   "source": [
    "## Soal no. 3"
   ]
  },
  {
   "cell_type": "markdown",
   "metadata": {},
   "source": [
    "$$\n",
    "K = \\frac{x}{1 - x}\\sqrt{\\frac{2p_t}{2 + x}}\n",
    "$$\n",
    "denga parameter $K = 0.4$ dan $p_t = 3.5$"
   ]
  },
  {
   "cell_type": "code",
   "execution_count": 40,
   "metadata": {},
   "outputs": [],
   "source": [
    "def soal_no_03(x):\n",
    "    K = 0.4\n",
    "    p_t = 3.5\n",
    "    return K - x/(1-x)*np.sqrt(2*p_t/(2 + x))"
   ]
  },
  {
   "cell_type": "code",
   "execution_count": 42,
   "metadata": {},
   "outputs": [
    {
     "data": {
      "image/png": "[encoded data removed]",
      "text/plain": [
       "<Figure size 432x288 with 1 Axes>"
      ]
     },
     "metadata": {
      "needs_background": "light"
     },
     "output_type": "display_data"
    }
   ],
   "source": [
    "plt.clf()\n",
    "xmin = 0.0\n",
    "xmax = 0.5\n",
    "x = np.linspace(xmin, xmax, 500)\n",
    "y = soal_no_03(x)\n",
    "plt.plot(x, y)\n",
    "plt.grid()"
   ]
  },
  {
   "cell_type": "code",
   "execution_count": 46,
   "metadata": {},
   "outputs": [
    {
     "name": "stdout",
     "output_type": "stream",
     "text": [
      "Iter =     1, xr =       0.2500000000, abs(fxr) =     1.87945e-01\n",
      "Iter =     2, xr =       0.1250000000, abs(fxr) =     1.40719e-01\n",
      "Iter =     3, xr =       0.1875000000, abs(fxr) =     1.28125e-02\n",
      "Iter =     4, xr =       0.1562500000, abs(fxr) =     6.63388e-02\n",
      "Iter =     5, xr =       0.1718750000, abs(fxr) =     2.73952e-02\n",
      "Iter =     6, xr =       0.1796875000, abs(fxr) =     7.45410e-03\n",
      "Iter =     7, xr =       0.1835937500, abs(fxr) =     2.63792e-03\n",
      "Iter =     8, xr =       0.1816406250, abs(fxr) =     2.41834e-03\n",
      "Iter =     9, xr =       0.1826171875, abs(fxr) =     1.07215e-04\n",
      "Iter =    10, xr =       0.1821289062, abs(fxr) =     1.15621e-03\n",
      "Iter =    11, xr =       0.1823730469, abs(fxr) =     5.24656e-04\n",
      "Iter =    12, xr =       0.1824951172, abs(fxr) =     2.08760e-04\n",
      "Iter =    13, xr =       0.1825561523, abs(fxr) =     5.07827e-05\n",
      "Iter =    14, xr =       0.1825866699, abs(fxr) =     2.82137e-05\n",
      "Iter =    15, xr =       0.1825714111, abs(fxr) =     1.12851e-05\n",
      "Iter =    16, xr =       0.1825790405, abs(fxr) =     8.46416e-06\n",
      "Iter =    17, xr =       0.1825752258, abs(fxr) =     1.41051e-06\n",
      "Iter =    18, xr =       0.1825771332, abs(fxr) =     3.52681e-06\n",
      "Iter =    19, xr =       0.1825761795, abs(fxr) =     1.05815e-06\n",
      "Iter =    20, xr =       0.1825757027, abs(fxr) =     1.76182e-07\n",
      "Iter =    21, xr =       0.1825759411, abs(fxr) =     4.40983e-07\n",
      "Iter =    22, xr =       0.1825758219, abs(fxr) =     1.32400e-07\n",
      "Iter =    23, xr =       0.1825757623, abs(fxr) =     2.18908e-08\n",
      "Iter =    24, xr =       0.1825757921, abs(fxr) =     5.52548e-08\n",
      "Iter =    25, xr =       0.1825757772, abs(fxr) =     1.66820e-08\n",
      "Iter =    26, xr =       0.1825757697, abs(fxr) =     2.60439e-09\n",
      "Iter =    27, xr =       0.1825757734, abs(fxr) =     7.03881e-09\n",
      "Iter =    28, xr =       0.1825757716, abs(fxr) =     2.21721e-09\n",
      "Iter =    29, xr =       0.1825757707, abs(fxr) =     1.93592e-10\n",
      "Iter =    30, xr =       0.1825757711, abs(fxr) =     1.01181e-09\n",
      "Iter =    31, xr =       0.1825757709, abs(fxr) =     4.09109e-10\n",
      "Iter =    32, xr =       0.1825757708, abs(fxr) =     1.07758e-10\n",
      "Iterasi konvergen: akar ditemukan\n"
     ]
    }
   ],
   "source": [
    "x_root = bisection(soal_no_03, 0.0, 0.5)"
   ]
  },
  {
   "cell_type": "markdown",
   "metadata": {},
   "source": [
    "Machine precision:"
   ]
  },
  {
   "cell_type": "code",
   "execution_count": 49,
   "metadata": {},
   "outputs": [],
   "source": [
    "eps_info = np.finfo(np.float64)"
   ]
  },
  {
   "cell_type": "code",
   "execution_count": 57,
   "metadata": {},
   "outputs": [
    {
     "data": {
      "text/plain": [
       "2.220446049250313e-16"
      ]
     },
     "execution_count": 57,
     "metadata": {},
     "output_type": "execute_result"
    }
   ],
   "source": [
    "eps_info.eps"
   ]
  },
  {
   "cell_type": "code",
   "execution_count": 68,
   "metadata": {},
   "outputs": [
    {
     "data": {
      "text/plain": [
       "1.0000000000000002"
      ]
     },
     "execution_count": 68,
     "metadata": {},
     "output_type": "execute_result"
    }
   ],
   "source": [
    "1.0 + eps_info.eps "
   ]
  },
  {
   "cell_type": "code",
   "execution_count": 73,
   "metadata": {},
   "outputs": [],
   "source": [
    "?np.float64"
   ]
  },
  {
   "cell_type": "markdown",
   "metadata": {},
   "source": [
    "Contoh penggunakan dengan TOL yang terlalu kecil (lebih kecil dari `eps`)."
   ]
  },
  {
   "cell_type": "code",
   "execution_count": 56,
   "metadata": {},
   "outputs": [
    {
     "name": "stdout",
     "output_type": "stream",
     "text": [
      "Iter =     1, xr =       0.2500000000, abs(fxr) =     1.87945e-01\n",
      "Iter =     2, xr =       0.1250000000, abs(fxr) =     1.40719e-01\n",
      "Iter =     3, xr =       0.1875000000, abs(fxr) =     1.28125e-02\n",
      "Iter =     4, xr =       0.1562500000, abs(fxr) =     6.63388e-02\n",
      "Iter =     5, xr =       0.1718750000, abs(fxr) =     2.73952e-02\n",
      "Iter =     6, xr =       0.1796875000, abs(fxr) =     7.45410e-03\n",
      "Iter =     7, xr =       0.1835937500, abs(fxr) =     2.63792e-03\n",
      "Iter =     8, xr =       0.1816406250, abs(fxr) =     2.41834e-03\n",
      "Iter =     9, xr =       0.1826171875, abs(fxr) =     1.07215e-04\n",
      "Iter =    10, xr =       0.1821289062, abs(fxr) =     1.15621e-03\n",
      "Iter =    11, xr =       0.1823730469, abs(fxr) =     5.24656e-04\n",
      "Iter =    12, xr =       0.1824951172, abs(fxr) =     2.08760e-04\n",
      "Iter =    13, xr =       0.1825561523, abs(fxr) =     5.07827e-05\n",
      "Iter =    14, xr =       0.1825866699, abs(fxr) =     2.82137e-05\n",
      "Iter =    15, xr =       0.1825714111, abs(fxr) =     1.12851e-05\n",
      "Iter =    16, xr =       0.1825790405, abs(fxr) =     8.46416e-06\n",
      "Iter =    17, xr =       0.1825752258, abs(fxr) =     1.41051e-06\n",
      "Iter =    18, xr =       0.1825771332, abs(fxr) =     3.52681e-06\n",
      "Iter =    19, xr =       0.1825761795, abs(fxr) =     1.05815e-06\n",
      "Iter =    20, xr =       0.1825757027, abs(fxr) =     1.76182e-07\n",
      "Iter =    21, xr =       0.1825759411, abs(fxr) =     4.40983e-07\n",
      "Iter =    22, xr =       0.1825758219, abs(fxr) =     1.32400e-07\n",
      "Iter =    23, xr =       0.1825757623, abs(fxr) =     2.18908e-08\n",
      "Iter =    24, xr =       0.1825757921, abs(fxr) =     5.52548e-08\n",
      "Iter =    25, xr =       0.1825757772, abs(fxr) =     1.66820e-08\n",
      "Iter =    26, xr =       0.1825757697, abs(fxr) =     2.60439e-09\n",
      "Iter =    27, xr =       0.1825757734, abs(fxr) =     7.03881e-09\n",
      "Iter =    28, xr =       0.1825757716, abs(fxr) =     2.21721e-09\n",
      "Iter =    29, xr =       0.1825757707, abs(fxr) =     1.93592e-10\n",
      "Iter =    30, xr =       0.1825757711, abs(fxr) =     1.01181e-09\n",
      "Iter =    31, xr =       0.1825757709, abs(fxr) =     4.09109e-10\n",
      "Iter =    32, xr =       0.1825757708, abs(fxr) =     1.07758e-10\n",
      "Iter =    33, xr =       0.1825757707, abs(fxr) =     4.29167e-11\n",
      "Iter =    34, xr =       0.1825757707, abs(fxr) =     3.24208e-11\n",
      "Iter =    35, xr =       0.1825757707, abs(fxr) =     5.24791e-12\n",
      "Iter =    36, xr =       0.1825757707, abs(fxr) =     1.35865e-11\n",
      "Iter =    37, xr =       0.1825757707, abs(fxr) =     4.16928e-12\n",
      "Iter =    38, xr =       0.1825757707, abs(fxr) =     5.39346e-13\n",
      "Iter =    39, xr =       0.1825757707, abs(fxr) =     1.81505e-12\n",
      "Iter =    40, xr =       0.1825757707, abs(fxr) =     6.37823e-13\n",
      "Iter =    41, xr =       0.1825757707, abs(fxr) =     4.92384e-14\n",
      "Iter =    42, xr =       0.1825757707, abs(fxr) =     2.45026e-13\n",
      "Iter =    43, xr =       0.1825757707, abs(fxr) =     9.78662e-14\n",
      "Iter =    44, xr =       0.1825757707, abs(fxr) =     2.43139e-14\n",
      "Iter =    45, xr =       0.1825757707, abs(fxr) =     1.24900e-14\n",
      "Iter =    46, xr =       0.1825757707, abs(fxr) =     5.88418e-15\n",
      "Iter =    47, xr =       0.1825757707, abs(fxr) =     3.27516e-15\n",
      "Iter =    48, xr =       0.1825757707, abs(fxr) =     1.33227e-15\n",
      "Iter =    49, xr =       0.1825757707, abs(fxr) =     9.99201e-16\n",
      "Iter =    50, xr =       0.1825757707, abs(fxr) =     1.66533e-16\n",
      "Iter =    51, xr =       0.1825757707, abs(fxr) =     4.44089e-16\n",
      "Iter =    52, xr =       0.1825757707, abs(fxr) =     1.11022e-16\n",
      "Iter =    53, xr =       0.1825757707, abs(fxr) =     5.55112e-17\n",
      "Iter =    54, xr =       0.1825757707, abs(fxr) =     5.55112e-17\n",
      "Iter =    55, xr =       0.1825757707, abs(fxr) =     5.55112e-17\n",
      "Iter =    56, xr =       0.1825757707, abs(fxr) =     5.55112e-17\n",
      "Iter =    57, xr =       0.1825757707, abs(fxr) =     5.55112e-17\n",
      "Iter =    58, xr =       0.1825757707, abs(fxr) =     5.55112e-17\n",
      "Iter =    59, xr =       0.1825757707, abs(fxr) =     5.55112e-17\n",
      "Iter =    60, xr =       0.1825757707, abs(fxr) =     5.55112e-17\n",
      "Iter =    61, xr =       0.1825757707, abs(fxr) =     5.55112e-17\n",
      "Iter =    62, xr =       0.1825757707, abs(fxr) =     5.55112e-17\n",
      "Iter =    63, xr =       0.1825757707, abs(fxr) =     5.55112e-17\n",
      "Iter =    64, xr =       0.1825757707, abs(fxr) =     5.55112e-17\n",
      "Iter =    65, xr =       0.1825757707, abs(fxr) =     5.55112e-17\n",
      "Iter =    66, xr =       0.1825757707, abs(fxr) =     5.55112e-17\n",
      "Iter =    67, xr =       0.1825757707, abs(fxr) =     5.55112e-17\n",
      "Iter =    68, xr =       0.1825757707, abs(fxr) =     5.55112e-17\n",
      "Iter =    69, xr =       0.1825757707, abs(fxr) =     5.55112e-17\n",
      "Iter =    70, xr =       0.1825757707, abs(fxr) =     5.55112e-17\n",
      "Iter =    71, xr =       0.1825757707, abs(fxr) =     5.55112e-17\n",
      "Iter =    72, xr =       0.1825757707, abs(fxr) =     5.55112e-17\n",
      "Iter =    73, xr =       0.1825757707, abs(fxr) =     5.55112e-17\n",
      "Iter =    74, xr =       0.1825757707, abs(fxr) =     5.55112e-17\n",
      "Iter =    75, xr =       0.1825757707, abs(fxr) =     5.55112e-17\n",
      "Iter =    76, xr =       0.1825757707, abs(fxr) =     5.55112e-17\n",
      "Iter =    77, xr =       0.1825757707, abs(fxr) =     5.55112e-17\n",
      "Iter =    78, xr =       0.1825757707, abs(fxr) =     5.55112e-17\n",
      "Iter =    79, xr =       0.1825757707, abs(fxr) =     5.55112e-17\n",
      "Iter =    80, xr =       0.1825757707, abs(fxr) =     5.55112e-17\n",
      "Iter =    81, xr =       0.1825757707, abs(fxr) =     5.55112e-17\n",
      "Iter =    82, xr =       0.1825757707, abs(fxr) =     5.55112e-17\n",
      "Iter =    83, xr =       0.1825757707, abs(fxr) =     5.55112e-17\n",
      "Iter =    84, xr =       0.1825757707, abs(fxr) =     5.55112e-17\n",
      "Iter =    85, xr =       0.1825757707, abs(fxr) =     5.55112e-17\n",
      "Iter =    86, xr =       0.1825757707, abs(fxr) =     5.55112e-17\n",
      "Iter =    87, xr =       0.1825757707, abs(fxr) =     5.55112e-17\n",
      "Iter =    88, xr =       0.1825757707, abs(fxr) =     5.55112e-17\n",
      "Iter =    89, xr =       0.1825757707, abs(fxr) =     5.55112e-17\n",
      "Iter =    90, xr =       0.1825757707, abs(fxr) =     5.55112e-17\n",
      "Iter =    91, xr =       0.1825757707, abs(fxr) =     5.55112e-17\n",
      "Iter =    92, xr =       0.1825757707, abs(fxr) =     5.55112e-17\n",
      "Iter =    93, xr =       0.1825757707, abs(fxr) =     5.55112e-17\n",
      "Iter =    94, xr =       0.1825757707, abs(fxr) =     5.55112e-17\n",
      "Iter =    95, xr =       0.1825757707, abs(fxr) =     5.55112e-17\n",
      "Iter =    96, xr =       0.1825757707, abs(fxr) =     5.55112e-17\n",
      "Iter =    97, xr =       0.1825757707, abs(fxr) =     5.55112e-17\n",
      "Iter =    98, xr =       0.1825757707, abs(fxr) =     5.55112e-17\n",
      "Iter =    99, xr =       0.1825757707, abs(fxr) =     5.55112e-17\n",
      "Iter =   100, xr =       0.1825757707, abs(fxr) =     5.55112e-17\n",
      "Iter =   101, xr =       0.1825757707, abs(fxr) =     5.55112e-17\n",
      "Iter =   102, xr =       0.1825757707, abs(fxr) =     5.55112e-17\n",
      "Iter =   103, xr =       0.1825757707, abs(fxr) =     5.55112e-17\n",
      "Iter =   104, xr =       0.1825757707, abs(fxr) =     5.55112e-17\n",
      "Iter =   105, xr =       0.1825757707, abs(fxr) =     5.55112e-17\n",
      "Iter =   106, xr =       0.1825757707, abs(fxr) =     5.55112e-17\n",
      "Iter =   107, xr =       0.1825757707, abs(fxr) =     5.55112e-17\n",
      "Iter =   108, xr =       0.1825757707, abs(fxr) =     5.55112e-17\n",
      "Iter =   109, xr =       0.1825757707, abs(fxr) =     5.55112e-17\n",
      "Iter =   110, xr =       0.1825757707, abs(fxr) =     5.55112e-17\n",
      "Iter =   111, xr =       0.1825757707, abs(fxr) =     5.55112e-17\n",
      "Iter =   112, xr =       0.1825757707, abs(fxr) =     5.55112e-17\n",
      "Iter =   113, xr =       0.1825757707, abs(fxr) =     5.55112e-17\n",
      "Iter =   114, xr =       0.1825757707, abs(fxr) =     5.55112e-17\n",
      "Iter =   115, xr =       0.1825757707, abs(fxr) =     5.55112e-17\n",
      "Iter =   116, xr =       0.1825757707, abs(fxr) =     5.55112e-17\n",
      "Iter =   117, xr =       0.1825757707, abs(fxr) =     5.55112e-17\n",
      "Iter =   118, xr =       0.1825757707, abs(fxr) =     5.55112e-17\n",
      "Iter =   119, xr =       0.1825757707, abs(fxr) =     5.55112e-17\n",
      "Iter =   120, xr =       0.1825757707, abs(fxr) =     5.55112e-17\n",
      "Iter =   121, xr =       0.1825757707, abs(fxr) =     5.55112e-17\n",
      "Iter =   122, xr =       0.1825757707, abs(fxr) =     5.55112e-17\n",
      "Iter =   123, xr =       0.1825757707, abs(fxr) =     5.55112e-17\n",
      "Iter =   124, xr =       0.1825757707, abs(fxr) =     5.55112e-17\n",
      "Iter =   125, xr =       0.1825757707, abs(fxr) =     5.55112e-17\n",
      "Iter =   126, xr =       0.1825757707, abs(fxr) =     5.55112e-17\n",
      "Iter =   127, xr =       0.1825757707, abs(fxr) =     5.55112e-17\n",
      "Iter =   128, xr =       0.1825757707, abs(fxr) =     5.55112e-17\n",
      "Iter =   129, xr =       0.1825757707, abs(fxr) =     5.55112e-17\n",
      "Iter =   130, xr =       0.1825757707, abs(fxr) =     5.55112e-17\n",
      "Iter =   131, xr =       0.1825757707, abs(fxr) =     5.55112e-17\n",
      "Iter =   132, xr =       0.1825757707, abs(fxr) =     5.55112e-17\n",
      "Iter =   133, xr =       0.1825757707, abs(fxr) =     5.55112e-17\n",
      "Iter =   134, xr =       0.1825757707, abs(fxr) =     5.55112e-17\n",
      "Iter =   135, xr =       0.1825757707, abs(fxr) =     5.55112e-17\n",
      "Iter =   136, xr =       0.1825757707, abs(fxr) =     5.55112e-17\n",
      "Iter =   137, xr =       0.1825757707, abs(fxr) =     5.55112e-17\n",
      "Iter =   138, xr =       0.1825757707, abs(fxr) =     5.55112e-17\n",
      "Iter =   139, xr =       0.1825757707, abs(fxr) =     5.55112e-17\n",
      "Iter =   140, xr =       0.1825757707, abs(fxr) =     5.55112e-17\n",
      "Iter =   141, xr =       0.1825757707, abs(fxr) =     5.55112e-17\n",
      "Iter =   142, xr =       0.1825757707, abs(fxr) =     5.55112e-17\n",
      "Iter =   143, xr =       0.1825757707, abs(fxr) =     5.55112e-17\n",
      "Iter =   144, xr =       0.1825757707, abs(fxr) =     5.55112e-17\n",
      "Iter =   145, xr =       0.1825757707, abs(fxr) =     5.55112e-17\n",
      "Iter =   146, xr =       0.1825757707, abs(fxr) =     5.55112e-17\n",
      "Iter =   147, xr =       0.1825757707, abs(fxr) =     5.55112e-17\n",
      "Iter =   148, xr =       0.1825757707, abs(fxr) =     5.55112e-17\n",
      "Iter =   149, xr =       0.1825757707, abs(fxr) =     5.55112e-17\n",
      "Iter =   150, xr =       0.1825757707, abs(fxr) =     5.55112e-17\n",
      "Iter =   151, xr =       0.1825757707, abs(fxr) =     5.55112e-17\n",
      "Iter =   152, xr =       0.1825757707, abs(fxr) =     5.55112e-17\n",
      "Iter =   153, xr =       0.1825757707, abs(fxr) =     5.55112e-17\n",
      "Iter =   154, xr =       0.1825757707, abs(fxr) =     5.55112e-17\n",
      "Iter =   155, xr =       0.1825757707, abs(fxr) =     5.55112e-17\n",
      "Iter =   156, xr =       0.1825757707, abs(fxr) =     5.55112e-17\n",
      "Iter =   157, xr =       0.1825757707, abs(fxr) =     5.55112e-17\n",
      "Iter =   158, xr =       0.1825757707, abs(fxr) =     5.55112e-17\n",
      "Iter =   159, xr =       0.1825757707, abs(fxr) =     5.55112e-17\n",
      "Iter =   160, xr =       0.1825757707, abs(fxr) =     5.55112e-17\n",
      "Iter =   161, xr =       0.1825757707, abs(fxr) =     5.55112e-17\n",
      "Iter =   162, xr =       0.1825757707, abs(fxr) =     5.55112e-17\n",
      "Iter =   163, xr =       0.1825757707, abs(fxr) =     5.55112e-17\n",
      "Iter =   164, xr =       0.1825757707, abs(fxr) =     5.55112e-17\n",
      "Iter =   165, xr =       0.1825757707, abs(fxr) =     5.55112e-17\n",
      "Iter =   166, xr =       0.1825757707, abs(fxr) =     5.55112e-17\n",
      "Iter =   167, xr =       0.1825757707, abs(fxr) =     5.55112e-17\n",
      "Iter =   168, xr =       0.1825757707, abs(fxr) =     5.55112e-17\n",
      "Iter =   169, xr =       0.1825757707, abs(fxr) =     5.55112e-17\n",
      "Iter =   170, xr =       0.1825757707, abs(fxr) =     5.55112e-17\n",
      "Iter =   171, xr =       0.1825757707, abs(fxr) =     5.55112e-17\n",
      "Iter =   172, xr =       0.1825757707, abs(fxr) =     5.55112e-17\n",
      "Iter =   173, xr =       0.1825757707, abs(fxr) =     5.55112e-17\n",
      "Iter =   174, xr =       0.1825757707, abs(fxr) =     5.55112e-17\n",
      "Iter =   175, xr =       0.1825757707, abs(fxr) =     5.55112e-17\n",
      "Iter =   176, xr =       0.1825757707, abs(fxr) =     5.55112e-17\n",
      "Iter =   177, xr =       0.1825757707, abs(fxr) =     5.55112e-17\n",
      "Iter =   178, xr =       0.1825757707, abs(fxr) =     5.55112e-17\n",
      "Iter =   179, xr =       0.1825757707, abs(fxr) =     5.55112e-17\n",
      "Iter =   180, xr =       0.1825757707, abs(fxr) =     5.55112e-17\n",
      "Iter =   181, xr =       0.1825757707, abs(fxr) =     5.55112e-17\n",
      "Iter =   182, xr =       0.1825757707, abs(fxr) =     5.55112e-17\n",
      "Iter =   183, xr =       0.1825757707, abs(fxr) =     5.55112e-17\n",
      "Iter =   184, xr =       0.1825757707, abs(fxr) =     5.55112e-17\n",
      "Iter =   185, xr =       0.1825757707, abs(fxr) =     5.55112e-17\n",
      "Iter =   186, xr =       0.1825757707, abs(fxr) =     5.55112e-17\n",
      "Iter =   187, xr =       0.1825757707, abs(fxr) =     5.55112e-17\n",
      "Iter =   188, xr =       0.1825757707, abs(fxr) =     5.55112e-17\n",
      "Iter =   189, xr =       0.1825757707, abs(fxr) =     5.55112e-17\n",
      "Iter =   190, xr =       0.1825757707, abs(fxr) =     5.55112e-17\n",
      "Iter =   191, xr =       0.1825757707, abs(fxr) =     5.55112e-17\n",
      "Iter =   192, xr =       0.1825757707, abs(fxr) =     5.55112e-17\n",
      "Iter =   193, xr =       0.1825757707, abs(fxr) =     5.55112e-17\n",
      "Iter =   194, xr =       0.1825757707, abs(fxr) =     5.55112e-17\n",
      "Iter =   195, xr =       0.1825757707, abs(fxr) =     5.55112e-17\n",
      "Iter =   196, xr =       0.1825757707, abs(fxr) =     5.55112e-17\n",
      "Iter =   197, xr =       0.1825757707, abs(fxr) =     5.55112e-17\n",
      "Iter =   198, xr =       0.1825757707, abs(fxr) =     5.55112e-17\n",
      "Iter =   199, xr =       0.1825757707, abs(fxr) =     5.55112e-17\n",
      "Iter =   200, xr =       0.1825757707, abs(fxr) =     5.55112e-17\n",
      "WARNING: Konvergensi tidak diperleh setelah 200 iterasi\n",
      "WARNING: Nilai tebakan akhir akan dikembalikan\n"
     ]
    },
    {
     "data": {
      "text/plain": [
       "0.18257577072857117"
      ]
     },
     "execution_count": 56,
     "metadata": {},
     "output_type": "execute_result"
    }
   ],
   "source": [
    "bisection(soal_no_03, 0.0, 0.5, TOL=1e-20, NiterMax=200)"
   ]
  },
  {
   "cell_type": "markdown",
   "metadata": {},
   "source": [
    "## Menggunakan scipy"
   ]
  },
  {
   "cell_type": "markdown",
   "metadata": {},
   "source": [
    "Menggunakan fungsi `scipy.optimize.root`"
   ]
  },
  {
   "cell_type": "code",
   "execution_count": 58,
   "metadata": {},
   "outputs": [],
   "source": [
    "import scipy.optimize"
   ]
  },
  {
   "cell_type": "markdown",
   "metadata": {},
   "source": [
    "Perlu tebakan akar awal."
   ]
  },
  {
   "cell_type": "code",
   "execution_count": 63,
   "metadata": {},
   "outputs": [
    {
     "name": "stdout",
     "output_type": "stream",
     "text": [
      "Akar adalah:       0.1825757707\n"
     ]
    }
   ],
   "source": [
    "result = scipy.optimize.root(soal_no_03, 0.0)\n",
    "print(\"Akar adalah: %18.10f\" % result.x)"
   ]
  },
  {
   "cell_type": "markdown",
   "metadata": {},
   "source": [
    "## Metode Muller"
   ]
  },
  {
   "cell_type": "markdown",
   "metadata": {},
   "source": [
    "Ingat bahwa metode secant mendapatkan estimasi akar dengan cara melakukan proyeksi garis lurus (persamaan linear) pada sumbu $x$ yang melalui dua nilai titik. Metode Muller menggunakan pendekatan yang sama, namun dengan memproyeksikan sebuah parabola (persamaan kuadrat) yang melalui tiga titik. Misalkan parabola tersebut memiliki persamaan sebagai berikut:\n",
    "\n",
    "$$\n",
    "f(x) = a(x - x_2)^2 + b(x - x_2) + c\n",
    "$$"
   ]
  },
  {
   "cell_type": "markdown",
   "metadata": {},
   "source": [
    "Kita ingin persamaan ini melewati tiga titik: $[x_0, f(x_0)]$, $[x_1, f(x_1)]$ dan $[x_2, f(x_2)]$ atau:\n",
    "\n",
    "$$\n",
    "f(x_0) = a(x_0 - x_2)^2 + b(x_0 - x_2) + c \\\\\n",
    "f(x_1) = a(x_1 - x_2)^2 + b(x_1 - x_2) + c \\\\\n",
    "f(x_2) = a(x_2 - x_2)^2 + b(x_2 - x_2) + c\n",
    "$$"
   ]
  },
  {
   "cell_type": "markdown",
   "metadata": {},
   "source": [
    "Koefisien $c$ tidak lain adalah nilai fungsi yang dievaluasi pada tebakan ketiga yaitu $f(x_2)$. Substitusi pada dua persamaan sebelumnya sehingga diperoleh:\n",
    "\n",
    "$$\n",
    "f(x_0) - f(x_2) = a(x_0 - x_2)^2 + b(x_0 - x_2) \\\\\n",
    "f(x_1) - f(x_2) = a(x_1 - x_2)^2 + b(x_1 - x_2)\n",
    "$$"
   ]
  },
  {
   "cell_type": "markdown",
   "metadata": {},
   "source": [
    "Dengan definisi-definisi berikut:\n",
    "\n",
    "$$\n",
    "h_0 = x_1 - x_0 \\\\\n",
    "h_1 = x_2 - x_1 \\\\\n",
    "\\delta_0 = \\frac{f(x_1) - f(x_0)}{x_1 - x_0} \\\\\n",
    "\\delta_1 = \\frac{f(x_2) - f(x_1)}{x_2 - x_1}\n",
    "$$\n",
    "\n",
    "diperoleh:\n",
    "\n",
    "$$\n",
    "\\begin{align}\n",
    "(h_0 + h_1)b - (h_0 + h_1)^2 a & = h_0 \\delta_0 + h_1 \\delta_1 \\\\\n",
    "h_1 b - h_1^2 a & = h_{1} \\delta_{1}\n",
    "\\end{align}\n",
    "$$\n",
    "\n",
    "yang dapat diselesaikan untuk mendapatkan nilai $a$ dan $b$:\n",
    "\n",
    "$$\n",
    "\\begin{align}\n",
    "a & = \\frac{\\delta_1 - \\delta_0}{h_1 + h_0} \\\\\n",
    "b & = ah_1 + \\delta_1 \\\\\n",
    "c & = f(x_2)\n",
    "\\end{align}\n",
    "$$"
   ]
  },
  {
   "cell_type": "markdown",
   "metadata": {},
   "source": [
    "Setelah diperoleh koefisien-koefisien untuk persamaan kuadrat kita dapat memperoleh akar-akar dari persamaan kuadrat:\n",
    "\n",
    "$$\n",
    "x_3 = x_2 + \\frac{2c}{b \\pm \\sqrt{b^2 - 4ac}}\n",
    "$$\n",
    "\n",
    "Estimasi error:\n",
    "$$\n",
    "\\epsilon_a = \\left| \\frac{x_3 -x_2}{x_3} \\right|\n",
    "$$\n",
    "\n",
    "Persamaan ini akan menghasilkan sepasang akar. Pada Metode Muller, tanda dari akar dipilih agar sama dengan tanda dari $b$. Pilihan ini akan menghasilkan penyebut yang paling besar sehingga estimasi akar adalah yang paling dekat ke $x_2$. Ketika $x_3$ telah ditentukan proses akan diulangi sehingga perlu ada nilai yang dibuang.\n",
    "\n",
    "- Jika hanya akar real yang ingin ditemukan, maka dua titik awal yang dipilih adalah yang paling dekat dengan estimasi akar baru $x_3$.\n",
    "- Jika baik akar real dan kompleks yang ingin ditentukan, maka pendekatan sekuensial yang digunakan, yaitu: $x_1$, $x_2$, dan $x_3$ menggantikan $x_0$, $x_{1}$, dan $x_2$."
   ]
  },
  {
   "cell_type": "code",
   "execution_count": 84,
   "metadata": {},
   "outputs": [
    {
     "name": "stdout",
     "output_type": "stream",
     "text": [
      "iteration =   1    x_r =       4.0138225476      4.8608456193e-01\n",
      "iteration =   2    x_r =       4.0003839105      1.3438635179e-02\n",
      "iteration =   3    x_r =       3.9999998483      5.3087764300e-06\n",
      "iteration =   4    x_r =       4.0000000000      8.1001871877e-13\n"
     ]
    }
   ],
   "source": [
    "# Chapra 7th ed. halaman 200\n",
    "\n",
    "def quadratic_poly(a, b, c, x2, x):\n",
    "    return a*(x - x2)**2 + b*(x - x2) + c\n",
    "\n",
    "def f(x):\n",
    "    return x**3 - 13*x - 12\n",
    "\n",
    "TOL = 1e-10\n",
    "\n",
    "# Tebakan akar\n",
    "x0 = 4.5 # 1.0\n",
    "x1 = 3.0 #5.5\n",
    "x2 = 5.0 #5.0\n",
    "\n",
    "for i in range(1,10):\n",
    "\n",
    "    h0 = x1 - x0\n",
    "    h1 = x2 - x1\n",
    "\n",
    "    d0 = ( f(x1) - f(x0) ) / h0\n",
    "    d1 = ( f(x2) - f(x1) ) / h1\n",
    "\n",
    "    # Koefisien parabola\n",
    "    a = (d1 - d0) / (h1 + h0)\n",
    "    b = a*h1 + d1\n",
    "    c = f(x2)\n",
    "\n",
    "    D = np.sqrt(b*b - 4*a*c)\n",
    "    if abs(b + D) > abs(b - D):\n",
    "        denum = b + D\n",
    "    else:\n",
    "        denum = b - D\n",
    "\n",
    "    dx_r = -2*c/denum\n",
    "    x_r = x2 + dx_r\n",
    "\n",
    "    print(\"iteration = %3d    x_r = %18.10f    %18.10e\" % (i, x_r, abs(f(x_r))))\n",
    "\n",
    "    if abs(f(x_r)) <= abs(TOL):\n",
    "        break\n",
    "\n",
    "    x0 = x1\n",
    "    x1 = x2\n",
    "    x2 = x_r\n"
   ]
  },
  {
   "cell_type": "code",
   "execution_count": null,
   "metadata": {},
   "outputs": [],
   "source": []
  },
  {
   "cell_type": "code",
   "execution_count": null,
   "metadata": {},
   "outputs": [],
   "source": []
  },
  {
   "cell_type": "code",
   "execution_count": null,
   "metadata": {},
   "outputs": [],
   "source": []
  }
 ],
 "metadata": {
  "kernelspec": {
   "display_name": "Python 3",
   "language": "python",
   "name": "python3"
  },
  "language_info": {
   "codemirror_mode": {
    "name": "ipython",
    "version": 3
   },
   "file_extension": ".py",
   "mimetype": "text/x-python",
   "name": "python",
   "nbconvert_exporter": "python",
   "pygments_lexer": "ipython3",
   "version": "3.7.3"
  }
 },
 "nbformat": 4,
 "nbformat_minor": 2
}
