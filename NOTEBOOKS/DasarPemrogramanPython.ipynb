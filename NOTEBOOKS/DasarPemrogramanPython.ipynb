{
 "cells": [
  {
   "cell_type": "markdown",
   "metadata": {},
   "source": [
    "<h1 style=\"text-align:center;\">Dasar Pemrograman Python</h1>\n",
    "<h3 style=\"text-align:center;\">Fadjar Fathurrahman</h3>"
   ]
  },
  {
   "cell_type": "markdown",
   "metadata": {},
   "source": [
    "# Beberapa cara menggunakan Python"
   ]
  },
  {
   "cell_type": "markdown",
   "metadata": {},
   "source": [
    "Beberapa cara untuk menggunakan Python:\n",
    "\n",
    "1. Interpreter atau konsol Python standard.\n",
    "2. Konsol interaktif Python (IPython).\n",
    "3. Jupyter notebook dan Jupyter lab.\n",
    "4. Menggunakan IDE.\n",
    "\n",
    "Dokumen ini dibuat dengan menggunakan Jupyter notebook. Dengan menggunakan Jupyter notebook, kita dapat menggabungkan antara narasi teks dan kode."
   ]
  },
  {
   "cell_type": "markdown",
   "metadata": {},
   "source": [
    "# Menggunakan Python sebagai kalkulator"
   ]
  },
  {
   "cell_type": "markdown",
   "metadata": {},
   "source": [
    "## Operasi aritmatika sederhana"
   ]
  },
  {
   "cell_type": "markdown",
   "metadata": {},
   "source": [
    "Python dapat digunakan sebagai kalkulator untuk melakukan berbagai perhitungan matematika."
   ]
  },
  {
   "cell_type": "markdown",
   "metadata": {},
   "source": [
    "Penjumlahan:"
   ]
  },
  {
   "cell_type": "code",
   "execution_count": 1,
   "metadata": {},
   "outputs": [
    {
     "data": {
      "text/plain": [
       "5"
      ]
     },
     "execution_count": 1,
     "metadata": {},
     "output_type": "execute_result"
    }
   ],
   "source": [
    "2 + 3"
   ]
  },
  {
   "cell_type": "markdown",
   "metadata": {},
   "source": [
    "Pengurangan"
   ]
  },
  {
   "cell_type": "code",
   "execution_count": 2,
   "metadata": {},
   "outputs": [
    {
     "data": {
      "text/plain": [
       "-1.1"
      ]
     },
     "execution_count": 2,
     "metadata": {},
     "output_type": "execute_result"
    }
   ],
   "source": [
    "2 - 3.1"
   ]
  },
  {
   "cell_type": "markdown",
   "metadata": {},
   "source": [
    "Perkalian"
   ]
  },
  {
   "cell_type": "code",
   "execution_count": 3,
   "metadata": {},
   "outputs": [
    {
     "data": {
      "text/plain": [
       "28.52"
      ]
     },
     "execution_count": 3,
     "metadata": {},
     "output_type": "execute_result"
    }
   ],
   "source": [
    "2.3*4*3.1"
   ]
  },
  {
   "cell_type": "markdown",
   "metadata": {},
   "source": [
    "Pembagian"
   ]
  },
  {
   "cell_type": "code",
   "execution_count": 4,
   "metadata": {},
   "outputs": [
    {
     "data": {
      "text/plain": [
       "0.6666666666666666"
      ]
     },
     "execution_count": 4,
     "metadata": {},
     "output_type": "execute_result"
    }
   ],
   "source": [
    "2/3"
   ]
  },
  {
   "cell_type": "markdown",
   "metadata": {},
   "source": [
    "Selain pembagian biasa, Python juga menyediakan operator untuk pembagian bilangan bulat (integer)"
   ]
  },
  {
   "cell_type": "code",
   "execution_count": 5,
   "metadata": {},
   "outputs": [
    {
     "data": {
      "text/plain": [
       "0"
      ]
     },
     "execution_count": 5,
     "metadata": {},
     "output_type": "execute_result"
    }
   ],
   "source": [
    "2//3"
   ]
  },
  {
   "cell_type": "code",
   "execution_count": 6,
   "metadata": {},
   "outputs": [
    {
     "data": {
      "text/plain": [
       "1"
      ]
     },
     "execution_count": 6,
     "metadata": {},
     "output_type": "execute_result"
    }
   ],
   "source": [
    "4//3"
   ]
  },
  {
   "cell_type": "markdown",
   "metadata": {},
   "source": [
    "Operator modulo (sisa pembagian)"
   ]
  },
  {
   "cell_type": "code",
   "execution_count": 7,
   "metadata": {},
   "outputs": [
    {
     "data": {
      "text/plain": [
       "1"
      ]
     },
     "execution_count": 7,
     "metadata": {},
     "output_type": "execute_result"
    }
   ],
   "source": [
    "4%3"
   ]
  },
  {
   "cell_type": "code",
   "execution_count": 8,
   "metadata": {},
   "outputs": [
    {
     "data": {
      "text/plain": [
       "2"
      ]
     },
     "execution_count": 8,
     "metadata": {},
     "output_type": "execute_result"
    }
   ],
   "source": [
    "100%7"
   ]
  },
  {
   "cell_type": "code",
   "execution_count": 9,
   "metadata": {},
   "outputs": [
    {
     "data": {
      "text/plain": [
       "0"
      ]
     },
     "execution_count": 9,
     "metadata": {},
     "output_type": "execute_result"
    }
   ],
   "source": [
    "10%5"
   ]
  },
  {
   "cell_type": "markdown",
   "metadata": {},
   "source": [
    "Untuk melakukan beberapa operasi perhitungan sekaligus dalam satu input bisa digunakan tanda koma:"
   ]
  },
  {
   "cell_type": "code",
   "execution_count": 10,
   "metadata": {},
   "outputs": [
    {
     "data": {
      "text/plain": [
       "(14, 2)"
      ]
     },
     "execution_count": 10,
     "metadata": {},
     "output_type": "execute_result"
    }
   ],
   "source": [
    "100//7, 100%7"
   ]
  },
  {
   "cell_type": "code",
   "execution_count": 11,
   "metadata": {},
   "outputs": [
    {
     "data": {
      "text/plain": [
       "100"
      ]
     },
     "execution_count": 11,
     "metadata": {},
     "output_type": "execute_result"
    }
   ],
   "source": [
    "14*7 + 2"
   ]
  },
  {
   "cell_type": "markdown",
   "metadata": {},
   "source": [
    "## Komentar"
   ]
  },
  {
   "cell_type": "markdown",
   "metadata": {},
   "source": [
    "Komentar perbaris pada Python dapat ditandai dengan simbol `#`.\n",
    "\n",
    "Contoh:\n",
    "\n",
    "```python\n",
    "# Ini komentar\n",
    "a = 3 + 7 # ini juga komentar\n",
    "```"
   ]
  },
  {
   "cell_type": "markdown",
   "metadata": {},
   "source": [
    "## Fungsi-fungsi matematika"
   ]
  },
  {
   "cell_type": "markdown",
   "metadata": {},
   "source": [
    "Fungsi-fungsi matematika seperti sin, cos, log, exp dan sebagainya dapat diakses dengan cara mengimport modul `math`. Dalam modul ini juga didefinisikan beberapa konstanta seperti bilangan $\\pi$ dan konstanta Euler $e$.\n",
    "\n",
    "Ada beberapa sintaks untuk mengimpor modul.\n",
    "\n",
    "**Cara 1**\n",
    "\n",
    "```python\n",
    "from nama_module import nama_fungsi1, nama_fungsi2, konstanta1\n",
    "```\n",
    "\n",
    "Dengan cara ini, kita dapat langsung menggunakan `nama_fungsi1`, `nama_fungsi1`, `nama_fungsi2` dan `konstanta1` pada kode. Fungsi-fungsi lain yang tidak kita impor tidak bisa digunakan, meskipun fungsi atau konstanta tersebut ada pada modul yang bersangkutan. Contoh:\n",
    "\n",
    "```python\n",
    "from math import sin, cos\n",
    "```\n",
    "\n",
    "Dengan kode di atas kita hanya mengimport fungsi `sin` dan `cos`, sedangkan fungsi-fungsi lain seperti `tan`, `log`, dan sebagainya tidak akan diimpor (tidak terdefinisi pada sesi atau scope yang sedang aktif).\n",
    "\n",
    "Jika Anda ingin mengimport semua simbol (konstanta dan fungsi) dapat dilakukan dengan menggunakan *wildcard* `*`:\n",
    "\n",
    "```python\n",
    "from math import * # mengimport semua simbol dari modul math\n",
    "```\n",
    "\n",
    "**Cara 2**\n",
    "\n",
    "```python\n",
    "import math\n",
    "```\n",
    "\n",
    "Dengan cara ini kita tidak mengimpor fungsi apapun, namun hanya modul `math` saja. Meskipun demikian kita dapat menggunakan fungsi yang didefinisikan pada modul `math` dengan menggunakan `math.nama_fungsi` atau `math.nama_konstanta`, misalnya:\n",
    "\n",
    "```python\n",
    "math.pi     # mengakses konstanta pi\n",
    "math.sin(math.pi/3) # memanggil fungsi sin\n",
    "```"
   ]
  },
  {
   "cell_type": "code",
   "execution_count": null,
   "metadata": {},
   "outputs": [],
   "source": []
  },
  {
   "cell_type": "markdown",
   "metadata": {},
   "source": [
    "Nama saya adalah efefer. \n",
    "\n",
    "Contoh teks **bold**.\n",
    "\n",
    "Contoh teks *italic*\n",
    "\n",
    "List:\n",
    "\n",
    "- Contoh 1\n",
    "- Contoh 2\n",
    "\n",
    "List\n",
    "\n",
    "1. Contoh A\n",
    "2. Contoh B"
   ]
  },
  {
   "cell_type": "markdown",
   "metadata": {},
   "source": [
    "Contoh inline equation.\n",
    "\n",
    "Contoh persamaan $\\alpha + \\beta - \\gamma$. Misalkan $v$ adalah kecepatan."
   ]
  },
  {
   "cell_type": "markdown",
   "metadata": {},
   "source": [
    "Contoh display equation:\n",
    "\n",
    "$$\n",
    "\\int f(x) dx = \\frac{\\Gamma}{1 - x}\n",
    "$$\n",
    "\n",
    "$$\n",
    "\\frac{1}{2}\\nabla^2\n",
    "$$"
   ]
  },
  {
   "cell_type": "code",
   "execution_count": 1,
   "metadata": {},
   "outputs": [],
   "source": [
    "import math\n",
    "import cmath"
   ]
  },
  {
   "cell_type": "code",
   "execution_count": 4,
   "metadata": {},
   "outputs": [
    {
     "data": {
      "text/plain": [
       "2.0"
      ]
     },
     "execution_count": 4,
     "metadata": {},
     "output_type": "execute_result"
    }
   ],
   "source": [
    "math.sqrt(4)"
   ]
  },
  {
   "cell_type": "code",
   "execution_count": 5,
   "metadata": {},
   "outputs": [
    {
     "data": {
      "text/plain": [
       "(2+0j)"
      ]
     },
     "execution_count": 5,
     "metadata": {},
     "output_type": "execute_result"
    }
   ],
   "source": [
    "cmath.sqrt(4)"
   ]
  },
  {
   "cell_type": "code",
   "execution_count": 9,
   "metadata": {},
   "outputs": [
    {
     "ename": "ValueError",
     "evalue": "math domain error",
     "output_type": "error",
     "traceback": [
      "\u001b[0;31m---------------------------------------------------------------------------\u001b[0m",
      "\u001b[0;31mValueError\u001b[0m                                Traceback (most recent call last)",
      "\u001b[0;32m<ipython-input-9-2037b8d41d70>\u001b[0m in \u001b[0;36m<module>\u001b[0;34m\u001b[0m\n\u001b[0;32m----> 1\u001b[0;31m \u001b[0mmath\u001b[0m\u001b[0;34m.\u001b[0m\u001b[0msqrt\u001b[0m\u001b[0;34m(\u001b[0m\u001b[0;34m-\u001b[0m\u001b[0;36m1\u001b[0m\u001b[0;34m)\u001b[0m\u001b[0;34m\u001b[0m\u001b[0;34m\u001b[0m\u001b[0m\n\u001b[0m",
      "\u001b[0;31mValueError\u001b[0m: math domain error"
     ]
    }
   ],
   "source": [
    "math.sqrt(-1)"
   ]
  },
  {
   "cell_type": "code",
   "execution_count": 10,
   "metadata": {},
   "outputs": [
    {
     "data": {
      "text/plain": [
       "1j"
      ]
     },
     "execution_count": 10,
     "metadata": {},
     "output_type": "execute_result"
    }
   ],
   "source": [
    "cmath.sqrt(-1)"
   ]
  },
  {
   "cell_type": "markdown",
   "metadata": {},
   "source": [
    "$$\n",
    "\\exp\\left(\\imath\\pi\\right) = \\cos(\\pi) + \\imath \\sin(\\pi) = -1\n",
    "$$"
   ]
  },
  {
   "cell_type": "code",
   "execution_count": 12,
   "metadata": {},
   "outputs": [
    {
     "data": {
      "text/plain": [
       "3.141592653589793"
      ]
     },
     "execution_count": 12,
     "metadata": {},
     "output_type": "execute_result"
    }
   ],
   "source": [
    "math.pi"
   ]
  },
  {
   "cell_type": "code",
   "execution_count": 13,
   "metadata": {},
   "outputs": [
    {
     "data": {
      "text/plain": [
       "(-1+1.2246467991473532e-16j)"
      ]
     },
     "execution_count": 13,
     "metadata": {},
     "output_type": "execute_result"
    }
   ],
   "source": [
    "cmath.exp(1j*math.pi)"
   ]
  },
  {
   "cell_type": "code",
   "execution_count": 2,
   "metadata": {},
   "outputs": [
    {
     "data": {
      "text/plain": [
       "0.36602540378443893"
      ]
     },
     "execution_count": 2,
     "metadata": {},
     "output_type": "execute_result"
    }
   ],
   "source": [
    "from math import sin, cos, pi # sin, cos, dan pi dapat langsung digunakan\n",
    "x = sin(2*pi/3) + cos(2*pi/3)\n",
    "x"
   ]
  },
  {
   "cell_type": "code",
   "execution_count": 4,
   "metadata": {},
   "outputs": [
    {
     "data": {
      "text/plain": [
       "0.36602540378443893"
      ]
     },
     "execution_count": 4,
     "metadata": {},
     "output_type": "execute_result"
    }
   ],
   "source": [
    "import math\n",
    "x = math.sin(2*math.pi/3) + cos(2*math.pi/3)\n",
    "x"
   ]
  },
  {
   "cell_type": "markdown",
   "metadata": {},
   "source": [
    "# Variabel dan tipe data"
   ]
  },
  {
   "cell_type": "markdown",
   "metadata": {},
   "source": [
    "Untuk mendeklarasikan variabel pada Python, kita dapat menggunakan operator penugasan (*assignment*) yaitu dengan tanda `=`"
   ]
  },
  {
   "cell_type": "code",
   "execution_count": 14,
   "metadata": {},
   "outputs": [],
   "source": [
    "a = 3.4\n",
    "b = 1\n",
    "c = a + b"
   ]
  },
  {
   "cell_type": "markdown",
   "metadata": {},
   "source": [
    "**Catatan**: Pada Jupyter notebook, hasil perhitungan tidak akan ditampilkan jika kita menggunakan operator penugasan. Untuk melihat hasil perhitungan atau nilai variabel kita dapat mengetikkan nama variabel pada suatu sel dan mengeksekusi sel tersebut."
   ]
  },
  {
   "cell_type": "code",
   "execution_count": 15,
   "metadata": {},
   "outputs": [
    {
     "data": {
      "text/plain": [
       "4.4"
      ]
     },
     "execution_count": 15,
     "metadata": {},
     "output_type": "execute_result"
    }
   ],
   "source": [
    "c"
   ]
  },
  {
   "cell_type": "code",
   "execution_count": 16,
   "metadata": {},
   "outputs": [
    {
     "data": {
      "text/plain": [
       "(3.4, 1, 4.4)"
      ]
     },
     "execution_count": 16,
     "metadata": {},
     "output_type": "execute_result"
    }
   ],
   "source": [
    "a, b, c"
   ]
  },
  {
   "cell_type": "markdown",
   "metadata": {},
   "source": [
    "Python memiliki banyak tipe data, di antaranya yang sering dipakai adalah:\n",
    "\n",
    "1. Integer (`int`)\n",
    "2. Float (`float`)\n",
    "3. String (`str`)\n",
    "4. Boolean (`bool`)"
   ]
  },
  {
   "cell_type": "markdown",
   "metadata": {},
   "source": [
    "Untuk mengetahui tipe suatu variabel kita dapat menggunakan fungsi `type`:"
   ]
  },
  {
   "cell_type": "code",
   "execution_count": 17,
   "metadata": {},
   "outputs": [
    {
     "data": {
      "text/plain": [
       "(float, int, float)"
      ]
     },
     "execution_count": 17,
     "metadata": {},
     "output_type": "execute_result"
    }
   ],
   "source": [
    "type(a), type(b), type(c)"
   ]
  },
  {
   "cell_type": "markdown",
   "metadata": {},
   "source": [
    "Contoh variabel dengan tipe `String`:"
   ]
  },
  {
   "cell_type": "code",
   "execution_count": 15,
   "metadata": {},
   "outputs": [
    {
     "data": {
      "text/plain": [
       "(str, str)"
      ]
     },
     "execution_count": 15,
     "metadata": {},
     "output_type": "execute_result"
    }
   ],
   "source": [
    "nama1 = \"Jojo\"\n",
    "nama2 = \"Sujojo\"\n",
    "type(nama1), type(nama2)"
   ]
  },
  {
   "cell_type": "markdown",
   "metadata": {},
   "source": [
    "Tipe data boolean hanya memiliki dua nilai yang mungkin yaitu: `True` dan `False`"
   ]
  },
  {
   "cell_type": "code",
   "execution_count": 16,
   "metadata": {},
   "outputs": [
    {
     "data": {
      "text/plain": [
       "(bool, bool)"
      ]
     },
     "execution_count": 16,
     "metadata": {},
     "output_type": "execute_result"
    }
   ],
   "source": [
    "kondisi1 = True\n",
    "kondisi2 = False\n",
    "type(kondisi1), type(kondisi2)"
   ]
  },
  {
   "cell_type": "markdown",
   "metadata": {},
   "source": [
    "Nama variabel pada Python mengikuti aturan yang kurang lebih sama dengan penamaan variabel dalam bahasa C/C++.\n",
    "\n",
    "Contoh nama variabel yang valid:\n",
    "\n",
    "```python\n",
    "my_name = \"Jojo\n",
    "MyName = \"Sujojo\"\n",
    "x1 = 2.3\n",
    "```\n",
    "\n",
    "Contoh nama variabel yang tidak valid:\n",
    "```python\n",
    "for = 1  # menggunakan kata kunci for\n",
    "1a = 4 # diawali dengan angka\n",
    "```"
   ]
  },
  {
   "cell_type": "code",
   "execution_count": 18,
   "metadata": {},
   "outputs": [
    {
     "name": "stdout",
     "output_type": "stream",
     "text": [
      "Nama saya adalah  efefer\n"
     ]
    }
   ],
   "source": [
    "nama = \"efefer\"\n",
    "print(\"Nama saya adalah \", nama)"
   ]
  },
  {
   "cell_type": "markdown",
   "metadata": {},
   "source": [
    "## Tipe bilangan kompleks"
   ]
  },
  {
   "cell_type": "markdown",
   "metadata": {},
   "source": [
    "Selain tipe bilangan bulat (`int`) dan real (`float`), Python juga mendukung tipe bilangan kompleks secara default. Bagian imajiner dari bilangan kompleks dapat dinyatakan dengan menambahkan `j` setelah bagian imajiner."
   ]
  },
  {
   "cell_type": "code",
   "execution_count": 17,
   "metadata": {},
   "outputs": [
    {
     "data": {
      "text/plain": [
       "(6+7.5j)"
      ]
     },
     "execution_count": 17,
     "metadata": {},
     "output_type": "execute_result"
    }
   ],
   "source": [
    "z1 = 2 + 3j\n",
    "z2 = 4 + 4.5j\n",
    "z1 + z2"
   ]
  },
  {
   "cell_type": "code",
   "execution_count": 18,
   "metadata": {},
   "outputs": [
    {
     "data": {
      "text/plain": [
       "complex"
      ]
     },
     "execution_count": 18,
     "metadata": {},
     "output_type": "execute_result"
    }
   ],
   "source": [
    "type(z1)"
   ]
  },
  {
   "cell_type": "markdown",
   "metadata": {},
   "source": [
    "Perhatikan bahwa bilangan imajiner murni $\\sqrt{-1}=\\textrm{i}$ dinyatakan dengan `1j`, bukan `j`:\n",
    "\n",
    "```\n",
    "1j\n",
    "```\n",
    "\n",
    "Jika kita hanya menggunakan `j`:\n",
    "\n",
    "```\n",
    "---------------------------------------------------------------------------\n",
    "NameError                                 Traceback (most recent call last)\n",
    "<ipython-input-2-3eedd8854d1e> in <module>\n",
    "----> 1 j\n",
    "\n",
    "NameError: name 'j' is not defined\n",
    "```"
   ]
  },
  {
   "cell_type": "markdown",
   "metadata": {},
   "source": [
    "Member `real` dan `imag` dapat digunakan untuk mengakses bagian real dan imajiner dari bilangan kompleks. Metode `conjugate()` dapat digunakan untuk mendapatkan konjugat kompleks."
   ]
  },
  {
   "cell_type": "code",
   "execution_count": 19,
   "metadata": {},
   "outputs": [
    {
     "data": {
      "text/plain": [
       "(2.0, 4.5, (2-3j))"
      ]
     },
     "execution_count": 19,
     "metadata": {},
     "output_type": "execute_result"
    }
   ],
   "source": [
    "z1.real, z2.imag, z1.conjugate()"
   ]
  },
  {
   "cell_type": "code",
   "execution_count": 20,
   "metadata": {},
   "outputs": [
    {
     "data": {
      "text/plain": [
       "(-5.5+21j)"
      ]
     },
     "execution_count": 20,
     "metadata": {},
     "output_type": "execute_result"
    }
   ],
   "source": [
    "z1*z2"
   ]
  },
  {
   "cell_type": "code",
   "execution_count": 21,
   "metadata": {},
   "outputs": [
    {
     "data": {
      "text/plain": [
       "(0.593103448275862+0.08275862068965516j)"
      ]
     },
     "execution_count": 21,
     "metadata": {},
     "output_type": "execute_result"
    }
   ],
   "source": [
    "z1/z2"
   ]
  },
  {
   "cell_type": "code",
   "execution_count": 22,
   "metadata": {},
   "outputs": [
    {
     "data": {
      "text/plain": [
       "(13+0j)"
      ]
     },
     "execution_count": 22,
     "metadata": {},
     "output_type": "execute_result"
    }
   ],
   "source": [
    "z1*z1.conjugate()"
   ]
  },
  {
   "cell_type": "code",
   "execution_count": 23,
   "metadata": {},
   "outputs": [
    {
     "data": {
      "text/plain": [
       "13.0"
      ]
     },
     "execution_count": 23,
     "metadata": {},
     "output_type": "execute_result"
    }
   ],
   "source": [
    "(z1*z1.conjugate()).real"
   ]
  },
  {
   "cell_type": "code",
   "execution_count": 24,
   "metadata": {},
   "outputs": [
    {
     "data": {
      "text/plain": [
       "0.0"
      ]
     },
     "execution_count": 24,
     "metadata": {},
     "output_type": "execute_result"
    }
   ],
   "source": [
    "(z1*z1.conjugate()).imag"
   ]
  },
  {
   "cell_type": "markdown",
   "metadata": {},
   "source": [
    "### String"
   ]
  },
  {
   "cell_type": "markdown",
   "metadata": {},
   "source": [
    "String merepresentasikan data teks.\n",
    "\n",
    "Dalam perhitungan numerik string tidak terlalu banyak digunakan. Namun untuk beberapa aplikasi lain seperti parsing dan analisis teks pengetahuan mengenai string sangat diperlukan. Topik mengenai string sangat luas dan kita hanya akan membahas beberapa hal saja.\n",
    "\n",
    "Ada beberapa cara untuk menggunakan tipe data string.\n",
    "\n",
    "- Menggunakan tanda petik tunggal: `'Nama saya Jojo'`\n",
    "- Menggunakan tanda petik ganda: `\"Nama saya Jojo\"`\n",
    "\n",
    "Untuk string yang lebih panjang dapat digunakan tidak tanda petik, baik tunggal atau ganda.\n",
    "\n",
    "Dalam tutorial ini, akan digunakan tanda petik dua untuk menyatakan string. Anda dapat menggantinya dengan menggunakan tanda petik tunggal jika Anda lebih suka."
   ]
  },
  {
   "cell_type": "code",
   "execution_count": 19,
   "metadata": {},
   "outputs": [
    {
     "data": {
      "text/plain": [
       "('Jojo', 'Jojo')"
      ]
     },
     "execution_count": 19,
     "metadata": {},
     "output_type": "execute_result"
    }
   ],
   "source": [
    "nama1 = 'Jojo'\n",
    "nama2 = \"Jojo\"\n",
    "nama1, nama2"
   ]
  },
  {
   "cell_type": "code",
   "execution_count": 20,
   "metadata": {},
   "outputs": [
    {
     "data": {
      "text/plain": [
       "str"
      ]
     },
     "execution_count": 20,
     "metadata": {},
     "output_type": "execute_result"
    }
   ],
   "source": [
    "type(nama1)"
   ]
  },
  {
   "cell_type": "markdown",
   "metadata": {},
   "source": [
    "Contoh string panjang yang memakan lebih dari satu baris."
   ]
  },
  {
   "cell_type": "code",
   "execution_count": 4,
   "metadata": {},
   "outputs": [
    {
     "data": {
      "text/plain": [
       "'\\nAku ingin begini\\nAku ingin begitu\\nIngin ini ingin itu\\nbanyak sekali\\n'"
      ]
     },
     "execution_count": 4,
     "metadata": {},
     "output_type": "execute_result"
    }
   ],
   "source": [
    "lirik_lagu = \"\"\"\n",
    "Aku ingin begini\n",
    "Aku ingin begitu\n",
    "Ingin ini ingin itu\n",
    "banyak sekali\n",
    "\"\"\"\n",
    "lirik_lagu"
   ]
  },
  {
   "cell_type": "markdown",
   "metadata": {},
   "source": [
    "String dapat dianggap sebagai kumpulan dari karakter-karakter individual.\n",
    "\n",
    "Untuk mengakses karakter individual dapat digunakan operator indexing `[]`. Indeks pada Python dimulai dari 0."
   ]
  },
  {
   "cell_type": "code",
   "execution_count": 21,
   "metadata": {},
   "outputs": [
    {
     "data": {
      "text/plain": [
       "'Jojo'"
      ]
     },
     "execution_count": 21,
     "metadata": {},
     "output_type": "execute_result"
    }
   ],
   "source": [
    "nama1"
   ]
  },
  {
   "cell_type": "code",
   "execution_count": 7,
   "metadata": {},
   "outputs": [
    {
     "data": {
      "text/plain": [
       "('J', 'o', 'j')"
      ]
     },
     "execution_count": 7,
     "metadata": {},
     "output_type": "execute_result"
    }
   ],
   "source": [
    "nama1[0], nama1[1], nama2[2]"
   ]
  },
  {
   "cell_type": "markdown",
   "metadata": {},
   "source": [
    "Untuk mengetahui panjang suatu string dapat digunakan fungsi `len`."
   ]
  },
  {
   "cell_type": "code",
   "execution_count": 8,
   "metadata": {},
   "outputs": [
    {
     "data": {
      "text/plain": [
       "4"
      ]
     },
     "execution_count": 8,
     "metadata": {},
     "output_type": "execute_result"
    }
   ],
   "source": [
    "len(nama1)"
   ]
  },
  {
   "cell_type": "markdown",
   "metadata": {},
   "source": [
    "Perhatikan bahwa tipe dari karakter-karakter pada string adalah string juga (bukan `char` seperti pada C/C++)."
   ]
  },
  {
   "cell_type": "code",
   "execution_count": 9,
   "metadata": {},
   "outputs": [
    {
     "data": {
      "text/plain": [
       "str"
      ]
     },
     "execution_count": 9,
     "metadata": {},
     "output_type": "execute_result"
    }
   ],
   "source": [
    "type(nama1[0])"
   ]
  },
  {
   "cell_type": "markdown",
   "metadata": {},
   "source": [
    "Beberapa operator matematika dapat digunakan pada string, namun operasinya berbeda dengan operasi matematika biasa."
   ]
  },
  {
   "cell_type": "code",
   "execution_count": 13,
   "metadata": {},
   "outputs": [
    {
     "data": {
      "text/plain": [
       "'Nama saya adalah Jojo'"
      ]
     },
     "execution_count": 13,
     "metadata": {},
     "output_type": "execute_result"
    }
   ],
   "source": [
    "\"Nama\" + \" \" + \"saya\" + \" adalah \" + \"Jojo\""
   ]
  },
  {
   "cell_type": "code",
   "execution_count": 14,
   "metadata": {},
   "outputs": [
    {
     "data": {
      "text/plain": [
       "'JojoJojo'"
      ]
     },
     "execution_count": 14,
     "metadata": {},
     "output_type": "execute_result"
    }
   ],
   "source": [
    "\"Jojo\"*2"
   ]
  },
  {
   "cell_type": "code",
   "execution_count": 22,
   "metadata": {},
   "outputs": [],
   "source": [
    "str1 = \"saya\""
   ]
  },
  {
   "cell_type": "code",
   "execution_count": 23,
   "metadata": {},
   "outputs": [
    {
     "data": {
      "text/plain": [
       "'Saya'"
      ]
     },
     "execution_count": 23,
     "metadata": {},
     "output_type": "execute_result"
    }
   ],
   "source": [
    "str1.capitalize()"
   ]
  },
  {
   "cell_type": "code",
   "execution_count": 21,
   "metadata": {},
   "outputs": [
    {
     "data": {
      "text/plain": [
       "'saya'"
      ]
     },
     "execution_count": 21,
     "metadata": {},
     "output_type": "execute_result"
    }
   ],
   "source": [
    "str1.casefold()"
   ]
  },
  {
   "cell_type": "code",
   "execution_count": 24,
   "metadata": {},
   "outputs": [
    {
     "data": {
      "text/plain": [
       "2"
      ]
     },
     "execution_count": 24,
     "metadata": {},
     "output_type": "execute_result"
    }
   ],
   "source": [
    "str1.count(\"a\")"
   ]
  },
  {
   "cell_type": "code",
   "execution_count": 25,
   "metadata": {},
   "outputs": [
    {
     "data": {
      "text/plain": [
       "['Aku',\n",
       " 'ingin',\n",
       " 'begini',\n",
       " 'Aku',\n",
       " 'ingin',\n",
       " 'begitu',\n",
       " 'Ingin',\n",
       " 'ini',\n",
       " 'ingin',\n",
       " 'itu',\n",
       " 'banyak',\n",
       " 'sekali']"
      ]
     },
     "execution_count": 25,
     "metadata": {},
     "output_type": "execute_result"
    }
   ],
   "source": [
    "lirik_lagu.split()"
   ]
  },
  {
   "cell_type": "code",
   "execution_count": 27,
   "metadata": {},
   "outputs": [
    {
     "data": {
      "text/plain": [
       "'\\nAKU INGIN BEGINI\\nAKU INGIN BEGITU\\nINGIN INI INGIN ITU\\nBANYAK SEKALI\\n'"
      ]
     },
     "execution_count": 27,
     "metadata": {},
     "output_type": "execute_result"
    }
   ],
   "source": [
    "lirik_lagu.upper()"
   ]
  },
  {
   "cell_type": "code",
   "execution_count": 28,
   "metadata": {},
   "outputs": [
    {
     "data": {
      "text/plain": [
       "'\\naku ingin begini\\naku ingin begitu\\ningin ini ingin itu\\nbanyak sekali\\n'"
      ]
     },
     "execution_count": 28,
     "metadata": {},
     "output_type": "execute_result"
    }
   ],
   "source": [
    "lirik_lagu.lower()"
   ]
  },
  {
   "cell_type": "markdown",
   "metadata": {},
   "source": [
    "String dapat dianggap sebagai kumpulan berurut dari beberapa karakter atau huruf individual.\n",
    "Kumpulan berurut ini sering disebut sebagai list. List pada Python memiliki beberapa operasi yang dapat digunakan, salah satunya adalah indexing dan slicing. Anda dapat mempelajari lebih lanjut mengenai list di bagian tipe data kontainer.\n",
    "\n",
    "Contoh operasi slicing pada string."
   ]
  },
  {
   "cell_type": "code",
   "execution_count": 29,
   "metadata": {},
   "outputs": [
    {
     "data": {
      "text/plain": [
       "'\\nk ni'"
      ]
     },
     "execution_count": 29,
     "metadata": {},
     "output_type": "execute_result"
    }
   ],
   "source": [
    "lirik_lagu[0:9:2]"
   ]
  },
  {
   "cell_type": "code",
   "execution_count": 30,
   "metadata": {},
   "outputs": [
    {
     "data": {
      "text/plain": [
       "'\\nilakes kaynab\\nuti nigni ini nignI\\nutigeb nigni ukA\\ninigeb nigni ukA\\n'"
      ]
     },
     "execution_count": 30,
     "metadata": {},
     "output_type": "execute_result"
    }
   ],
   "source": [
    "lirik_lagu[::-1]"
   ]
  },
  {
   "cell_type": "markdown",
   "metadata": {},
   "source": [
    "## Tipe data kontainer"
   ]
  },
  {
   "cell_type": "markdown",
   "metadata": {},
   "source": [
    "### List"
   ]
  },
  {
   "cell_type": "markdown",
   "metadata": {},
   "source": [
    "List mirip dengan array pada bahasa pemrograman C/C++. Salah satu perbedaannya adalah tipe elemen pada list tidak perlu terdiri dari tipe yang sama. Selain itu, list juga mendukung beberapa operasi yang lebih kompleks dibandingkan dengan array pada C/C++."
   ]
  },
  {
   "cell_type": "code",
   "execution_count": 25,
   "metadata": {},
   "outputs": [
    {
     "data": {
      "text/plain": [
       "[3, 5, 7, 11, 44, 33, 88, 99]"
      ]
     },
     "execution_count": 25,
     "metadata": {},
     "output_type": "execute_result"
    }
   ],
   "source": [
    "mylst1 = [3, 5, 7, 11, 44, 33, 88, 99]\n",
    "mylst1"
   ]
  },
  {
   "cell_type": "code",
   "execution_count": 26,
   "metadata": {},
   "outputs": [
    {
     "data": {
      "text/plain": [
       "list"
      ]
     },
     "execution_count": 26,
     "metadata": {},
     "output_type": "execute_result"
    }
   ],
   "source": [
    "type(mylst1)"
   ]
  },
  {
   "cell_type": "markdown",
   "metadata": {},
   "source": [
    "Contoh list dengan elemen-elemen yang terdiri dari tipe data berbeda."
   ]
  },
  {
   "cell_type": "code",
   "execution_count": 27,
   "metadata": {},
   "outputs": [
    {
     "data": {
      "text/plain": [
       "['Nama', 1, 2.3, True]"
      ]
     },
     "execution_count": 27,
     "metadata": {},
     "output_type": "execute_result"
    }
   ],
   "source": [
    "mylst2 = [\"Nama\", 1, 2.3, True]\n",
    "mylst2"
   ]
  },
  {
   "cell_type": "markdown",
   "metadata": {},
   "source": [
    "Untuk mengakses elemen pada list kita dapat menggunakan operator indexing `[]`. Indeks pada Python dimulai dari 0."
   ]
  },
  {
   "cell_type": "code",
   "execution_count": 28,
   "metadata": {},
   "outputs": [
    {
     "data": {
      "text/plain": [
       "(3, 11)"
      ]
     },
     "execution_count": 28,
     "metadata": {},
     "output_type": "execute_result"
    }
   ],
   "source": [
    "mylst1[0], mylst1[3]"
   ]
  },
  {
   "cell_type": "markdown",
   "metadata": {},
   "source": [
    "Indeks negatif juga dapat digunakan pada list:"
   ]
  },
  {
   "cell_type": "code",
   "execution_count": 29,
   "metadata": {},
   "outputs": [
    {
     "data": {
      "text/plain": [
       "(99, 88, 33, 44)"
      ]
     },
     "execution_count": 29,
     "metadata": {},
     "output_type": "execute_result"
    }
   ],
   "source": [
    "mylst1[-1], mylst1[-2], mylst1[-3], mylst1[-4]"
   ]
  },
  {
   "cell_type": "markdown",
   "metadata": {},
   "source": [
    "Untuk mengetahui panjang (jumlah element) suatu list dapat digunakan fungsi builtin `len()`:"
   ]
  },
  {
   "cell_type": "code",
   "execution_count": 30,
   "metadata": {},
   "outputs": [
    {
     "data": {
      "text/plain": [
       "(8, 4)"
      ]
     },
     "execution_count": 30,
     "metadata": {},
     "output_type": "execute_result"
    }
   ],
   "source": [
    "len(mylst1), len(mylst2)"
   ]
  },
  {
   "cell_type": "markdown",
   "metadata": {},
   "source": [
    "List mendukung operasi slicing. Operasi ini mengembalikan (sub)list dari list awal. Sintaks yang digunakan adalah:\n",
    "```python\n",
    "mylist[idx_awal:idx_akhir:increment]\n",
    "```\n",
    "Dengan sintaks di atas akan dikembalikan sebuah list dengan element dari `mylist[idx_awal]` sampai sebelum `my_list[idx_akhir]` dengan penambahan indeks `increment`.\n",
    "Pada operasi slicing tidak harus semua paramter diberikan. Secara default `idx_awal = 0`, `idx_akhir = len(my_list)`, dan `increment = 1`."
   ]
  },
  {
   "cell_type": "code",
   "execution_count": 31,
   "metadata": {},
   "outputs": [
    {
     "data": {
      "text/plain": [
       "[5, 7]"
      ]
     },
     "execution_count": 31,
     "metadata": {},
     "output_type": "execute_result"
    }
   ],
   "source": [
    "mylst1[1:3]"
   ]
  },
  {
   "cell_type": "code",
   "execution_count": 32,
   "metadata": {},
   "outputs": [
    {
     "data": {
      "text/plain": [
       "[3, 7, 44, 88]"
      ]
     },
     "execution_count": 32,
     "metadata": {},
     "output_type": "execute_result"
    }
   ],
   "source": [
    "mylst1[0:8:2]"
   ]
  },
  {
   "cell_type": "code",
   "execution_count": 33,
   "metadata": {},
   "outputs": [
    {
     "data": {
      "text/plain": [
       "[3, 5, 7]"
      ]
     },
     "execution_count": 33,
     "metadata": {},
     "output_type": "execute_result"
    }
   ],
   "source": [
    "mylst1[:3]"
   ]
  },
  {
   "cell_type": "code",
   "execution_count": 34,
   "metadata": {},
   "outputs": [
    {
     "data": {
      "text/plain": [
       "[3, 5, 7, 11, 44, 33, 88, 99]"
      ]
     },
     "execution_count": 34,
     "metadata": {},
     "output_type": "execute_result"
    }
   ],
   "source": [
    "mylst1[0:]"
   ]
  },
  {
   "cell_type": "code",
   "execution_count": 35,
   "metadata": {},
   "outputs": [
    {
     "data": {
      "text/plain": [
       "[3, 7, 44, 88]"
      ]
     },
     "execution_count": 35,
     "metadata": {},
     "output_type": "execute_result"
    }
   ],
   "source": [
    "mylst1[::2]"
   ]
  },
  {
   "cell_type": "code",
   "execution_count": 36,
   "metadata": {},
   "outputs": [
    {
     "data": {
      "text/plain": [
       "[99, 88, 33, 44, 11, 7, 5, 3]"
      ]
     },
     "execution_count": 36,
     "metadata": {},
     "output_type": "execute_result"
    }
   ],
   "source": [
    "mylst1[::-1]"
   ]
  },
  {
   "cell_type": "markdown",
   "metadata": {},
   "source": [
    "List bersifat **mutable**, artinya elemen list dapat diubah."
   ]
  },
  {
   "cell_type": "code",
   "execution_count": 37,
   "metadata": {},
   "outputs": [
    {
     "data": {
      "text/plain": [
       "[1000, 5, 7, 11, 44, 33, 88, 99]"
      ]
     },
     "execution_count": 37,
     "metadata": {},
     "output_type": "execute_result"
    }
   ],
   "source": [
    "mylst1[0] = 1000\n",
    "mylst1"
   ]
  },
  {
   "cell_type": "markdown",
   "metadata": {},
   "source": [
    "Elemen baru dapat ditambahkan ke list dengan menggunakan metode `append`:"
   ]
  },
  {
   "cell_type": "code",
   "execution_count": 38,
   "metadata": {},
   "outputs": [
    {
     "data": {
      "text/plain": [
       "[1000, 5, 7, 11, 44, 33, 88, 99, 123]"
      ]
     },
     "execution_count": 38,
     "metadata": {},
     "output_type": "execute_result"
    }
   ],
   "source": [
    "mylst1.append(123)\n",
    "mylst1"
   ]
  },
  {
   "cell_type": "markdown",
   "metadata": {},
   "source": [
    "Beberapa operator yang normal digunakan pada perhitungan matematika seperti `+` memiliki arti tertentu pada list. Misalnya"
   ]
  },
  {
   "cell_type": "code",
   "execution_count": 39,
   "metadata": {},
   "outputs": [
    {
     "data": {
      "text/plain": [
       "[1000, 5, 7, 11, 44, 33, 88, 99, 123, 1000]"
      ]
     },
     "execution_count": 39,
     "metadata": {},
     "output_type": "execute_result"
    }
   ],
   "source": [
    "mylst1 = mylst1 + [1000]\n",
    "mylst1"
   ]
  },
  {
   "cell_type": "code",
   "execution_count": 49,
   "metadata": {},
   "outputs": [
    {
     "data": {
      "text/plain": [
       "[1000, 5, 7, 11, 44, 33, 88, 99, 123, 1000, 3, 4, 5]"
      ]
     },
     "execution_count": 49,
     "metadata": {},
     "output_type": "execute_result"
    }
   ],
   "source": [
    "mylst1 + [3, 4, 5]"
   ]
  },
  {
   "cell_type": "markdown",
   "metadata": {},
   "source": [
    "Elemen dari suatu list dapat juga berupa list yang lain. Pada perintah berikut kita akan menambahkan suatu list yaitu `[3,4,5]` pada `my_list`."
   ]
  },
  {
   "cell_type": "code",
   "execution_count": 50,
   "metadata": {},
   "outputs": [],
   "source": [
    "mylst1.append([3,4,5])"
   ]
  },
  {
   "cell_type": "code",
   "execution_count": 51,
   "metadata": {},
   "outputs": [
    {
     "data": {
      "text/plain": [
       "[1000, 5, 7, 11, 44, 33, 88, 99, 123, 1000, [3, 4, 5]]"
      ]
     },
     "execution_count": 51,
     "metadata": {},
     "output_type": "execute_result"
    }
   ],
   "source": [
    "mylst1"
   ]
  },
  {
   "cell_type": "markdown",
   "metadata": {},
   "source": [
    "List pada Python juga mendukung beberapa operasi lain. Untuk memperoleh gambaran lebih lengkap, Anda dapat membaca di\n",
    "[https://docs.python.org/3/tutorial/datastructures.html#more-on-lists](https://docs.python.org/3/tutorial/datastructures.html#more-on-lists)"
   ]
  },
  {
   "cell_type": "markdown",
   "metadata": {},
   "source": [
    "### Tupel"
   ]
  },
  {
   "cell_type": "markdown",
   "metadata": {},
   "source": [
    "Tupel sangat mirip dengan list. Perbedaan pentingnya adalah tupel bersifat **immutable**. Tupel dapat diinisialisasi dari elemen-elemennya dengan menggunakan tanda `()` dan diantara elemen dipisahkan dengan tanda koma."
   ]
  },
  {
   "cell_type": "code",
   "execution_count": 40,
   "metadata": {},
   "outputs": [
    {
     "data": {
      "text/plain": [
       "(0, '3', True, 1.3)"
      ]
     },
     "execution_count": 40,
     "metadata": {},
     "output_type": "execute_result"
    }
   ],
   "source": [
    "mytpl = (0, \"3\", True, 1.3)\n",
    "mytpl"
   ]
  },
  {
   "cell_type": "code",
   "execution_count": 41,
   "metadata": {},
   "outputs": [
    {
     "data": {
      "text/plain": [
       "tuple"
      ]
     },
     "execution_count": 41,
     "metadata": {},
     "output_type": "execute_result"
    }
   ],
   "source": [
    "type(mytpl)"
   ]
  },
  {
   "cell_type": "markdown",
   "metadata": {},
   "source": [
    "Tupel juga dapat diinisialisasi tanpa menggunakan tanda `()`."
   ]
  },
  {
   "cell_type": "code",
   "execution_count": 42,
   "metadata": {},
   "outputs": [
    {
     "data": {
      "text/plain": [
       "(0, '3', True, 1.3)"
      ]
     },
     "execution_count": 42,
     "metadata": {},
     "output_type": "execute_result"
    }
   ],
   "source": [
    "mytpl = 0, \"3\", True, 1.3\n",
    "mytpl"
   ]
  },
  {
   "cell_type": "code",
   "execution_count": 43,
   "metadata": {},
   "outputs": [
    {
     "data": {
      "text/plain": [
       "('3', True)"
      ]
     },
     "execution_count": 43,
     "metadata": {},
     "output_type": "execute_result"
    }
   ],
   "source": [
    "mytpl[1:3]"
   ]
  },
  {
   "cell_type": "markdown",
   "metadata": {},
   "source": [
    "Seperti yang telah diinfomasikan sebelumnya, berbeda dengan list, tupel bersifat **immutable**, artinya elemen-elemennya tidak dapat dimodifikasi setelah diinisialisasi.\n",
    "\n",
    "Kode berikut ini akan memberikan kesalahan\n",
    "```python\n",
    "mytpl[0] = 3.4\n",
    "```\n",
    "\n",
    "```\n",
    "---------------------------------------------------------------------------\n",
    "TypeError                                 Traceback (most recent call last)\n",
    "<ipython-input-44-77d297c1309c> in <module>()\n",
    "----> 1 mytpl[0] = 3.4\n",
    "\n",
    "TypeError: 'tuple' object does not support item assignment\n",
    "```"
   ]
  },
  {
   "cell_type": "markdown",
   "metadata": {},
   "source": [
    "Karena bersifat immutable, tupel tidak memiliki operasi sefleksibel list. Meskipun demikian kita dapat mengubah tupel menjadi list dengan menggunakan konstruktor `list`."
   ]
  },
  {
   "cell_type": "code",
   "execution_count": 63,
   "metadata": {},
   "outputs": [
    {
     "data": {
      "text/plain": [
       "[0, '3', True, 1.3]"
      ]
     },
     "execution_count": 63,
     "metadata": {},
     "output_type": "execute_result"
    }
   ],
   "source": [
    "mylst3 = list(mytpl)\n",
    "mylst3"
   ]
  },
  {
   "cell_type": "code",
   "execution_count": 64,
   "metadata": {},
   "outputs": [
    {
     "data": {
      "text/plain": [
       "[44, '3', True, 1.3]"
      ]
     },
     "execution_count": 64,
     "metadata": {},
     "output_type": "execute_result"
    }
   ],
   "source": [
    "mylst3[0] = 44\n",
    "mylst3"
   ]
  },
  {
   "cell_type": "markdown",
   "metadata": {},
   "source": [
    "### Set (himpunan)"
   ]
  },
  {
   "cell_type": "markdown",
   "metadata": {},
   "source": [
    "Tipe data set pada Python terdiri dari elemen-elemen unik yang tidak berulang. Urutan tidak terdefinisi pada set. Set dapat diinisialisasi dari elemen-elemennya dengan menggunakan tanda kurung kurawal."
   ]
  },
  {
   "cell_type": "code",
   "execution_count": 68,
   "metadata": {},
   "outputs": [
    {
     "data": {
      "text/plain": [
       "{(3, 4), 0, 100, 11, 2, 4, 'A', 'B', True}"
      ]
     },
     "execution_count": 68,
     "metadata": {},
     "output_type": "execute_result"
    }
   ],
   "source": [
    "myset = {0, 0, 2, 4, 11, 11, 100, 100, \"A\", \"B\", True, (3,4)}\n",
    "myset"
   ]
  },
  {
   "cell_type": "markdown",
   "metadata": {},
   "source": [
    "Set juga dapat diinisialisasi dengan menggunakan konstruktor `set` dengan sintaks umum sebagai berikut:\n",
    "```python\n",
    "set(iterable_data)\n",
    "```\n",
    "di mana `iterable_data` merupakan tipe data yang dapat diiterasi seperti list, tupel, string dan sebagainya."
   ]
  },
  {
   "cell_type": "code",
   "execution_count": 70,
   "metadata": {},
   "outputs": [
    {
     "data": {
      "text/plain": [
       "{' ', '.', 'A', 'b', 'e', 'g', 'i', 'k', 'n', 't', 'u'}"
      ]
     },
     "execution_count": 70,
     "metadata": {},
     "output_type": "execute_result"
    }
   ],
   "source": [
    "set(\"Aku ingin begini. Aku ingin begitu\")"
   ]
  },
  {
   "cell_type": "code",
   "execution_count": 72,
   "metadata": {},
   "outputs": [
    {
     "data": {
      "text/plain": [
       "{1, 2, 3, 4, 6, 7, 8, 9}"
      ]
     },
     "execution_count": 72,
     "metadata": {},
     "output_type": "execute_result"
    }
   ],
   "source": [
    "set([1, 3, 4, 6, 7, 8, 8, 9, 7, 4, 3, 2])"
   ]
  },
  {
   "cell_type": "code",
   "execution_count": 78,
   "metadata": {},
   "outputs": [
    {
     "data": {
      "text/plain": [
       "{'apel', 'jeruk', 'mangga', 'pisang'}"
      ]
     },
     "execution_count": 78,
     "metadata": {},
     "output_type": "execute_result"
    }
   ],
   "source": [
    "buah2an = (\"apel\", \"mangga\", \"pisang\", \"jeruk\", \"apel\", \"pisang\")\n",
    "set( buah2an )"
   ]
  },
  {
   "cell_type": "markdown",
   "metadata": {},
   "source": [
    "### Dictionary (kamus)"
   ]
  },
  {
   "cell_type": "markdown",
   "metadata": {},
   "source": [
    "Dictionary atau `dict` pada Python adalah suatu tipe data yang terdiri dari kumpulan pasangan key (kunci) dan value (nilai). Tipe data `dict` bersifat mutable. Anda dapat menganggap `dict` sebagai tabel yang terdiri dari dua kolom, di mana key berada pada kolom pertama dan value pada kolom kedua. Dalam beberapa bahasa pemrograman lain, `dict` sering juga disebut sebagai array asosiatif."
   ]
  },
  {
   "cell_type": "code",
   "execution_count": 23,
   "metadata": {},
   "outputs": [
    {
     "data": {
      "text/plain": [
       "{'Jojo': 100, 'Jono': 80, 'Koko': 65, 'Bobo': 44}"
      ]
     },
     "execution_count": 23,
     "metadata": {},
     "output_type": "execute_result"
    }
   ],
   "source": [
    "nilai = {\"Jojo\": 100, \"Jono\": 80, \"Koko\": 65, \"Bobo\": 44}\n",
    "nilai"
   ]
  },
  {
   "cell_type": "code",
   "execution_count": 9,
   "metadata": {},
   "outputs": [
    {
     "data": {
      "text/plain": [
       "dict"
      ]
     },
     "execution_count": 9,
     "metadata": {},
     "output_type": "execute_result"
    }
   ],
   "source": [
    "type(nilai)"
   ]
  },
  {
   "cell_type": "markdown",
   "metadata": {},
   "source": [
    "Anda dapat mengakses nilai dari \"Jojo\", misalnya, dengan menggunakan:"
   ]
  },
  {
   "cell_type": "code",
   "execution_count": 8,
   "metadata": {},
   "outputs": [
    {
     "data": {
      "text/plain": [
       "100"
      ]
     },
     "execution_count": 8,
     "metadata": {},
     "output_type": "execute_result"
    }
   ],
   "source": [
    "nilai[\"Jojo\"]"
   ]
  },
  {
   "cell_type": "markdown",
   "metadata": {},
   "source": [
    "Fungsi `list` dapat digunakan untuk mendapatkan semua `key` dari suatu `dict`:"
   ]
  },
  {
   "cell_type": "code",
   "execution_count": 12,
   "metadata": {},
   "outputs": [
    {
     "data": {
      "text/plain": [
       "['Jojo', 'Jono', 'Koko', 'Bobo']"
      ]
     },
     "execution_count": 12,
     "metadata": {},
     "output_type": "execute_result"
    }
   ],
   "source": [
    "list(nilai)"
   ]
  },
  {
   "cell_type": "markdown",
   "metadata": {},
   "source": [
    "Anda dapat menambahkan pasangan `key` dan `value` baru seperti pada contoh berikut"
   ]
  },
  {
   "cell_type": "code",
   "execution_count": 16,
   "metadata": {},
   "outputs": [
    {
     "data": {
      "text/plain": [
       "{'Jojo': 100, 'Jono': 80, 'Koko': 65, 'Bobo': 44, 'Aan': 70}"
      ]
     },
     "execution_count": 16,
     "metadata": {},
     "output_type": "execute_result"
    }
   ],
   "source": [
    "nilai[\"Aan\"] = 70\n",
    "nilai"
   ]
  },
  {
   "cell_type": "markdown",
   "metadata": {},
   "source": [
    "Selain dengan menggunakan operasi indexing langsung, metode `update` juga dapat digunakan untuk mengubah suatu `dict`:"
   ]
  },
  {
   "cell_type": "code",
   "execution_count": 24,
   "metadata": {},
   "outputs": [
    {
     "data": {
      "text/plain": [
       "{'Jojo': 40, 'Jono': 80, 'Koko': 65, 'Bobo': 44, 'Aan': 55}"
      ]
     },
     "execution_count": 24,
     "metadata": {},
     "output_type": "execute_result"
    }
   ],
   "source": [
    "nilai[\"Jojo\"] = 40\n",
    "nilai[\"Aan\"] = 55\n",
    "nilai"
   ]
  },
  {
   "cell_type": "code",
   "execution_count": 25,
   "metadata": {},
   "outputs": [
    {
     "data": {
      "text/plain": [
       "{'Jojo': 99, 'Jono': 80, 'Koko': 65, 'Bobo': 44, 'Aan': 88}"
      ]
     },
     "execution_count": 25,
     "metadata": {},
     "output_type": "execute_result"
    }
   ],
   "source": [
    "nilai.update({\"Jojo\": 99, \"Aan\": 88})\n",
    "nilai"
   ]
  },
  {
   "cell_type": "markdown",
   "metadata": {},
   "source": [
    "Fungsi `del` dapat digunakan untuk menghapus key dan value pada `dict`."
   ]
  },
  {
   "cell_type": "code",
   "execution_count": 26,
   "metadata": {},
   "outputs": [],
   "source": [
    "del nilai[\"Jono\"]"
   ]
  },
  {
   "cell_type": "code",
   "execution_count": 27,
   "metadata": {},
   "outputs": [
    {
     "data": {
      "text/plain": [
       "{'Jojo': 99, 'Koko': 65, 'Bobo': 44, 'Aan': 88}"
      ]
     },
     "execution_count": 27,
     "metadata": {},
     "output_type": "execute_result"
    }
   ],
   "source": [
    "nilai"
   ]
  },
  {
   "cell_type": "markdown",
   "metadata": {},
   "source": [
    "## Kontrol alur program"
   ]
  },
  {
   "cell_type": "markdown",
   "metadata": {},
   "source": [
    "### Kondisional"
   ]
  },
  {
   "cell_type": "markdown",
   "metadata": {},
   "source": [
    "Pernyataan kondisional digunakan untuk melakukan atau tidak melakukan suatu pernyataan dalam program berdasarkan suatu kondisi tertentu.\n",
    "\n",
    "Pernyataan kondisional dapat dibuat dengan menggunakan kata-kata kunci `if`, `else`, dan `elif`.\n",
    "\n",
    "Sintaks `if`\n",
    "```python\n",
    "if kondisi:\n",
    "    lakukan_sesuatu\n",
    "```\n",
    "\n",
    "Sintaks `if-else`\n",
    "```python\n",
    "if kondisi_a:\n",
    "    lakukan_ini\n",
    "else:\n",
    "    lakukan_itu\n",
    "```\n",
    "\n",
    "Sintaks `if-elif-else`\n",
    "```python\n",
    "if kondisi_a:\n",
    "    lakukan_ini\n",
    "elif kondisi_b:\n",
    "    lakukan_itu\n",
    "else:\n",
    "    lakukan_yang_lain\n",
    "```"
   ]
  },
  {
   "cell_type": "markdown",
   "metadata": {},
   "source": [
    "Berikut ini adalah operator-operator logika dalam Python (Referensi: Huff, *Effective Computation in Physics - Field Guide to research in Python*)"
   ]
  },
  {
   "cell_type": "markdown",
   "metadata": {},
   "source": [
    "**Unary operator**\n",
    "\n",
    "| Name | Usage | Returns |\n",
    "| ---- | ----- | ------- |\n",
    "| Negation | `not x` | Logical negation - `True` becomes False , and vice versa. |\n",
    "| Bitwise invert | `~x` | Changes all zeros to ones and vice versa in `x`'s binary representation.|"
   ]
  },
  {
   "cell_type": "markdown",
   "metadata": {},
   "source": [
    "**Binary operators**\n",
    "\n",
    "| Name | Usage | Returns |\n",
    "| ---- | ----- | ------- |\n",
    "| Logical and | `x and y` | `True` if `bool(x)` and `bool(y)` are `True` ; False otherwise. |\n",
    "| Logical or | `x or y` | `x` if `bool(x)` is `True` ; otherwise the value of y . |"
   ]
  },
  {
   "cell_type": "markdown",
   "metadata": {},
   "source": [
    "**Comparison binary operators**\n",
    "\n",
    "| Name | Usage | Returns |\n",
    "| ---- | ----- | ------- |\n",
    "| Equality | `x == y` | `True` or `False` |\n",
    "| Not equal | `x != y` | `True` or `False` |\n",
    "| Less than | `x < y` | `True` or `False` |\n",
    "| Less than or equal | `x <= y` | `True` or `False` |\n",
    "| Greater than | `x > y` | `True` or `False` |\n",
    "| Greater than or equal | `x >= y` | `True` or `False` |\n",
    "| Containment | `x in y` | `True` if `x` is an element of `y` |\n",
    "| Non-containment | `x not in y` | `False` if `x` is an element of `y` |\n",
    "| Identity test | `x is y` | `True` if `x` and `y` point to the same underlying value in memory |\n"
   ]
  },
  {
   "cell_type": "code",
   "execution_count": 29,
   "metadata": {},
   "outputs": [
    {
     "name": "stdout",
     "output_type": "stream",
     "text": [
      "a bernilai negatif\n"
     ]
    }
   ],
   "source": [
    "a = -1\n",
    "if a > 0:\n",
    "    print(\"a bernilai positif\")\n",
    "else:\n",
    "    print(\"a bernilai negatif\")"
   ]
  },
  {
   "cell_type": "code",
   "execution_count": 30,
   "metadata": {},
   "outputs": [
    {
     "name": "stdout",
     "output_type": "stream",
     "text": [
      "a bernilai 0\n"
     ]
    }
   ],
   "source": [
    "a = 0\n",
    "if a > 0:\n",
    "    print(\"a bernilai positif\")\n",
    "elif a < 0:\n",
    "    print(\"a bernilai negatif\")\n",
    "else:\n",
    "    print(\"a bernilai 0\")"
   ]
  },
  {
   "cell_type": "code",
   "execution_count": 32,
   "metadata": {},
   "outputs": [
    {
     "name": "stdout",
     "output_type": "stream",
     "text": [
      "Nilai 5 tidak ada dalam list\n"
     ]
    }
   ],
   "source": [
    "mylist = [1, 2, 3, 4, 6]\n",
    "if 5 in mylist:\n",
    "    print(\"Nilai 5 berada dalam mylist\")\n",
    "else:\n",
    "    print(\"Nilai 5 tidak ada dalam list\")"
   ]
  },
  {
   "cell_type": "code",
   "execution_count": 33,
   "metadata": {},
   "outputs": [
    {
     "name": "stdout",
     "output_type": "stream",
     "text": [
      "Jojo ada dalam dict nilai\n"
     ]
    }
   ],
   "source": [
    "nilai = {\"Jojo\": 100, \"Jono\": 80, \"Koko\": 65, \"Bobo\": 44}\n",
    "if \"Jojo\" not in nilai:\n",
    "    print(\"Jojo tidak ada dalam dict nilai\")\n",
    "else:\n",
    "    print(\"Jojo ada dalam dict nilai\")"
   ]
  },
  {
   "cell_type": "markdown",
   "metadata": {},
   "source": [
    "### Loop (pengulangan)"
   ]
  },
  {
   "cell_type": "markdown",
   "metadata": {},
   "source": [
    "Ada beberapa cara untuk melakukan operasi pengulangan pada Python.\n",
    "\n",
    "Beberapa yang sering digunakan adalah pernyataan dengan kata kunci `while` dan `for`.\n",
    "\n",
    "Sintaks:\n",
    "```python\n",
    "while kondisi:\n",
    "    lakukan_sesuatu\n",
    "```\n",
    "\n",
    "Sintaks:\n",
    "```python\n",
    "for variabel in iterable:\n",
    "    lakukan_sesuatu\n",
    "```\n",
    "\n",
    "Contoh `iterable` adalah list, dict, dan set. `iterable` juga dapat dihasilkan dengan menggunakan fungsi `range`."
   ]
  },
  {
   "cell_type": "code",
   "execution_count": 3,
   "metadata": {},
   "outputs": [
    {
     "name": "stdout",
     "output_type": "stream",
     "text": [
      "a = 0\n",
      "a = 1\n",
      "a = 2\n",
      "a = 3\n",
      "a = 4\n",
      "a = 5\n",
      "a = 6\n",
      "a = 7\n",
      "a = 8\n",
      "a = 9\n"
     ]
    }
   ],
   "source": [
    "a = 0\n",
    "while a < 10:\n",
    "    print(\"a = %d\" % a)\n",
    "    a = a + 1"
   ]
  },
  {
   "cell_type": "code",
   "execution_count": 6,
   "metadata": {},
   "outputs": [
    {
     "name": "stdout",
     "output_type": "stream",
     "text": [
      "a = 1\n",
      "a = 2\n",
      "a = 3\n",
      "a = 4\n",
      "a = 5\n",
      "a = 6\n",
      "a = 7\n",
      "a = 8\n",
      "a = 9\n"
     ]
    }
   ],
   "source": [
    "for a in range(1,10):\n",
    "    print(\"a = %d\" % a)"
   ]
  },
  {
   "cell_type": "markdown",
   "metadata": {},
   "source": [
    "Kata kunci `break` dapat digunakan untuk menghentikan loop jika suatu kondisi terpenuhi."
   ]
  },
  {
   "cell_type": "code",
   "execution_count": 7,
   "metadata": {},
   "outputs": [
    {
     "name": "stdout",
     "output_type": "stream",
     "text": [
      "a = 0\n",
      "a = 2\n",
      "a = 4\n",
      "a = 6\n",
      "a = 8\n"
     ]
    }
   ],
   "source": [
    "a = 0\n",
    "while True:\n",
    "    if a >= 10:\n",
    "        break\n",
    "    print(\"a = %d\" % a)\n",
    "    a = a + 2"
   ]
  },
  {
   "cell_type": "code",
   "execution_count": 8,
   "metadata": {},
   "outputs": [
    {
     "name": "stdout",
     "output_type": "stream",
     "text": [
      "i = 0\n",
      "i = 1\n",
      "i = 2\n",
      "i = 3\n",
      "i = 4\n",
      "i = 6\n",
      "i = 7\n",
      "i = 8\n",
      "i = 9\n"
     ]
    }
   ],
   "source": [
    "for i in range(10):\n",
    "    if i == 5:\n",
    "        continue\n",
    "    print(\"i = %d\" % i)"
   ]
  },
  {
   "cell_type": "code",
   "execution_count": 28,
   "metadata": {},
   "outputs": [
    {
     "name": "stdout",
     "output_type": "stream",
     "text": [
      "nama =  Jojo\n",
      "nama =  Koko\n",
      "nama =  Bobo\n",
      "nama =  Aan\n"
     ]
    }
   ],
   "source": [
    "for nama in nilai:\n",
    "    print(\"nama = \", nama)"
   ]
  },
  {
   "cell_type": "markdown",
   "metadata": {},
   "source": [
    "### Exception"
   ]
  },
  {
   "cell_type": "markdown",
   "metadata": {},
   "source": [
    "Exception adalah suatu mekanisme pada bahasa pemrograman untuk mengatasi atau menginformasikan bahwa terlah terjadi suatu kesalahan seperti kesalahan input argumen, file tidak ditemukan dan sebagainya."
   ]
  },
  {
   "cell_type": "code",
   "execution_count": 34,
   "metadata": {},
   "outputs": [
    {
     "name": "stdout",
     "output_type": "stream",
     "text": [
      "x tidak boleh 0\n"
     ]
    }
   ],
   "source": [
    "x = 0\n",
    "try:\n",
    "    a = 1/x\n",
    "except:\n",
    "    print(\"x tidak boleh 0\")"
   ]
  },
  {
   "cell_type": "markdown",
   "metadata": {},
   "source": [
    "Python mendukung banyak sekali tipe exception, salah satu yang sering digunakan adalah `RuntimeException`. Anda dapat menggunakan exception ini jika terjadi kesalahan pada program Anda.\n",
    "\n",
    "Contoh:\n",
    "\n",
    "```python\n",
    "a = -1.0\n",
    "if a < 0:\n",
    "    raise RuntimeError(\"a harus lebih besar dari 0\")\n",
    "```\n",
    "\n",
    "akan memberikan keluaran:\n",
    "```\n",
    "---------------------------------------------------------------------------\n",
    "RuntimeError                              Traceback (most recent call last)\n",
    "<ipython-input-38-87e95f0d6c82> in <module>()\n",
    "      1 a = -1.0\n",
    "      2 if a < 0:\n",
    "----> 3     raise RuntimeError(\"a harus lebih besar dari 0\")\n",
    "\n",
    "RuntimeError: a harus lebih besar dari 0\n",
    "```"
   ]
  },
  {
   "cell_type": "markdown",
   "metadata": {},
   "source": [
    "## Fungsi (subprogram)"
   ]
  },
  {
   "cell_type": "code",
   "execution_count": null,
   "metadata": {},
   "outputs": [],
   "source": [
    "def my_func_01(a, b):\n",
    "    return a + b"
   ]
  },
  {
   "cell_type": "code",
   "execution_count": null,
   "metadata": {},
   "outputs": [],
   "source": [
    "def my_func_02(a, b):\n",
    "    print(\"a = \", a)\n",
    "    print(\"b = \", b)"
   ]
  },
  {
   "cell_type": "code",
   "execution_count": null,
   "metadata": {},
   "outputs": [],
   "source": [
    "def my_func_03(a, b):\n",
    "    temp = a\n",
    "    a = b\n",
    "    b = a"
   ]
  },
  {
   "cell_type": "code",
   "execution_count": null,
   "metadata": {},
   "outputs": [],
   "source": [
    "a = 3\n",
    "b = 4\n",
    "c = my_func_01(a, b)\n",
    "c"
   ]
  },
  {
   "cell_type": "code",
   "execution_count": null,
   "metadata": {},
   "outputs": [],
   "source": [
    "c = my_func_02(a, b)"
   ]
  },
  {
   "cell_type": "code",
   "execution_count": null,
   "metadata": {},
   "outputs": [],
   "source": [
    "type(c)"
   ]
  },
  {
   "cell_type": "code",
   "execution_count": null,
   "metadata": {},
   "outputs": [],
   "source": [
    "my_func_03(a, b)\n",
    "a, b"
   ]
  },
  {
   "cell_type": "code",
   "execution_count": null,
   "metadata": {},
   "outputs": [],
   "source": [
    "my_func_03(*{a}, b)\n",
    "a, b"
   ]
  },
  {
   "cell_type": "code",
   "execution_count": null,
   "metadata": {},
   "outputs": [],
   "source": [
    "def my_func_04(a, b):\n",
    "    return b, a"
   ]
  },
  {
   "cell_type": "code",
   "execution_count": null,
   "metadata": {},
   "outputs": [],
   "source": [
    "a, b = my_func_04(a, b)\n",
    "a, b"
   ]
  },
  {
   "cell_type": "code",
   "execution_count": null,
   "metadata": {},
   "outputs": [],
   "source": [
    "def my_func_05(args):\n",
    "    args[0] = 1"
   ]
  },
  {
   "cell_type": "code",
   "execution_count": null,
   "metadata": {},
   "outputs": [],
   "source": [
    "args = [3, 4]\n",
    "my_func_05(args)\n",
    "args"
   ]
  },
  {
   "cell_type": "markdown",
   "metadata": {},
   "source": [
    "## Pengenalan Numpy"
   ]
  },
  {
   "cell_type": "code",
   "execution_count": 1,
   "metadata": {},
   "outputs": [],
   "source": [
    "import numpy as np"
   ]
  },
  {
   "cell_type": "code",
   "execution_count": 3,
   "metadata": {},
   "outputs": [],
   "source": [
    "mylist1 = [1, 2, 3, 4, 5]\n",
    "mylist2 = [4.5, 2, 1.3, 4, 5]"
   ]
  },
  {
   "cell_type": "code",
   "execution_count": 5,
   "metadata": {},
   "outputs": [
    {
     "data": {
      "text/plain": [
       "array([ 4.5,  4. ,  3.9, 16. , 25. ])"
      ]
     },
     "execution_count": 5,
     "metadata": {},
     "output_type": "execute_result"
    }
   ],
   "source": [
    "np.array(mylist1)*np.array(mylist2)"
   ]
  },
  {
   "cell_type": "code",
   "execution_count": 7,
   "metadata": {},
   "outputs": [],
   "source": [
    "x1 = np.array([1,2,3,4,4])"
   ]
  },
  {
   "cell_type": "code",
   "execution_count": 8,
   "metadata": {},
   "outputs": [
    {
     "data": {
      "text/plain": [
       "numpy.ndarray"
      ]
     },
     "execution_count": 8,
     "metadata": {},
     "output_type": "execute_result"
    }
   ],
   "source": [
    "type(x1)"
   ]
  },
  {
   "cell_type": "code",
   "execution_count": 9,
   "metadata": {},
   "outputs": [
    {
     "data": {
      "text/plain": [
       "array([0.5, 1. , 1.5, 2. , 2. ])"
      ]
     },
     "execution_count": 9,
     "metadata": {},
     "output_type": "execute_result"
    }
   ],
   "source": [
    "0.5*x1"
   ]
  },
  {
   "cell_type": "code",
   "execution_count": 15,
   "metadata": {},
   "outputs": [
    {
     "data": {
      "text/plain": [
       "matrix([[1, 2, 3, 4],\n",
       "        [1, 3, 2, 4]])"
      ]
     },
     "execution_count": 15,
     "metadata": {},
     "output_type": "execute_result"
    }
   ],
   "source": [
    "A = np.matrix([[1,2,3,4], [1,3,2,4]])\n",
    "A"
   ]
  },
  {
   "cell_type": "code",
   "execution_count": 16,
   "metadata": {},
   "outputs": [
    {
     "data": {
      "text/plain": [
       "2"
      ]
     },
     "execution_count": 16,
     "metadata": {},
     "output_type": "execute_result"
    }
   ],
   "source": [
    "A[1,2]"
   ]
  },
  {
   "cell_type": "code",
   "execution_count": 17,
   "metadata": {},
   "outputs": [
    {
     "data": {
      "text/plain": [
       "matrix([[2],\n",
       "        [3]])"
      ]
     },
     "execution_count": 17,
     "metadata": {},
     "output_type": "execute_result"
    }
   ],
   "source": [
    "A[:,1]"
   ]
  },
  {
   "cell_type": "code",
   "execution_count": 18,
   "metadata": {},
   "outputs": [
    {
     "data": {
      "text/plain": [
       "matrix([[1, 3, 2, 4]])"
      ]
     },
     "execution_count": 18,
     "metadata": {},
     "output_type": "execute_result"
    }
   ],
   "source": [
    "A[1,:]"
   ]
  },
  {
   "cell_type": "code",
   "execution_count": 44,
   "metadata": {},
   "outputs": [
    {
     "data": {
      "text/plain": [
       "matrix([[1, 2, 3, 4],\n",
       "        [1, 3, 2, 4]])"
      ]
     },
     "execution_count": 44,
     "metadata": {},
     "output_type": "execute_result"
    }
   ],
   "source": [
    "B = np.matrix.copy(A)\n",
    "B"
   ]
  },
  {
   "cell_type": "code",
   "execution_count": 45,
   "metadata": {},
   "outputs": [
    {
     "data": {
      "text/plain": [
       "matrix([[ 2,  5,  5,  8],\n",
       "        [ 5, 13, 12, 20],\n",
       "        [ 5, 12, 13, 20],\n",
       "        [ 8, 20, 20, 32]])"
      ]
     },
     "execution_count": 45,
     "metadata": {},
     "output_type": "execute_result"
    }
   ],
   "source": [
    "B.transpose()*B"
   ]
  },
  {
   "cell_type": "code",
   "execution_count": 46,
   "metadata": {},
   "outputs": [
    {
     "data": {
      "text/plain": [
       "\u001b[0;31mSignature:\u001b[0m \u001b[0mnp\u001b[0m\u001b[0;34m.\u001b[0m\u001b[0mlinalg\u001b[0m\u001b[0;34m.\u001b[0m\u001b[0msolve\u001b[0m\u001b[0;34m(\u001b[0m\u001b[0ma\u001b[0m\u001b[0;34m,\u001b[0m \u001b[0mb\u001b[0m\u001b[0;34m)\u001b[0m\u001b[0;34m\u001b[0m\u001b[0;34m\u001b[0m\u001b[0m\n",
       "\u001b[0;31mDocstring:\u001b[0m\n",
       "Solve a linear matrix equation, or system of linear scalar equations.\n",
       "\n",
       "Computes the \"exact\" solution, `x`, of the well-determined, i.e., full\n",
       "rank, linear matrix equation `ax = b`.\n",
       "\n",
       "Parameters\n",
       "----------\n",
       "a : (..., M, M) array_like\n",
       "    Coefficient matrix.\n",
       "b : {(..., M,), (..., M, K)}, array_like\n",
       "    Ordinate or \"dependent variable\" values.\n",
       "\n",
       "Returns\n",
       "-------\n",
       "x : {(..., M,), (..., M, K)} ndarray\n",
       "    Solution to the system a x = b.  Returned shape is identical to `b`.\n",
       "\n",
       "Raises\n",
       "------\n",
       "LinAlgError\n",
       "    If `a` is singular or not square.\n",
       "\n",
       "Notes\n",
       "-----\n",
       "\n",
       ".. versionadded:: 1.8.0\n",
       "\n",
       "Broadcasting rules apply, see the `numpy.linalg` documentation for\n",
       "details.\n",
       "\n",
       "The solutions are computed using LAPACK routine _gesv\n",
       "\n",
       "`a` must be square and of full-rank, i.e., all rows (or, equivalently,\n",
       "columns) must be linearly independent; if either is not true, use\n",
       "`lstsq` for the least-squares best \"solution\" of the\n",
       "system/equation.\n",
       "\n",
       "References\n",
       "----------\n",
       ".. [1] G. Strang, *Linear Algebra and Its Applications*, 2nd Ed., Orlando,\n",
       "       FL, Academic Press, Inc., 1980, pg. 22.\n",
       "\n",
       "Examples\n",
       "--------\n",
       "Solve the system of equations ``3 * x0 + x1 = 9`` and ``x0 + 2 * x1 = 8``:\n",
       "\n",
       ">>> a = np.array([[3,1], [1,2]])\n",
       ">>> b = np.array([9,8])\n",
       ">>> x = np.linalg.solve(a, b)\n",
       ">>> x\n",
       "array([ 2.,  3.])\n",
       "\n",
       "Check that the solution is correct:\n",
       "\n",
       ">>> np.allclose(np.dot(a, x), b)\n",
       "True\n",
       "\u001b[0;31mFile:\u001b[0m      ~/mysoftwares/anaconda3/lib/python3.6/site-packages/numpy/linalg/linalg.py\n",
       "\u001b[0;31mType:\u001b[0m      function\n"
      ]
     },
     "metadata": {},
     "output_type": "display_data"
    }
   ],
   "source": [
    "?np.linalg.solve"
   ]
  },
  {
   "cell_type": "code",
   "execution_count": 48,
   "metadata": {},
   "outputs": [
    {
     "name": "stdout",
     "output_type": "stream",
     "text": [
      "[[ 6. -4.  1.]\n",
      " [-4.  6. -4.]\n",
      " [ 1. -4.  6.]]\n",
      "[[-14.  22.]\n",
      " [ 36. -18.]\n",
      " [  6.   7.]]\n"
     ]
    }
   ],
   "source": [
    "A = np.matrix([[6, -4, 1], [-4, 6, -4], [1, -4, 6]], dtype=np.float64)\n",
    "b = b = np.matrix([[-14, 36, 6],[22, -18, 7]], dtype=np.float64).transpose()\n",
    "print(A)\n",
    "print(b)"
   ]
  },
  {
   "cell_type": "code",
   "execution_count": 49,
   "metadata": {},
   "outputs": [
    {
     "data": {
      "text/plain": [
       "matrix([[ 1.00000000e+01,  3.00000000e+00],\n",
       "        [ 2.20000000e+01, -1.00000000e+00],\n",
       "        [ 1.40000000e+01, -1.77635684e-16]])"
      ]
     },
     "execution_count": 49,
     "metadata": {},
     "output_type": "execute_result"
    }
   ],
   "source": [
    "np.linalg.solve(A,b)"
   ]
  },
  {
   "cell_type": "code",
   "execution_count": null,
   "metadata": {},
   "outputs": [],
   "source": []
  },
  {
   "cell_type": "code",
   "execution_count": null,
   "metadata": {},
   "outputs": [],
   "source": []
  },
  {
   "cell_type": "code",
   "execution_count": null,
   "metadata": {},
   "outputs": [],
   "source": []
  },
  {
   "cell_type": "code",
   "execution_count": null,
   "metadata": {},
   "outputs": [],
   "source": []
  },
  {
   "cell_type": "code",
   "execution_count": null,
   "metadata": {},
   "outputs": [],
   "source": []
  },
  {
   "cell_type": "code",
   "execution_count": null,
   "metadata": {},
   "outputs": [],
   "source": []
  },
  {
   "cell_type": "code",
   "execution_count": 21,
   "metadata": {},
   "outputs": [
    {
     "data": {
      "text/plain": [
       "array([[1, 2, 3, 4],\n",
       "       [1, 1, 1, 1]])"
      ]
     },
     "execution_count": 21,
     "metadata": {},
     "output_type": "execute_result"
    }
   ],
   "source": [
    "B[1,:] = 1.0\n",
    "B"
   ]
  },
  {
   "cell_type": "code",
   "execution_count": 22,
   "metadata": {},
   "outputs": [
    {
     "data": {
      "text/plain": [
       "(2, 4)"
      ]
     },
     "execution_count": 22,
     "metadata": {},
     "output_type": "execute_result"
    }
   ],
   "source": [
    "B.shape"
   ]
  },
  {
   "cell_type": "code",
   "execution_count": 23,
   "metadata": {},
   "outputs": [
    {
     "data": {
      "text/plain": [
       "2"
      ]
     },
     "execution_count": 23,
     "metadata": {},
     "output_type": "execute_result"
    }
   ],
   "source": [
    "B.trace()"
   ]
  },
  {
   "cell_type": "code",
   "execution_count": 25,
   "metadata": {},
   "outputs": [
    {
     "data": {
      "text/plain": [
       "array([[1, 1],\n",
       "       [2, 1],\n",
       "       [3, 1],\n",
       "       [4, 1]])"
      ]
     },
     "execution_count": 25,
     "metadata": {},
     "output_type": "execute_result"
    }
   ],
   "source": [
    "B.transpose()"
   ]
  },
  {
   "cell_type": "code",
   "execution_count": 28,
   "metadata": {},
   "outputs": [
    {
     "data": {
      "text/plain": [
       "array([[ 2,  3,  4,  5],\n",
       "       [ 3,  5,  7,  9],\n",
       "       [ 4,  7, 10, 13],\n",
       "       [ 5,  9, 13, 17]])"
      ]
     },
     "execution_count": 28,
     "metadata": {},
     "output_type": "execute_result"
    }
   ],
   "source": [
    "np.matmul(B.transpose(), B)"
   ]
  },
  {
   "cell_type": "code",
   "execution_count": 30,
   "metadata": {},
   "outputs": [
    {
     "data": {
      "text/plain": [
       "(numpy.ndarray, array([[1, 1],\n",
       "        [2, 1],\n",
       "        [3, 1],\n",
       "        [4, 1]]))"
      ]
     },
     "execution_count": 30,
     "metadata": {},
     "output_type": "execute_result"
    }
   ],
   "source": [
    "Bt = B.transpose()\n",
    "type(Bt), Bt"
   ]
  },
  {
   "cell_type": "code",
   "execution_count": 31,
   "metadata": {},
   "outputs": [
    {
     "data": {
      "text/plain": [
       "(array([[1, 1],\n",
       "        [2, 0],\n",
       "        [3, 1],\n",
       "        [4, 1]]), array([[1, 2, 3, 4],\n",
       "        [1, 0, 1, 1]]))"
      ]
     },
     "execution_count": 31,
     "metadata": {},
     "output_type": "execute_result"
    }
   ],
   "source": [
    "Bt[1,1] = 0.0\n",
    "Bt, B"
   ]
  },
  {
   "cell_type": "code",
   "execution_count": 40,
   "metadata": {},
   "outputs": [
    {
     "data": {
      "text/plain": [
       "matrix([[1, 1],\n",
       "        [2, 0],\n",
       "        [3, 1],\n",
       "        [4, 1]])"
      ]
     },
     "execution_count": 40,
     "metadata": {},
     "output_type": "execute_result"
    }
   ],
   "source": [
    "Bt2 = np.matrix(B.transpose())\n",
    "Bt2"
   ]
  },
  {
   "cell_type": "markdown",
   "metadata": {},
   "source": [
    "2d `ndarray` sedikit berbeda dengan `matrix`."
   ]
  },
  {
   "cell_type": "code",
   "execution_count": 41,
   "metadata": {},
   "outputs": [
    {
     "data": {
      "text/plain": [
       "matrix([[ 2,  2,  4,  5],\n",
       "        [ 2,  4,  6,  8],\n",
       "        [ 4,  6, 10, 13],\n",
       "        [ 5,  8, 13, 17]])"
      ]
     },
     "execution_count": 41,
     "metadata": {},
     "output_type": "execute_result"
    }
   ],
   "source": [
    "Bt2*B"
   ]
  },
  {
   "cell_type": "code",
   "execution_count": null,
   "metadata": {},
   "outputs": [],
   "source": [
    "np.matrixlib."
   ]
  },
  {
   "cell_type": "code",
   "execution_count": null,
   "metadata": {},
   "outputs": [],
   "source": []
  },
  {
   "cell_type": "code",
   "execution_count": 39,
   "metadata": {},
   "outputs": [
    {
     "data": {
      "text/plain": [
       "array([[ 2,  2,  4,  5],\n",
       "       [ 2,  4,  6,  8],\n",
       "       [ 4,  6, 10, 13],\n",
       "       [ 5,  8, 13, 17]])"
      ]
     },
     "execution_count": 39,
     "metadata": {},
     "output_type": "execute_result"
    }
   ],
   "source": [
    "np.matmul(Bt2,B)"
   ]
  },
  {
   "cell_type": "code",
   "execution_count": null,
   "metadata": {},
   "outputs": [],
   "source": []
  },
  {
   "cell_type": "code",
   "execution_count": null,
   "metadata": {},
   "outputs": [],
   "source": []
  },
  {
   "cell_type": "code",
   "execution_count": 24,
   "metadata": {},
   "outputs": [
    {
     "data": {
      "text/plain": [
       "\u001b[0;31mSignature:\u001b[0m \u001b[0mnp\u001b[0m\u001b[0;34m.\u001b[0m\u001b[0mtrace\u001b[0m\u001b[0;34m(\u001b[0m\u001b[0ma\u001b[0m\u001b[0;34m,\u001b[0m \u001b[0moffset\u001b[0m\u001b[0;34m=\u001b[0m\u001b[0;36m0\u001b[0m\u001b[0;34m,\u001b[0m \u001b[0maxis1\u001b[0m\u001b[0;34m=\u001b[0m\u001b[0;36m0\u001b[0m\u001b[0;34m,\u001b[0m \u001b[0maxis2\u001b[0m\u001b[0;34m=\u001b[0m\u001b[0;36m1\u001b[0m\u001b[0;34m,\u001b[0m \u001b[0mdtype\u001b[0m\u001b[0;34m=\u001b[0m\u001b[0;32mNone\u001b[0m\u001b[0;34m,\u001b[0m \u001b[0mout\u001b[0m\u001b[0;34m=\u001b[0m\u001b[0;32mNone\u001b[0m\u001b[0;34m)\u001b[0m\u001b[0;34m\u001b[0m\u001b[0;34m\u001b[0m\u001b[0m\n",
       "\u001b[0;31mDocstring:\u001b[0m\n",
       "Return the sum along diagonals of the array.\n",
       "\n",
       "If `a` is 2-D, the sum along its diagonal with the given offset\n",
       "is returned, i.e., the sum of elements ``a[i,i+offset]`` for all i.\n",
       "\n",
       "If `a` has more than two dimensions, then the axes specified by axis1 and\n",
       "axis2 are used to determine the 2-D sub-arrays whose traces are returned.\n",
       "The shape of the resulting array is the same as that of `a` with `axis1`\n",
       "and `axis2` removed.\n",
       "\n",
       "Parameters\n",
       "----------\n",
       "a : array_like\n",
       "    Input array, from which the diagonals are taken.\n",
       "offset : int, optional\n",
       "    Offset of the diagonal from the main diagonal. Can be both positive\n",
       "    and negative. Defaults to 0.\n",
       "axis1, axis2 : int, optional\n",
       "    Axes to be used as the first and second axis of the 2-D sub-arrays\n",
       "    from which the diagonals should be taken. Defaults are the first two\n",
       "    axes of `a`.\n",
       "dtype : dtype, optional\n",
       "    Determines the data-type of the returned array and of the accumulator\n",
       "    where the elements are summed. If dtype has the value None and `a` is\n",
       "    of integer type of precision less than the default integer\n",
       "    precision, then the default integer precision is used. Otherwise,\n",
       "    the precision is the same as that of `a`.\n",
       "out : ndarray, optional\n",
       "    Array into which the output is placed. Its type is preserved and\n",
       "    it must be of the right shape to hold the output.\n",
       "\n",
       "Returns\n",
       "-------\n",
       "sum_along_diagonals : ndarray\n",
       "    If `a` is 2-D, the sum along the diagonal is returned.  If `a` has\n",
       "    larger dimensions, then an array of sums along diagonals is returned.\n",
       "\n",
       "See Also\n",
       "--------\n",
       "diag, diagonal, diagflat\n",
       "\n",
       "Examples\n",
       "--------\n",
       ">>> np.trace(np.eye(3))\n",
       "3.0\n",
       ">>> a = np.arange(8).reshape((2,2,2))\n",
       ">>> np.trace(a)\n",
       "array([6, 8])\n",
       "\n",
       ">>> a = np.arange(24).reshape((2,2,2,3))\n",
       ">>> np.trace(a).shape\n",
       "(2, 3)\n",
       "\u001b[0;31mFile:\u001b[0m      ~/mysoftwares/anaconda3/lib/python3.6/site-packages/numpy/core/fromnumeric.py\n",
       "\u001b[0;31mType:\u001b[0m      function\n"
      ]
     },
     "metadata": {},
     "output_type": "display_data"
    }
   ],
   "source": [
    "?np.trace"
   ]
  },
  {
   "cell_type": "code",
   "execution_count": null,
   "metadata": {},
   "outputs": [],
   "source": []
  },
  {
   "cell_type": "code",
   "execution_count": null,
   "metadata": {},
   "outputs": [],
   "source": []
  },
  {
   "cell_type": "code",
   "execution_count": null,
   "metadata": {},
   "outputs": [],
   "source": []
  },
  {
   "cell_type": "code",
   "execution_count": null,
   "metadata": {},
   "outputs": [],
   "source": []
  },
  {
   "cell_type": "code",
   "execution_count": 2,
   "metadata": {},
   "outputs": [
    {
     "data": {
      "text/plain": [
       "array([ 1.        ,  1.09090909,  1.18181818,  1.27272727,  1.36363636,\n",
       "        1.45454545,  1.54545455,  1.63636364,  1.72727273,  1.81818182,\n",
       "        1.90909091,  2.        ,  2.09090909,  2.18181818,  2.27272727,\n",
       "        2.36363636,  2.45454545,  2.54545455,  2.63636364,  2.72727273,\n",
       "        2.81818182,  2.90909091,  3.        ,  3.09090909,  3.18181818,\n",
       "        3.27272727,  3.36363636,  3.45454545,  3.54545455,  3.63636364,\n",
       "        3.72727273,  3.81818182,  3.90909091,  4.        ,  4.09090909,\n",
       "        4.18181818,  4.27272727,  4.36363636,  4.45454545,  4.54545455,\n",
       "        4.63636364,  4.72727273,  4.81818182,  4.90909091,  5.        ,\n",
       "        5.09090909,  5.18181818,  5.27272727,  5.36363636,  5.45454545,\n",
       "        5.54545455,  5.63636364,  5.72727273,  5.81818182,  5.90909091,\n",
       "        6.        ,  6.09090909,  6.18181818,  6.27272727,  6.36363636,\n",
       "        6.45454545,  6.54545455,  6.63636364,  6.72727273,  6.81818182,\n",
       "        6.90909091,  7.        ,  7.09090909,  7.18181818,  7.27272727,\n",
       "        7.36363636,  7.45454545,  7.54545455,  7.63636364,  7.72727273,\n",
       "        7.81818182,  7.90909091,  8.        ,  8.09090909,  8.18181818,\n",
       "        8.27272727,  8.36363636,  8.45454545,  8.54545455,  8.63636364,\n",
       "        8.72727273,  8.81818182,  8.90909091,  9.        ,  9.09090909,\n",
       "        9.18181818,  9.27272727,  9.36363636,  9.45454545,  9.54545455,\n",
       "        9.63636364,  9.72727273,  9.81818182,  9.90909091, 10.        ])"
      ]
     },
     "execution_count": 2,
     "metadata": {},
     "output_type": "execute_result"
    }
   ],
   "source": [
    "np.linspace(1, 10, 100)"
   ]
  },
  {
   "cell_type": "code",
   "execution_count": 51,
   "metadata": {},
   "outputs": [],
   "source": [
    "import scipy\n",
    "import scipy.linalg"
   ]
  },
  {
   "cell_type": "code",
   "execution_count": 52,
   "metadata": {},
   "outputs": [
    {
     "data": {
      "text/plain": [
       "\u001b[0;31mSignature:\u001b[0m \u001b[0mscipy\u001b[0m\u001b[0;34m.\u001b[0m\u001b[0mlinalg\u001b[0m\u001b[0;34m.\u001b[0m\u001b[0mhilbert\u001b[0m\u001b[0;34m(\u001b[0m\u001b[0mn\u001b[0m\u001b[0;34m)\u001b[0m\u001b[0;34m\u001b[0m\u001b[0;34m\u001b[0m\u001b[0m\n",
       "\u001b[0;31mDocstring:\u001b[0m\n",
       "Create a Hilbert matrix of order `n`.\n",
       "\n",
       "Returns the `n` by `n` array with entries `h[i,j] = 1 / (i + j + 1)`.\n",
       "\n",
       "Parameters\n",
       "----------\n",
       "n : int\n",
       "    The size of the array to create.\n",
       "\n",
       "Returns\n",
       "-------\n",
       "h : (n, n) ndarray\n",
       "    The Hilbert matrix.\n",
       "\n",
       "See Also\n",
       "--------\n",
       "invhilbert : Compute the inverse of a Hilbert matrix.\n",
       "\n",
       "Notes\n",
       "-----\n",
       ".. versionadded:: 0.10.0\n",
       "\n",
       "Examples\n",
       "--------\n",
       ">>> from scipy.linalg import hilbert\n",
       ">>> hilbert(3)\n",
       "array([[ 1.        ,  0.5       ,  0.33333333],\n",
       "       [ 0.5       ,  0.33333333,  0.25      ],\n",
       "       [ 0.33333333,  0.25      ,  0.2       ]])\n",
       "\u001b[0;31mFile:\u001b[0m      ~/mysoftwares/anaconda3/lib/python3.6/site-packages/scipy/linalg/special_matrices.py\n",
       "\u001b[0;31mType:\u001b[0m      function\n"
      ]
     },
     "metadata": {},
     "output_type": "display_data"
    }
   ],
   "source": [
    "?scipy.linalg.hilbert"
   ]
  },
  {
   "cell_type": "code",
   "execution_count": 57,
   "metadata": {},
   "outputs": [
    {
     "data": {
      "text/plain": [
       "matrix([[1.        , 0.5       , 0.33333333, 0.25      , 0.2       ,\n",
       "         0.16666667, 0.14285714, 0.125     , 0.11111111, 0.1       ],\n",
       "        [0.5       , 0.33333333, 0.25      , 0.2       , 0.16666667,\n",
       "         0.14285714, 0.125     , 0.11111111, 0.1       , 0.09090909],\n",
       "        [0.33333333, 0.25      , 0.2       , 0.16666667, 0.14285714,\n",
       "         0.125     , 0.11111111, 0.1       , 0.09090909, 0.08333333],\n",
       "        [0.25      , 0.2       , 0.16666667, 0.14285714, 0.125     ,\n",
       "         0.11111111, 0.1       , 0.09090909, 0.08333333, 0.07692308],\n",
       "        [0.2       , 0.16666667, 0.14285714, 0.125     , 0.11111111,\n",
       "         0.1       , 0.09090909, 0.08333333, 0.07692308, 0.07142857],\n",
       "        [0.16666667, 0.14285714, 0.125     , 0.11111111, 0.1       ,\n",
       "         0.09090909, 0.08333333, 0.07692308, 0.07142857, 0.06666667],\n",
       "        [0.14285714, 0.125     , 0.11111111, 0.1       , 0.09090909,\n",
       "         0.08333333, 0.07692308, 0.07142857, 0.06666667, 0.0625    ],\n",
       "        [0.125     , 0.11111111, 0.1       , 0.09090909, 0.08333333,\n",
       "         0.07692308, 0.07142857, 0.06666667, 0.0625    , 0.05882353],\n",
       "        [0.11111111, 0.1       , 0.09090909, 0.08333333, 0.07692308,\n",
       "         0.07142857, 0.06666667, 0.0625    , 0.05882353, 0.05555556],\n",
       "        [0.1       , 0.09090909, 0.08333333, 0.07692308, 0.07142857,\n",
       "         0.06666667, 0.0625    , 0.05882353, 0.05555556, 0.05263158]])"
      ]
     },
     "execution_count": 57,
     "metadata": {},
     "output_type": "execute_result"
    }
   ],
   "source": [
    "H1 = np.matrix(scipy.linalg.hilbert(10))\n",
    "H1"
   ]
  },
  {
   "cell_type": "code",
   "execution_count": 58,
   "metadata": {},
   "outputs": [
    {
     "data": {
      "text/plain": [
       "numpy.matrixlib.defmatrix.matrix"
      ]
     },
     "execution_count": 58,
     "metadata": {},
     "output_type": "execute_result"
    }
   ],
   "source": [
    "type(H1)"
   ]
  },
  {
   "cell_type": "code",
   "execution_count": 60,
   "metadata": {},
   "outputs": [],
   "source": [
    "invH1 = np.linalg.inv(H1)"
   ]
  },
  {
   "cell_type": "code",
   "execution_count": 61,
   "metadata": {},
   "outputs": [],
   "source": [
    "invH1_v2 = scipy.linalg.invhilbert(10)"
   ]
  },
  {
   "cell_type": "code",
   "execution_count": 63,
   "metadata": {},
   "outputs": [
    {
     "data": {
      "text/plain": [
       "\u001b[0;31mSignature:\u001b[0m \u001b[0mscipy\u001b[0m\u001b[0;34m.\u001b[0m\u001b[0mlinalg\u001b[0m\u001b[0;34m.\u001b[0m\u001b[0minvhilbert\u001b[0m\u001b[0;34m(\u001b[0m\u001b[0mn\u001b[0m\u001b[0;34m,\u001b[0m \u001b[0mexact\u001b[0m\u001b[0;34m=\u001b[0m\u001b[0;32mFalse\u001b[0m\u001b[0;34m)\u001b[0m\u001b[0;34m\u001b[0m\u001b[0;34m\u001b[0m\u001b[0m\n",
       "\u001b[0;31mDocstring:\u001b[0m\n",
       "Compute the inverse of the Hilbert matrix of order `n`.\n",
       "\n",
       "The entries in the inverse of a Hilbert matrix are integers.  When `n`\n",
       "is greater than 14, some entries in the inverse exceed the upper limit\n",
       "of 64 bit integers.  The `exact` argument provides two options for\n",
       "dealing with these large integers.\n",
       "\n",
       "Parameters\n",
       "----------\n",
       "n : int\n",
       "    The order of the Hilbert matrix.\n",
       "exact : bool, optional\n",
       "    If False, the data type of the array that is returned is np.float64,\n",
       "    and the array is an approximation of the inverse.\n",
       "    If True, the array is the exact integer inverse array.  To represent\n",
       "    the exact inverse when n > 14, the returned array is an object array\n",
       "    of long integers.  For n <= 14, the exact inverse is returned as an\n",
       "    array with data type np.int64.\n",
       "\n",
       "Returns\n",
       "-------\n",
       "invh : (n, n) ndarray\n",
       "    The data type of the array is np.float64 if `exact` is False.\n",
       "    If `exact` is True, the data type is either np.int64 (for n <= 14)\n",
       "    or object (for n > 14).  In the latter case, the objects in the\n",
       "    array will be long integers.\n",
       "\n",
       "See Also\n",
       "--------\n",
       "hilbert : Create a Hilbert matrix.\n",
       "\n",
       "Notes\n",
       "-----\n",
       ".. versionadded:: 0.10.0\n",
       "\n",
       "Examples\n",
       "--------\n",
       ">>> from scipy.linalg import invhilbert\n",
       ">>> invhilbert(4)\n",
       "array([[   16.,  -120.,   240.,  -140.],\n",
       "       [ -120.,  1200., -2700.,  1680.],\n",
       "       [  240., -2700.,  6480., -4200.],\n",
       "       [ -140.,  1680., -4200.,  2800.]])\n",
       ">>> invhilbert(4, exact=True)\n",
       "array([[   16,  -120,   240,  -140],\n",
       "       [ -120,  1200, -2700,  1680],\n",
       "       [  240, -2700,  6480, -4200],\n",
       "       [ -140,  1680, -4200,  2800]], dtype=int64)\n",
       ">>> invhilbert(16)[7,7]\n",
       "4.2475099528537506e+19\n",
       ">>> invhilbert(16, exact=True)[7,7]\n",
       "42475099528537378560L\n",
       "\u001b[0;31mFile:\u001b[0m      ~/mysoftwares/anaconda3/lib/python3.6/site-packages/scipy/linalg/special_matrices.py\n",
       "\u001b[0;31mType:\u001b[0m      function\n"
      ]
     },
     "metadata": {},
     "output_type": "display_data"
    }
   ],
   "source": [
    "?scipy.linalg.invhilbert"
   ]
  },
  {
   "cell_type": "code",
   "execution_count": 62,
   "metadata": {},
   "outputs": [
    {
     "data": {
      "text/plain": [
       "matrix([[-2.81268089e-03,  2.43145415e-01, -5.18055573e+00,\n",
       "          4.71063712e+01, -2.24718671e+02,  6.17799847e+02,\n",
       "         -1.01366278e+03,  9.79601372e+02, -5.14279797e+02,\n",
       "          1.13095769e+02],\n",
       "        [ 2.43588526e-01, -2.10482964e+01,  4.48320094e+02,\n",
       "         -4.07552538e+03,  1.94382199e+04, -5.34311399e+04,\n",
       "          8.76559096e+04, -8.47007249e+04,  4.44625409e+04,\n",
       "         -9.77696470e+03],\n",
       "        [-5.19702606e+00,  4.48927912e+02, -9.55969953e+03,\n",
       "          8.68878625e+04, -4.14350217e+05,  1.13881405e+06,\n",
       "         -1.86808066e+06,  1.80494655e+06, -9.47413552e+05,\n",
       "          2.08315555e+05],\n",
       "        [ 4.73053792e+01, -4.08530823e+03,  8.69785338e+04,\n",
       "         -7.90431985e+05,  3.76897299e+06, -1.03577975e+07,\n",
       "          1.69893270e+07, -1.64140623e+07,  8.61522485e+06,\n",
       "         -1.89420642e+06],\n",
       "        [-2.25853713e+02,  1.95009453e+04, -4.15124802e+05,\n",
       "          3.77208279e+06, -1.79845615e+07,  4.94210108e+07,\n",
       "         -8.10574990e+07,  7.83087156e+07, -4.10999150e+07,\n",
       "          9.03617265e+06],\n",
       "        [ 6.21333501e+02, -5.36392793e+04,  1.14170370e+06,\n",
       "         -1.03732572e+07,  4.94539716e+07, -1.35889620e+08,\n",
       "          2.22866938e+08, -2.15299863e+08,  1.12994803e+08,\n",
       "         -2.48420885e+07],\n",
       "        [-1.02001909e+03,  8.80456453e+04, -1.87384886e+06,\n",
       "          1.70240270e+07, -8.11560992e+07,  2.22989319e+08,\n",
       "         -3.65699970e+08,  3.53270509e+08, -1.85399555e+08,\n",
       "          4.07592988e+07],\n",
       "        [ 9.86195556e+02, -8.51163542e+04,  1.81135100e+06,\n",
       "         -1.64551400e+07,  7.84399776e+07, -2.15517017e+08,\n",
       "          3.53432743e+08, -3.41409817e+08,  1.79170278e+08,\n",
       "         -3.93889276e+07],\n",
       "        [-5.17942574e+02,  4.46980962e+04, -9.51145223e+05,\n",
       "          8.64014688e+06, -4.11848318e+07,  1.13152798e+08,\n",
       "         -1.85556896e+08,  1.79240018e+08, -9.40622198e+07,\n",
       "          2.06783077e+07],\n",
       "        [ 1.13939185e+02, -9.83203939e+03,  2.09205857e+05,\n",
       "         -1.90032001e+06,  9.05786467e+06, -2.48851273e+07,\n",
       "          4.08075051e+07, -3.94174109e+07,  2.06852092e+07,\n",
       "         -4.54728728e+06]])"
      ]
     },
     "execution_count": 62,
     "metadata": {},
     "output_type": "execute_result"
    }
   ],
   "source": [
    "invH1 - invH1_v2"
   ]
  },
  {
   "cell_type": "code",
   "execution_count": null,
   "metadata": {},
   "outputs": [],
   "source": []
  },
  {
   "cell_type": "code",
   "execution_count": null,
   "metadata": {},
   "outputs": [],
   "source": []
  },
  {
   "cell_type": "code",
   "execution_count": null,
   "metadata": {},
   "outputs": [],
   "source": []
  },
  {
   "cell_type": "code",
   "execution_count": null,
   "metadata": {},
   "outputs": [],
   "source": []
  },
  {
   "cell_type": "code",
   "execution_count": null,
   "metadata": {},
   "outputs": [],
   "source": []
  }
 ],
 "metadata": {
  "kernel_info": {
   "name": "python3"
  },
  "kernelspec": {
   "display_name": "Python 3",
   "language": "python",
   "name": "python3"
  },
  "language_info": {
   "codemirror_mode": {
    "name": "ipython",
    "version": 3
   },
   "file_extension": ".py",
   "mimetype": "text/x-python",
   "name": "python",
   "nbconvert_exporter": "python",
   "pygments_lexer": "ipython3",
   "version": "3.7.3"
  },
  "nteract": {
   "version": "0.12.3"
  }
 },
 "nbformat": 4,
 "nbformat_minor": 2
}
