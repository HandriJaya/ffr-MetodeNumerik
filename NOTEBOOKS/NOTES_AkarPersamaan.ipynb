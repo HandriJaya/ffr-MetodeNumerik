{
 "cells": [
  {
   "cell_type": "markdown",
   "metadata": {},
   "source": [
    "# TF2202 Teknik Komputasi - Akar Persamaan Nonlinear"
   ]
  },
  {
   "cell_type": "markdown",
   "metadata": {},
   "source": [
    "Fadjar Fathurrahman"
   ]
  },
  {
   "cell_type": "code",
   "execution_count": null,
   "metadata": {},
   "outputs": [],
   "source": [
    "import numpy as np\n",
    "import matplotlib.pyplot as plt"
   ]
  },
  {
   "cell_type": "code",
   "execution_count": null,
   "metadata": {},
   "outputs": [],
   "source": [
    "from IPython.display import set_matplotlib_formats\n",
    "set_matplotlib_formats(\"svg\")\n",
    "%matplotlib inline"
   ]
  },
  {
   "cell_type": "code",
   "execution_count": null,
   "metadata": {},
   "outputs": [],
   "source": [
    "import matplotlib\n",
    "matplotlib.style.use(\"dark_background\")\n",
    "#matplotlib.style.use(\"default\")"
   ]
  },
  {
   "cell_type": "markdown",
   "metadata": {},
   "source": [
    "## Metode Bisection"
   ]
  },
  {
   "cell_type": "markdown",
   "metadata": {},
   "source": [
    "Ide dari metode bisection fakta bahwa jika tanda dari $f(x_{1})$ dan $f(x_{2})$ berbeda, maka setidaknya ada satu akar dari persamaan $f(x) = 0$ ada dalam selang $(x_1,x_2)$."
   ]
  },
  {
   "cell_type": "markdown",
   "metadata": {},
   "source": [
    "Misalkan kita ingin mencari akar dari fungsi berikut:\n",
    "$$\n",
    "f(x) = 5x^3 - 5x^2 + 6x - 2\n",
    "$$\n",
    "Untuk memperoleh gambaran mengenai akar dari persamaan $f(x)=0$, kita akan membuat plot dari dari $f(x)$ terlebih dahulu."
   ]
  },
  {
   "cell_type": "code",
   "execution_count": null,
   "metadata": {},
   "outputs": [],
   "source": [
    "def func_01(x):\n",
    "    return 5*x**3 - 5*x**2 + 6*x - 2"
   ]
  },
  {
   "cell_type": "code",
   "execution_count": null,
   "metadata": {},
   "outputs": [],
   "source": [
    "x = np.linspace(0,1,100)\n",
    "y =  func_01(x)\n",
    "plt.clf()\n",
    "plt.plot(x, y, label=\"f(x)\")\n",
    "plt.legend()\n",
    "plt.ylim([-1, 1])\n",
    "plt.grid()"
   ]
  },
  {
   "cell_type": "markdown",
   "metadata": {},
   "source": [
    "Dari plot di atas dapat dilihat bahwa akar dari $f(x)$ terletak di sekitar $x = 0.5$.\n",
    "Sebagai ilustrasi untuk metode bisection kita akan menggunakan interval $x_1 = 0$ dan $x_2 = 1$."
   ]
  },
  {
   "cell_type": "markdown",
   "metadata": {},
   "source": [
    "Mari kita cek bahwa tanda $f(x_1)$ dan $f(x_2)$ memiliki tanda yang berbeda, atau $f(x_1)f(x_2) < 0$."
   ]
  },
  {
   "cell_type": "code",
   "execution_count": null,
   "metadata": {},
   "outputs": [],
   "source": [
    "x1 = 0.0\n",
    "x2 = 1.0\n",
    "f1 = func_01(x1)\n",
    "f2 = func_01(x2)\n",
    "print(\"f1 = \", f1)\n",
    "print(\"f2 = \", f2)\n",
    "print(f1*f2 < 0)"
   ]
  },
  {
   "cell_type": "markdown",
   "metadata": {},
   "source": [
    "Fungsi `np.sign()` juga bisa digunakan untuk mengecek tanda positif atau negatif dari suatu bilangan."
   ]
  },
  {
   "cell_type": "code",
   "execution_count": null,
   "metadata": {},
   "outputs": [],
   "source": [
    "np.sign(-2.0), np.sign(2.1)"
   ]
  },
  {
   "cell_type": "markdown",
   "metadata": {},
   "source": [
    "Sekarang, kita perlu menentukan tebakan akar dari selang $x_1$ dan $x_2$. Dengan metode bisection, tebakan akar dihitung tepat berada di tengah selang yaitu:\n",
    "$$\n",
    "x_{r} = \\frac{x_1 + x_2}{2}\n",
    "$$"
   ]
  },
  {
   "cell_type": "code",
   "execution_count": null,
   "metadata": {},
   "outputs": [],
   "source": [
    "xr = 0.5*(x1 + x2)\n",
    "xr"
   ]
  },
  {
   "cell_type": "markdown",
   "metadata": {},
   "source": [
    "OK, sepertinya kita sudah berada dekat di akar sebenarnya. Mari kita cek nilai $f(x_r)$:"
   ]
  },
  {
   "cell_type": "code",
   "execution_count": null,
   "metadata": {},
   "outputs": [],
   "source": [
    "fxr = func_01(xr)\n",
    "fxr"
   ]
  },
  {
   "cell_type": "markdown",
   "metadata": {},
   "source": [
    "Ternyata nilai dari $f(x_r)$ tidak tepat pada 0. Mari buat plot $f(x)$ pada domain (interval) yang lebih sempit."
   ]
  },
  {
   "cell_type": "code",
   "execution_count": null,
   "metadata": {},
   "outputs": [],
   "source": [
    "x = np.linspace(0.0, 1.0, 500)\n",
    "y = func_01(x)\n",
    "plt.clf()\n",
    "plt.plot(x, y)\n",
    "plt.plot(xr, fxr, marker=\"o\") # Tandai nilai fx pada xr, yaitu (xr,fxr)\n",
    "plt.grid()"
   ]
  },
  {
   "cell_type": "markdown",
   "metadata": {},
   "source": [
    "Kita dapat memperbaiki tebakan akar dengan memilih rentang baru di mana kita akan mengaplikasikan lagi metode bisection. Kita sekarang memiliki 3 titik yaitu $x_1$, $x_2$, dan $x_r$, dengan nilai fungsi pada titik-titik tersebut adalah:"
   ]
  },
  {
   "cell_type": "code",
   "execution_count": null,
   "metadata": {},
   "outputs": [],
   "source": [
    "f1, f2, fxr"
   ]
  },
  {
   "cell_type": "markdown",
   "metadata": {},
   "source": [
    "Dengan informasi tersebut, kita dapat menggunakan $x_r$ sebagai pengganti dari $x_2$ karena selang ini lebih kecil dan diharapkan nilai tebakan akar dapat menjadi lebih dekat dengan akar sebenarnya."
   ]
  },
  {
   "cell_type": "code",
   "execution_count": null,
   "metadata": {},
   "outputs": [],
   "source": [
    "x2 = xr\n",
    "f2 = fxr"
   ]
  },
  {
   "cell_type": "markdown",
   "metadata": {},
   "source": [
    "Cek apakah nilai fungsi pada interval baru ini berbeda tanda (hasil kali $f_(x_{1})$ dan $f(x_2)$ adalah negatif."
   ]
  },
  {
   "cell_type": "code",
   "execution_count": null,
   "metadata": {},
   "outputs": [],
   "source": [
    "print(f1*f2 < 0)"
   ]
  },
  {
   "cell_type": "markdown",
   "metadata": {},
   "source": [
    "Kita hitung lagi tebakan akar $x_r$ sebagai nilai tengah antara $x_{1}$ dan $x_2$:"
   ]
  },
  {
   "cell_type": "code",
   "execution_count": null,
   "metadata": {
    "scrolled": true
   },
   "outputs": [],
   "source": [
    "xr = 0.5*(x1 + x2)\n",
    "fxr = func_01(xr)\n",
    "fxr"
   ]
  },
  {
   "cell_type": "markdown",
   "metadata": {},
   "source": [
    "Sepertinya nilai akar yang kita dapatkan masih belum baik."
   ]
  },
  {
   "cell_type": "code",
   "execution_count": null,
   "metadata": {},
   "outputs": [],
   "source": [
    "x = np.linspace(x1, x2, 500)\n",
    "y = func_01(x)\n",
    "plt.clf()\n",
    "plt.plot(x, y)\n",
    "plt.plot(xr, fxr, marker=\"o\") # Tandai nilai fx pada xr, yaitu (xr,fxr)\n",
    "plt.grid()"
   ]
  },
  {
   "cell_type": "code",
   "execution_count": null,
   "metadata": {},
   "outputs": [],
   "source": [
    "f1, f2, fxr"
   ]
  },
  {
   "cell_type": "markdown",
   "metadata": {},
   "source": [
    "Kita akan melakukan kembali prosedur bisection. Untuk interval baru kita akan ganti $x_1$ dengan $x_r$."
   ]
  },
  {
   "cell_type": "code",
   "execution_count": null,
   "metadata": {},
   "outputs": [],
   "source": [
    "x1 = xr\n",
    "f1 = fxr"
   ]
  },
  {
   "cell_type": "code",
   "execution_count": null,
   "metadata": {},
   "outputs": [],
   "source": [
    "print(f1*f2 < 0)"
   ]
  },
  {
   "cell_type": "markdown",
   "metadata": {},
   "source": [
    "Hitung kembali tebakan akar pada selang $x_1$ dan $x_2$"
   ]
  },
  {
   "cell_type": "code",
   "execution_count": null,
   "metadata": {},
   "outputs": [],
   "source": [
    "xr = 0.5*(x1 + x2)\n",
    "fxr = func_01(xr)\n",
    "fxr"
   ]
  },
  {
   "cell_type": "markdown",
   "metadata": {},
   "source": [
    "Nilai ini sudah lebih dekat dari tebakan-tebakan kita sebelumnya.\n",
    "\n",
    "Untuk mendapatkan tebakan akar yang lebih baik kita akan lakukan sekali lagi metode bisection."
   ]
  },
  {
   "cell_type": "code",
   "execution_count": null,
   "metadata": {},
   "outputs": [],
   "source": [
    "f1, f2, fxr"
   ]
  },
  {
   "cell_type": "code",
   "execution_count": null,
   "metadata": {},
   "outputs": [],
   "source": [
    "x1 = xr\n",
    "f1 = fxr\n",
    "print(f1*f2 < 0)"
   ]
  },
  {
   "cell_type": "code",
   "execution_count": null,
   "metadata": {},
   "outputs": [],
   "source": [
    "xr = 0.5*(x1 + x2)\n",
    "fxr = func_01(xr)\n",
    "fxr"
   ]
  },
  {
   "cell_type": "markdown",
   "metadata": {},
   "source": [
    "Tebakan ini lebih baik dari tebakan sebelumnya karena $f(x_r)$ yang diperoleh lebih dekat dengan 0. Kita dapat melakukan prosedur bisection sekali lagi."
   ]
  },
  {
   "cell_type": "code",
   "execution_count": null,
   "metadata": {},
   "outputs": [],
   "source": [
    "f1, f2, fxr"
   ]
  },
  {
   "cell_type": "code",
   "execution_count": null,
   "metadata": {},
   "outputs": [],
   "source": [
    "x2 = xr\n",
    "f2 = fxr"
   ]
  },
  {
   "cell_type": "code",
   "execution_count": null,
   "metadata": {},
   "outputs": [],
   "source": [
    "xr = 0.5*(x1 + x2)\n",
    "fxr = func_01(xr)\n",
    "fxr"
   ]
  },
  {
   "cell_type": "markdown",
   "metadata": {},
   "source": [
    "Setelah melakukan iterasi metode bisection secara manual, sekarang kita akan membuat prosedur bisection dalam suatu subrutin (fungsi). Fungsi ini menerima masukan `f` sebagai fungsi yang akan dicari akarnya, `x1` dan `x2` sebagai input selang di mana akar akan dicari. Fungsi ini juga menggunakan `TOL` dengan nilai default `1e-10` untuk menentukan akurasi hasil yang diperoleh dan juga `NiterMax` dengan nilai default `100` sebagai jumlah maksimum iterasi yang dilakukan."
   ]
  },
  {
   "cell_type": "code",
   "execution_count": null,
   "metadata": {},
   "outputs": [],
   "source": [
    "def bisection(f, x1, x2, TOL=1e-10, NiterMax=100):\n",
    "    \n",
    "    f1 = f(x1)\n",
    "    f2 = f(x2)\n",
    "    \n",
    "    if f1*f2 > 0:\n",
    "        raise RuntimeError(\"f1 dan f2 memiliki tanda yang sama\")\n",
    "        \n",
    "    for i in range(1,NiterMax+1):\n",
    "        \n",
    "        xr = 0.5*(x1 + x2)\n",
    "        fxr = f(xr)\n",
    "        \n",
    "        if abs(fxr) <= TOL:\n",
    "            print(\"Iterasi konvergen: akar ditemukan\")\n",
    "            return xr\n",
    "        \n",
    "        print(\"Iter = %5d, xr = %18.10f, abs(fxr) = %15.5e\" % (i, xr, abs(fxr)))\n",
    "    \n",
    "        # f1 dan fxr berbeda tanda\n",
    "        if f1*fxr < 0.0:\n",
    "            x2 = xr\n",
    "            f2 = fxr\n",
    "        else:\n",
    "            x1 = xr\n",
    "            f1 = fxr\n",
    "        \n",
    "    print(\"WARNING: Konvergensi tidak diperleh setelah %d iterasi\" % NiterMax)\n",
    "    print(\"WARNING: Nilai tebakan akhir akan dikembalikan\")\n",
    "    return xr"
   ]
  },
  {
   "cell_type": "markdown",
   "metadata": {},
   "source": [
    "Contoh penggunaan:"
   ]
  },
  {
   "cell_type": "code",
   "execution_count": null,
   "metadata": {},
   "outputs": [],
   "source": [
    "xr = bisection(func_01, 0.0, 1.0)"
   ]
  },
  {
   "cell_type": "code",
   "execution_count": null,
   "metadata": {},
   "outputs": [],
   "source": [
    "xr = bisection(func_01, 0.0, 0.5, TOL=1e-9, NiterMax=10)"
   ]
  },
  {
   "cell_type": "code",
   "execution_count": null,
   "metadata": {
    "scrolled": true
   },
   "outputs": [],
   "source": [
    "xr = bisection(func_01, 0.0, 0.5, TOL=1e-9)"
   ]
  },
  {
   "cell_type": "code",
   "execution_count": null,
   "metadata": {
    "scrolled": true
   },
   "outputs": [],
   "source": [
    "xr = bisection(func_01, 0.3, 0.5, NiterMax=100)"
   ]
  },
  {
   "cell_type": "code",
   "execution_count": null,
   "metadata": {},
   "outputs": [],
   "source": [
    "xr = bisection(func_01, 0.3, 0.4)"
   ]
  },
  {
   "cell_type": "markdown",
   "metadata": {},
   "source": [
    "Sebagai contoh lain, kita akan mencari akar persamaan berikut:\n",
    "$$\n",
    "x^2 \\left| \\cos\\left(\\sqrt{x}\\right) \\right| = 5\n",
    "$$\n",
    "Untuk menggunakan fungsi `bisection` kita perlu mengubah persamaan tersebut dalam bentuk $f(x) = 0$:\n",
    "$$\n",
    "f(x) = x^2 \\left| \\cos\\left(\\sqrt{x}\\right) \\right| - 5 = 0\n",
    "$$"
   ]
  },
  {
   "cell_type": "code",
   "execution_count": null,
   "metadata": {},
   "outputs": [],
   "source": [
    "def func_02(x):\n",
    "    return x**2 * np.abs(np.cos(np.sqrt(x))) - 5"
   ]
  },
  {
   "cell_type": "markdown",
   "metadata": {},
   "source": [
    "Kita perlu selang untuk tebakan awal akar. Untuk memperoleh informasi tersebut kita akan buat plot dari $f(x)$ terlebih dahulu."
   ]
  },
  {
   "cell_type": "code",
   "execution_count": null,
   "metadata": {},
   "outputs": [],
   "source": [
    "x = np.linspace(0,5,500)\n",
    "y = func_02(x)\n",
    "plt.clf()\n",
    "plt.plot(x, y)\n",
    "plt.grid()"
   ]
  },
  {
   "cell_type": "markdown",
   "metadata": {},
   "source": [
    "Akar terletak antara $x = 0$ dan $x = 5$."
   ]
  },
  {
   "cell_type": "code",
   "execution_count": null,
   "metadata": {},
   "outputs": [],
   "source": [
    "xr = bisection(func_02, 0, 5)"
   ]
  },
  {
   "cell_type": "code",
   "execution_count": null,
   "metadata": {
    "scrolled": true
   },
   "outputs": [],
   "source": [
    "x = np.linspace(0,5,500)\n",
    "y = func_02(x)\n",
    "plt.clf()\n",
    "plt.plot(x, y)\n",
    "plt.plot(xr, func_02(xr), marker=\"o\")\n",
    "plt.grid()"
   ]
  },
  {
   "cell_type": "markdown",
   "metadata": {},
   "source": [
    "Mari kita coba gunakan selang $x = 3$ dan $x = 4$."
   ]
  },
  {
   "cell_type": "code",
   "execution_count": null,
   "metadata": {},
   "outputs": [],
   "source": [
    "xr = bisection(func_02, 3, 4)"
   ]
  },
  {
   "cell_type": "markdown",
   "metadata": {
    "heading_collapsed": true
   },
   "source": [
    "## Metode Regula-Falsi"
   ]
  },
  {
   "cell_type": "markdown",
   "metadata": {
    "hidden": true
   },
   "source": [
    "Metode regula-falsi mirip dengan metode bisection, namun dengan persamaan yang berbeda untuk menentukan aproksimasi akar. Pada metode bisection, tebakan akar diberikan sebagai nilai tengah dari $x_1$ dan $x_2$ sedangkan pada metode regula-falsi digunakan interpolasi linear\n",
    "antara $f(x_1)$ dan $f(x_2)$. Tebakan akar adalah perpotongan antara garis interpolasi linear ini dengan sumbu $x$. Hasil akhirnya adalah:\n",
    "$$\n",
    "x_r = x_2 - \\frac{f(x_2)}{f(x_1) - f(x_2)}(x_1 - x_2)\n",
    "$$"
   ]
  },
  {
   "cell_type": "code",
   "execution_count": null,
   "metadata": {
    "hidden": true
   },
   "outputs": [],
   "source": [
    "def regula_falsi(f, x1, x2, TOL=1e-10, NiterMax=100):\n",
    "    \n",
    "    f1 = f(x1)\n",
    "    f2 = f(x2)\n",
    "    \n",
    "    if f1*f2 > 0:\n",
    "        raise RuntimeError(\"f1 dan f2 memiliki tanda yang sama\")\n",
    "        \n",
    "    for i in range(1,NiterMax+1):\n",
    "        \n",
    "        xr = x2 - f2*(x1 - x2)/(f1 - f2)\n",
    "        fxr = f(xr)\n",
    "        \n",
    "        if abs(fxr) <= TOL:\n",
    "            print(\"Iterasi konvergen: akar ditemukan\")\n",
    "            return xr\n",
    "        \n",
    "        print(\"Iter = %5d, xr = %18.10f, abs(fxr) = %15.5e\" % (i, xr, abs(fxr)))\n",
    "    \n",
    "        # f1 dan fxr berbeda tanda\n",
    "        if f1*fxr < 0.0:\n",
    "            x2 = xr\n",
    "            f2 = fxr\n",
    "        else:\n",
    "            x1 = xr\n",
    "            f1 = fxr\n",
    "        \n",
    "    print(\"WARNING: Konvergensi tidak diperleh setelah %d iterasi\" % NiterMax)\n",
    "    print(\"WARNING: Nilai tebakan akhir akan dikembalikan\")\n",
    "    return xr"
   ]
  },
  {
   "cell_type": "code",
   "execution_count": null,
   "metadata": {
    "hidden": true
   },
   "outputs": [],
   "source": [
    "xr = regula_falsi(func_01, 0.0, 1.0)"
   ]
  },
  {
   "cell_type": "code",
   "execution_count": null,
   "metadata": {
    "hidden": true
   },
   "outputs": [],
   "source": [
    "xr = regula_falsi(func_02, 3, 4)"
   ]
  },
  {
   "cell_type": "markdown",
   "metadata": {
    "heading_collapsed": true
   },
   "source": [
    "## Metode fixed-point"
   ]
  },
  {
   "cell_type": "markdown",
   "metadata": {
    "hidden": true
   },
   "source": [
    "Pada metode ini, persamaan $f(x)$ yang ingin kita cari akarnya diubah menjadi $x = g(x)$. Contoh: untuk mencari akar dari persamaan $f(x) = e^{-x} - x = 0$ kita mengubah persamaan tersebut menjadi $x = g(x) = e^{-x}$.\n",
    "\n",
    "Iterasi dimulai dengan suatu tebakan awal $x_0$. Nilai tebakan akar berikutnya dihitung dengan persamaan\n",
    "$$\n",
    "x_{i+1} = g(x_{i})\n",
    "$$\n",
    "Jika iterasi ini konvergen, maka $x_{i+1}$ adalah akar dari persamaan $f(x) = 0$.\n",
    "\n",
    "Perhatikan bahwa metode ini tidak selalu konvergen."
   ]
  },
  {
   "cell_type": "code",
   "execution_count": null,
   "metadata": {
    "hidden": true
   },
   "outputs": [],
   "source": [
    "# definisi fungsi g(x) = exp(-x)\n",
    "def func_03(x):\n",
    "    return np.exp(-x)"
   ]
  },
  {
   "cell_type": "code",
   "execution_count": null,
   "metadata": {
    "hidden": true
   },
   "outputs": [],
   "source": [
    "plt.clf()\n",
    "x = np.linspace(0,1,500)\n",
    "plt.plot(x, x, label=\"$f(x) = x$\")\n",
    "plt.plot(x, func_03(x), label=\"$g(x) = exp(-x)$\")\n",
    "plt.legend()\n",
    "plt.grid()"
   ]
  },
  {
   "cell_type": "code",
   "execution_count": null,
   "metadata": {
    "hidden": true
   },
   "outputs": [],
   "source": [
    "def fixed_point(g, x, TOL=1e-10, NiterMax=100):\n",
    "    \n",
    "    for i in range(1,NiterMax+1):\n",
    "        gx = g(x)\n",
    "        print(\"Iter = %5d, x = %18.10f, g(x) = %18.10f abs(x-g(x)) %15.5e\" % (i, x, g(x), abs(x-gx)))\n",
    "        if abs(x - gx) <= TOL:\n",
    "            print(\"Iterasi konvergen: akar ditemukan\")\n",
    "            return x\n",
    "        x = gx\n",
    "    \n",
    "    print(\"WARNING: Konvergensi tidak diperleh setelah %d iterasi\" % NiterMax)\n",
    "    print(\"WARNING: Nilai tebakan akhir akan dikembalikan\")\n",
    "    return x"
   ]
  },
  {
   "cell_type": "code",
   "execution_count": null,
   "metadata": {
    "hidden": true,
    "scrolled": true
   },
   "outputs": [],
   "source": [
    "x0 = 0.0\n",
    "xr = fixed_point(func_03, x0)"
   ]
  },
  {
   "cell_type": "code",
   "execution_count": null,
   "metadata": {
    "hidden": true,
    "scrolled": true
   },
   "outputs": [],
   "source": [
    "plt.clf()\n",
    "x = np.linspace(0,1,500)\n",
    "plt.plot(x, x, label=\"$f(x) = x$\")\n",
    "plt.plot(x, func_03(x), label=\"$g(x) = exp(-x)$\")\n",
    "plt.plot(xr, func_03(xr), marker=\"o\")\n",
    "plt.legend()\n",
    "plt.grid()"
   ]
  },
  {
   "cell_type": "code",
   "execution_count": null,
   "metadata": {
    "hidden": true
   },
   "outputs": [],
   "source": [
    "x0 = 1.0\n",
    "xr = fixed_point(func_03, x0)"
   ]
  },
  {
   "cell_type": "code",
   "execution_count": null,
   "metadata": {
    "hidden": true
   },
   "outputs": [],
   "source": [
    "x0 = -10.0\n",
    "xr = fixed_point(func_03, x0)"
   ]
  },
  {
   "cell_type": "markdown",
   "metadata": {
    "heading_collapsed": true
   },
   "source": [
    "## Metode Newton-Raphson"
   ]
  },
  {
   "cell_type": "markdown",
   "metadata": {
    "hidden": true
   },
   "source": [
    "Metode Newton-Raphson adalah salah satu metode yang paling sering digunakan untuk mencari akar persamaan nonlinear. Metode ini memerlukan informasi tebakan awal akar dan turunan pertama dari fungsi yang akan dicari akarnya.\n",
    "\n",
    "Metode Newton-Rapshon dapat diturunkan dari deret Taylor untuk $f(x)$ disekitar $x$:\n",
    "$$\n",
    "f(x_{i+1}) = f(x_{i}) +\n",
    "f'(x_{i})(x_{i+1} - x_{i}) +\n",
    "\\mathcal{O}(x_{i+1} - x_{i})^2\n",
    "$$\n",
    "\n",
    "Jika $x_{i+1}$ adalah akar dari $f(x)=0$ maka diperoleh:\n",
    "$$\n",
    "0 = f(x_{i}) +\n",
    "f'(x_{i})(x_{i+1} - x_{i}) +\n",
    "\\mathcal{O}(x_{i+1} - x_{i})^2\n",
    "$$\n",
    "\n",
    "Dengan mengasumsikan $x_{i}$ dekat dengan $x_{i+1}$, suku $\\mathcal{O}(x_{i+1} - x_{i})$ dapat dianggap nol sehingga diperoleh:\n",
    "$$\n",
    "x_{i+1} = x_{i} - \\frac{f(x_{i})}{f'(x_{i})}\n",
    "$$"
   ]
  },
  {
   "cell_type": "markdown",
   "metadata": {
    "hidden": true
   },
   "source": [
    "Sebagai contoh, kita akan menghitung akar dari persamaan $f(x) = x^3 - 35$"
   ]
  },
  {
   "cell_type": "code",
   "execution_count": null,
   "metadata": {
    "hidden": true
   },
   "outputs": [],
   "source": [
    "def func_04(x):\n",
    "    return x**3 - 35.0\n",
    "\n",
    "def dfunc_04(x):\n",
    "    return 3*x**2"
   ]
  },
  {
   "cell_type": "code",
   "execution_count": null,
   "metadata": {
    "hidden": true
   },
   "outputs": [],
   "source": [
    "plt.clf()\n",
    "x = np.linspace(2,4,500)\n",
    "plt.plot(x, func_04(x))\n",
    "plt.grid()"
   ]
  },
  {
   "cell_type": "code",
   "execution_count": null,
   "metadata": {
    "hidden": true
   },
   "outputs": [],
   "source": [
    "def newton_raphson(f, df, x, TOL=1e-10, NiterMax=100):\n",
    "    \n",
    "    SMALL = np.finfo(float).eps\n",
    "    \n",
    "    for i in range(1,NiterMax+1):\n",
    "        fx = f(x)\n",
    "        dfx = df(x)\n",
    "        \n",
    "        if abs(dfx) <= SMALL:\n",
    "            raise RuntimeError(\"Turunan f(x) sangat kecil\")\n",
    "            \n",
    "        xr = x - fx/dfx\n",
    "        \n",
    "        print(\"Iter = %5d, x = %18.10f, abs(f(x)) %15.5e\" % (i, x, abs(fx)))\n",
    "        if abs(fx) <= TOL:\n",
    "            print(\"Iterasi konvergen: akar ditemukan\")\n",
    "            return x\n",
    "        \n",
    "        x = xr\n",
    "    \n",
    "    print(\"WARNING: Konvergensi tidak diperleh setelah %d iterasi\" % NiterMax)\n",
    "    print(\"WARNING: Nilai tebakan akhir akan dikembalikan\")\n",
    "    return x"
   ]
  },
  {
   "cell_type": "markdown",
   "metadata": {
    "hidden": true
   },
   "source": [
    "Kita akan coba mencari akar persamaan `func_04` dengan beberapa tebakan awal."
   ]
  },
  {
   "cell_type": "code",
   "execution_count": null,
   "metadata": {
    "hidden": true
   },
   "outputs": [],
   "source": [
    "x0 = 3.0\n",
    "xr = newton_raphson(func_04, dfunc_04, x0)"
   ]
  },
  {
   "cell_type": "code",
   "execution_count": null,
   "metadata": {
    "hidden": true
   },
   "outputs": [],
   "source": [
    "x0 = 4.0\n",
    "xr = newton_raphson(func_04, dfunc_04, x0)"
   ]
  },
  {
   "cell_type": "code",
   "execution_count": null,
   "metadata": {
    "hidden": true
   },
   "outputs": [],
   "source": [
    "x0 = 10.0\n",
    "xr = newton_raphson(func_04, dfunc_04, x0)"
   ]
  },
  {
   "cell_type": "markdown",
   "metadata": {
    "hidden": true
   },
   "source": [
    " Kita coba mencari akar dari `func_01`. Kita perlu mendefinisikan dulu turunan dari `func_01`."
   ]
  },
  {
   "cell_type": "code",
   "execution_count": null,
   "metadata": {
    "hidden": true
   },
   "outputs": [],
   "source": [
    "def dfunc_01(x):\n",
    "    return 15*x**2 - 10*x + 6"
   ]
  },
  {
   "cell_type": "code",
   "execution_count": null,
   "metadata": {
    "hidden": true
   },
   "outputs": [],
   "source": [
    "xr = newton_raphson(func_01, dfunc_01, 0.0)"
   ]
  },
  {
   "cell_type": "code",
   "execution_count": null,
   "metadata": {
    "hidden": true
   },
   "outputs": [],
   "source": [
    "xr = newton_raphson(func_01, dfunc_01, 1.0)"
   ]
  },
  {
   "cell_type": "code",
   "execution_count": null,
   "metadata": {
    "hidden": true
   },
   "outputs": [],
   "source": [
    "xr = newton_raphson(func_01, dfunc_01, 10.0)"
   ]
  },
  {
   "cell_type": "markdown",
   "metadata": {
    "hidden": true
   },
   "source": [
    "Sebagai perbandingan dengan metode fixed-point, kita akan menghitung akar dari persamaan $f(x) = e^{-x} - x$. Turunan pertama dari fungsi ini adalah $f'(x) = -e^{-x} - 1$"
   ]
  },
  {
   "cell_type": "code",
   "execution_count": null,
   "metadata": {
    "hidden": true
   },
   "outputs": [],
   "source": [
    "def func_05(x):\n",
    "    return np.exp(-x) - x\n",
    "\n",
    "def dfunc_05(x):\n",
    "    return -np.exp(-x) - 1"
   ]
  },
  {
   "cell_type": "code",
   "execution_count": null,
   "metadata": {
    "hidden": true
   },
   "outputs": [],
   "source": [
    "x0 = 0.0\n",
    "xr = newton_raphson(func_05, dfunc_05, x0)"
   ]
  },
  {
   "cell_type": "markdown",
   "metadata": {
    "hidden": true
   },
   "source": [
    "Dapat diamati bahwa metode Newton-Raphson konvergen dengan cepat dibandingkan dengan metode fixed-point."
   ]
  },
  {
   "cell_type": "markdown",
   "metadata": {
    "heading_collapsed": true
   },
   "source": [
    "## Metode secant"
   ]
  },
  {
   "cell_type": "markdown",
   "metadata": {
    "hidden": true
   },
   "source": [
    "Metode secant menggunakan ide yang sama dengan metode Newton-Raphson. Perbedaannya adalah metode secant menggunakan aproksimasi terhadap turunan pertama dari $f(x)$.\n",
    "$$\n",
    "f'(x) \\approx \\frac{f(x_{i-1}) - f(x_{i})}{x_{i-1} - x_{i}}\n",
    "$$"
   ]
  },
  {
   "cell_type": "code",
   "execution_count": null,
   "metadata": {
    "hidden": true
   },
   "outputs": [],
   "source": [
    "def secant(f, x, TOL=1e-10, NiterMax=100, DELTA=0.001):\n",
    "    \n",
    "    SMALL = np.finfo(float).eps\n",
    "    \n",
    "    # Untuk aproksimasi turunan pertama\n",
    "    x_old = x + DELTA\n",
    "        \n",
    "    for i in range(1,NiterMax+1):\n",
    "        \n",
    "        fx = f(x)\n",
    "        fx_old = f(x_old)\n",
    "\n",
    "        dfx = (fx_old - fx)/(x_old - x)\n",
    "        \n",
    "        if abs(dfx) <= SMALL:\n",
    "            raise RuntimeError(\"Turunan f(x) sangat kecil\")\n",
    "            \n",
    "        xr = x - fx/dfx\n",
    "        \n",
    "        print(\"Iter = %5d, x = %18.10f, abs(f(x)) %15.5e\" % (i, x, abs(fx)))\n",
    "        if abs(fx) <= TOL:\n",
    "            print(\"Iterasi konvergen: akar ditemukan\")\n",
    "            return x\n",
    "        \n",
    "        x_old = x\n",
    "        x = xr\n",
    "    \n",
    "    print(\"WARNING: Konvergensi tidak diperleh setelah %d iterasi\" % NiterMax)\n",
    "    print(\"WARNING: Nilai tebakan akhir akan dikembalikan\")\n",
    "    return x"
   ]
  },
  {
   "cell_type": "code",
   "execution_count": null,
   "metadata": {
    "hidden": true
   },
   "outputs": [],
   "source": [
    "x0 = 0.0\n",
    "xr = secant(func_05, x0)"
   ]
  },
  {
   "cell_type": "code",
   "execution_count": null,
   "metadata": {
    "hidden": true
   },
   "outputs": [],
   "source": [
    "x0 = 0.0\n",
    "xr = secant(func_01, x0)"
   ]
  },
  {
   "cell_type": "code",
   "execution_count": null,
   "metadata": {
    "hidden": true
   },
   "outputs": [],
   "source": [
    "x0 = 1.0\n",
    "xr = secant(func_04, x0)"
   ]
  },
  {
   "cell_type": "markdown",
   "metadata": {},
   "source": [
    "# Latihan Soal"
   ]
  },
  {
   "cell_type": "markdown",
   "metadata": {
    "heading_collapsed": true
   },
   "source": [
    "## Soal 1"
   ]
  },
  {
   "cell_type": "markdown",
   "metadata": {
    "hidden": true
   },
   "source": [
    "Impedansi dari rangkaian paralel RLC dinyatakan oleh persamaan\n",
    "$$\n",
    "\\frac{1}{Z} = \\sqrt{\\frac{1}{R^2} +\n",
    "\\left( \\omega C - \\frac{1}{\\omega L} \\right)^2 }\n",
    "$$\n",
    "Cari frekuensi angular w untuk Z = 75 ohm, R = 225 ohm, $C = 0.6\\times10^{−6}$ F, and L = 0.5 H. Untuk metoda grafis kerjakan sampai ketelitian 2 angka dibelakang koma. (pentunjuk: akar berada di sekitar 160)"
   ]
  },
  {
   "cell_type": "markdown",
   "metadata": {
    "heading_collapsed": true
   },
   "source": [
    "## Jawaban Soal 1"
   ]
  },
  {
   "cell_type": "code",
   "execution_count": null,
   "metadata": {
    "hidden": true
   },
   "outputs": [],
   "source": [
    "def func_soal_01(omega):\n",
    "    Z = 75.0\n",
    "    R = 225.0\n",
    "    C = 0.6e-6\n",
    "    L = 0.5\n",
    "    term1 = np.sqrt( 1/R**2 + (omega*C - 1/(omega*L))**2 )\n",
    "    return term1 - 1/Z"
   ]
  },
  {
   "cell_type": "code",
   "execution_count": null,
   "metadata": {
    "hidden": true
   },
   "outputs": [],
   "source": [
    "plt.clf()\n",
    "omega = np.linspace(100,200,1000)\n",
    "f = func_soal_01(omega)\n",
    "plt.grid()\n",
    "plt.plot(omega, f)"
   ]
  },
  {
   "cell_type": "markdown",
   "metadata": {
    "heading_collapsed": true,
    "hidden": true
   },
   "source": [
    "### Solusi dengan metode bisection"
   ]
  },
  {
   "cell_type": "code",
   "execution_count": null,
   "metadata": {
    "hidden": true
   },
   "outputs": [],
   "source": [
    "omega_root = bisection(func_soal_01,150,170)"
   ]
  },
  {
   "cell_type": "markdown",
   "metadata": {
    "heading_collapsed": true,
    "hidden": true
   },
   "source": [
    "### Solusi dengan metode regula falsi"
   ]
  },
  {
   "cell_type": "code",
   "execution_count": null,
   "metadata": {
    "hidden": true
   },
   "outputs": [],
   "source": [
    "omega_root = regula_falsi(func_soal_01,150,170)"
   ]
  },
  {
   "cell_type": "markdown",
   "metadata": {
    "heading_collapsed": true,
    "hidden": true
   },
   "source": [
    "### Solusi dengan metode secant"
   ]
  },
  {
   "cell_type": "code",
   "execution_count": null,
   "metadata": {
    "hidden": true
   },
   "outputs": [],
   "source": [
    "omega_root = secant(func_soal_01, 150)"
   ]
  },
  {
   "cell_type": "code",
   "execution_count": null,
   "metadata": {
    "hidden": true
   },
   "outputs": [],
   "source": [
    "func_soal_01(omega_root)"
   ]
  },
  {
   "cell_type": "markdown",
   "metadata": {
    "heading_collapsed": true
   },
   "source": [
    "## Soal 6"
   ]
  },
  {
   "cell_type": "markdown",
   "metadata": {
    "hidden": true
   },
   "source": [
    "Gaya $F$ yang bekerja antara partikel bermuatan $q$ dengan piringan bulat dengan jari-jari $R$ dan rapat muatan $Q$ diberikan oleh persamaan:\n",
    "$$\n",
    "F = \\frac{Qq}{2\\epsilon_{0}}\\left(\n",
    "1 - \\frac{z}{\\sqrt{z^2 + R^2}}\n",
    "\\right)\n",
    "$$\n",
    "dimana $\\epsilon_{0} = 0.885 \\times 10^{-12}$\n",
    "$\\mathrm{C}^{2}/(\\mathrm{Nm}^{2})$\n",
    "adalah konstanta permitivitas dan $z$ adalah jarak partikel terhadap piringan. Tentukan jarak $z$ jika $F = 0.3$ newton\n",
    "$Q = 9.4 \\times 10^{-6}\\,\\mathrm{C/m}^2$\n",
    "$q = 2.4 \\times 10^{-5}$C dan $R=0.1$ m."
   ]
  },
  {
   "cell_type": "markdown",
   "metadata": {
    "heading_collapsed": true
   },
   "source": [
    "## Jawaban Soal 6"
   ]
  },
  {
   "cell_type": "code",
   "execution_count": null,
   "metadata": {
    "hidden": true
   },
   "outputs": [],
   "source": [
    "def func_soal_06(z):\n",
    "    F = 0.3\n",
    "    Q = 9.4e-6\n",
    "    q = 2.4e-5\n",
    "    R = 0.1\n",
    "    ϵ0 = 0.885e-12\n",
    "    RHS = Q*q/(2*ϵ0)*(1 - z/np.sqrt(z**2 + R**2))\n",
    "    return F - RHS"
   ]
  },
  {
   "cell_type": "code",
   "execution_count": null,
   "metadata": {
    "hidden": true
   },
   "outputs": [],
   "source": [
    "import matplotlib.pyplot as plt\n",
    "z = np.linspace(0.5,10.0,1000)\n",
    "ff = func_soal_06(z)\n",
    "plt.clf()\n",
    "plt.grid()\n",
    "plt.plot(z, ff)"
   ]
  },
  {
   "cell_type": "code",
   "execution_count": null,
   "metadata": {
    "hidden": true
   },
   "outputs": [],
   "source": [
    "func_soal_06(4.0)"
   ]
  },
  {
   "cell_type": "code",
   "execution_count": null,
   "metadata": {
    "hidden": true
   },
   "outputs": [],
   "source": [
    "xroot = bisection(func_soal_06, 0.5, 1.5)"
   ]
  },
  {
   "cell_type": "code",
   "execution_count": null,
   "metadata": {
    "hidden": true
   },
   "outputs": [],
   "source": [
    "xroot = regula_falsi(func_soal_06, 0.5, 1.5)"
   ]
  },
  {
   "cell_type": "code",
   "execution_count": null,
   "metadata": {
    "hidden": true
   },
   "outputs": [],
   "source": [
    "xroot = secant(func_soal_06, 1.0)"
   ]
  },
  {
   "cell_type": "code",
   "execution_count": null,
   "metadata": {
    "hidden": true
   },
   "outputs": [],
   "source": []
  },
  {
   "cell_type": "markdown",
   "metadata": {},
   "source": [
    "## Spherical Bessel"
   ]
  },
  {
   "cell_type": "code",
   "execution_count": null,
   "metadata": {},
   "outputs": [],
   "source": [
    "import sympy"
   ]
  },
  {
   "cell_type": "code",
   "execution_count": null,
   "metadata": {},
   "outputs": [],
   "source": [
    "sympy.init_printing(use_latex=True)"
   ]
  },
  {
   "cell_type": "code",
   "execution_count": null,
   "metadata": {},
   "outputs": [],
   "source": [
    "x = sympy.symbols(\"x\")"
   ]
  },
  {
   "cell_type": "code",
   "execution_count": null,
   "metadata": {},
   "outputs": [],
   "source": [
    "def diff_and_divide_by_x(f):\n",
    "    return (1/x)*sympy.diff(f, x)"
   ]
  },
  {
   "cell_type": "markdown",
   "metadata": {},
   "source": [
    "### $j_{1}(x)$"
   ]
  },
  {
   "cell_type": "code",
   "execution_count": null,
   "metadata": {},
   "outputs": [],
   "source": [
    "s1 = diff_and_divide_by_x(sympy.sin(x)/x)"
   ]
  },
  {
   "cell_type": "code",
   "execution_count": null,
   "metadata": {},
   "outputs": [],
   "source": [
    "j1 = -x*s1\n",
    "sympy.simplify(j1)"
   ]
  },
  {
   "cell_type": "markdown",
   "metadata": {},
   "source": [
    "### $j_{2}$"
   ]
  },
  {
   "cell_type": "code",
   "execution_count": null,
   "metadata": {},
   "outputs": [],
   "source": [
    "s2 = diff_and_divide_by_x(s1)\n",
    "s2 = sympy.simplify(s2)\n",
    "s2"
   ]
  },
  {
   "cell_type": "code",
   "execution_count": null,
   "metadata": {},
   "outputs": [],
   "source": [
    "j2 = (-x)**2 * s2\n",
    "sympy.simplify(j2)"
   ]
  },
  {
   "cell_type": "markdown",
   "metadata": {},
   "source": [
    "$j_{3}(x)$"
   ]
  },
  {
   "cell_type": "code",
   "execution_count": null,
   "metadata": {},
   "outputs": [],
   "source": [
    "s1 = diff_and_divide_by_x(sympy.sin(x)/x)\n",
    "s2 = diff_and_divide_by_x(s1)\n",
    "s3 = diff_and_divide_by_x(s2)\n",
    "s3 = sympy.simplify(s3)"
   ]
  },
  {
   "cell_type": "code",
   "execution_count": null,
   "metadata": {},
   "outputs": [],
   "source": [
    "s3"
   ]
  },
  {
   "cell_type": "code",
   "execution_count": null,
   "metadata": {},
   "outputs": [],
   "source": [
    "j3 = (-x)**3 * s3\n",
    "sympy.simplify(j3)"
   ]
  },
  {
   "cell_type": "code",
   "execution_count": null,
   "metadata": {},
   "outputs": [],
   "source": []
  },
  {
   "cell_type": "markdown",
   "metadata": {
    "heading_collapsed": true
   },
   "source": [
    "### Mencari akar dari $j_{2}(x)$ metode numerik"
   ]
  },
  {
   "cell_type": "code",
   "execution_count": null,
   "metadata": {
    "hidden": true
   },
   "outputs": [],
   "source": [
    "def sph_bessel_2(x):\n",
    "    return (3/x**2 - 1)*np.sin(x)/x - 3*np.cos(x)/x**2 "
   ]
  },
  {
   "cell_type": "code",
   "execution_count": null,
   "metadata": {
    "hidden": true
   },
   "outputs": [],
   "source": [
    "plt.clf()\n",
    "x = np.linspace(1e-10,20.0,500)\n",
    "plt.plot(x, sph_bessel_2(x))\n",
    "plt.grid();"
   ]
  },
  {
   "cell_type": "code",
   "execution_count": null,
   "metadata": {
    "hidden": true
   },
   "outputs": [],
   "source": [
    "xroot = secant(sph_bessel_2, 5.0)"
   ]
  },
  {
   "cell_type": "code",
   "execution_count": null,
   "metadata": {
    "hidden": true
   },
   "outputs": [],
   "source": [
    "xroot = secant(sph_bessel_2, 8.0)"
   ]
  },
  {
   "cell_type": "code",
   "execution_count": null,
   "metadata": {
    "hidden": true
   },
   "outputs": [],
   "source": [
    "xroot = secant(sph_bessel_2, 12.0)"
   ]
  },
  {
   "cell_type": "code",
   "execution_count": null,
   "metadata": {
    "hidden": true
   },
   "outputs": [],
   "source": [
    "xroot = secant(sph_bessel_2, 15.0)"
   ]
  },
  {
   "cell_type": "code",
   "execution_count": null,
   "metadata": {
    "hidden": true
   },
   "outputs": [],
   "source": [
    "xroot = secant(sph_bessel_2, 18.0)"
   ]
  },
  {
   "cell_type": "markdown",
   "metadata": {},
   "source": [
    "### Mencari akar dari $j_{3}(x)$ dengan metode numerik"
   ]
  },
  {
   "cell_type": "code",
   "execution_count": null,
   "metadata": {},
   "outputs": [],
   "source": [
    "sph_bessel_3(x[5])"
   ]
  },
  {
   "cell_type": "code",
   "execution_count": null,
   "metadata": {},
   "outputs": [],
   "source": [
    "def sph_bessel_3(x):\n",
    "    return (15/x**3 - 6/x)*np.sin(x)/x - (15/x**2 - 1)*np.cos(x)/x"
   ]
  },
  {
   "cell_type": "code",
   "execution_count": null,
   "metadata": {},
   "outputs": [],
   "source": [
    "plt.clf()\n",
    "x = np.linspace(0.1,20.0,500)\n",
    "plt.plot(x, sph_bessel_3(x))"
   ]
  },
  {
   "cell_type": "code",
   "execution_count": null,
   "metadata": {},
   "outputs": [],
   "source": [
    "xroot = secant(sph_bessel_3, 0.05, TOL=1e-14)"
   ]
  },
  {
   "cell_type": "code",
   "execution_count": null,
   "metadata": {},
   "outputs": [],
   "source": [
    "xroot = secant(sph_bessel_3, 6.0)"
   ]
  },
  {
   "cell_type": "code",
   "execution_count": null,
   "metadata": {},
   "outputs": [],
   "source": [
    "xroot = secant(sph_bessel_3, 10.0)"
   ]
  },
  {
   "cell_type": "code",
   "execution_count": null,
   "metadata": {},
   "outputs": [],
   "source": [
    "xroot = secant(sph_bessel_3, 13.0)"
   ]
  },
  {
   "cell_type": "code",
   "execution_count": null,
   "metadata": {},
   "outputs": [],
   "source": [
    "xroot = secant(sph_bessel_3, 15.0)"
   ]
  },
  {
   "cell_type": "code",
   "execution_count": null,
   "metadata": {},
   "outputs": [],
   "source": [
    "xroot = secant(sph_bessel_3, 17.5)"
   ]
  },
  {
   "cell_type": "code",
   "execution_count": null,
   "metadata": {},
   "outputs": [],
   "source": [
    "xroot = secant(sph_bessel_3, 19.0)"
   ]
  },
  {
   "cell_type": "code",
   "execution_count": null,
   "metadata": {},
   "outputs": [],
   "source": []
  },
  {
   "cell_type": "code",
   "execution_count": null,
   "metadata": {},
   "outputs": [],
   "source": []
  },
  {
   "cell_type": "markdown",
   "metadata": {},
   "source": [
    "### Using mpmath"
   ]
  },
  {
   "cell_type": "code",
   "execution_count": null,
   "metadata": {},
   "outputs": [],
   "source": [
    "import mpmath"
   ]
  },
  {
   "cell_type": "code",
   "execution_count": null,
   "metadata": {},
   "outputs": [],
   "source": [
    "j2 = lambda x: mpmath.besselj(2,x)"
   ]
  },
  {
   "cell_type": "code",
   "execution_count": null,
   "metadata": {},
   "outputs": [],
   "source": [
    "j3 = lambda x: mpmath.besselj(3,x)"
   ]
  },
  {
   "cell_type": "code",
   "execution_count": null,
   "metadata": {},
   "outputs": [],
   "source": [
    "j3(1.0)"
   ]
  },
  {
   "cell_type": "code",
   "execution_count": null,
   "metadata": {},
   "outputs": [],
   "source": [
    "import scipy.special"
   ]
  },
  {
   "cell_type": "code",
   "execution_count": null,
   "metadata": {},
   "outputs": [],
   "source": [
    "import scipy.optimize"
   ]
  },
  {
   "cell_type": "code",
   "execution_count": null,
   "metadata": {},
   "outputs": [],
   "source": [
    "scipy.optimize.root(sph_bessel_3, 0.5)"
   ]
  },
  {
   "cell_type": "code",
   "execution_count": null,
   "metadata": {},
   "outputs": [],
   "source": [
    "sph_bessel_3(0.00890394)"
   ]
  },
  {
   "cell_type": "code",
   "execution_count": null,
   "metadata": {},
   "outputs": [],
   "source": [
    "scipy.optimize.root(sph_bessel_3, 6.9)"
   ]
  },
  {
   "cell_type": "code",
   "execution_count": null,
   "metadata": {},
   "outputs": [],
   "source": [
    "scipy.optimize.root(sph_bessel_3, 10.41)"
   ]
  },
  {
   "cell_type": "code",
   "execution_count": null,
   "metadata": {},
   "outputs": [],
   "source": [
    "scipy.optimize.root(sph_bessel_3, 13.698)"
   ]
  },
  {
   "cell_type": "code",
   "execution_count": null,
   "metadata": {},
   "outputs": [],
   "source": [
    "scipy.optimize.root(sph_bessel_3, 13.6)"
   ]
  },
  {
   "cell_type": "code",
   "execution_count": null,
   "metadata": {},
   "outputs": [],
   "source": [
    "scipy.optimize.root(sph_bessel_3, 16.92)"
   ]
  },
  {
   "cell_type": "code",
   "execution_count": null,
   "metadata": {},
   "outputs": [],
   "source": []
  },
  {
   "cell_type": "code",
   "execution_count": null,
   "metadata": {},
   "outputs": [],
   "source": []
  },
  {
   "cell_type": "code",
   "execution_count": null,
   "metadata": {},
   "outputs": [],
   "source": [
    "scipy.special.spherical_jn()"
   ]
  },
  {
   "cell_type": "code",
   "execution_count": null,
   "metadata": {},
   "outputs": [],
   "source": [
    "plt.clf()\n",
    "x = np.linspace(0.1,20.0,500)\n",
    "y = np.zeros(500)\n",
    "for i in range(500):\n",
    "    #y[i] = np.float64(j3(x[i]))\n",
    "    y[i] = scipy.special.spherical_jn(3,x[i])\n",
    "plt.plot(x, y, label=\"scipy\")\n",
    "plt.plot(x, sph_bessel_3(x), label=\"mine\")\n",
    "plt.legend()"
   ]
  },
  {
   "cell_type": "code",
   "execution_count": null,
   "metadata": {},
   "outputs": [],
   "source": [
    "?mpmath.besselj"
   ]
  },
  {
   "cell_type": "code",
   "execution_count": null,
   "metadata": {},
   "outputs": [],
   "source": []
  },
  {
   "cell_type": "code",
   "execution_count": null,
   "metadata": {},
   "outputs": [],
   "source": [
    "print([mpmath.findroot(j2, k) for k in [1]])"
   ]
  },
  {
   "cell_type": "code",
   "execution_count": null,
   "metadata": {},
   "outputs": [],
   "source": [
    "print([mpmath.findroot(j2, k) for k in [2]])"
   ]
  },
  {
   "cell_type": "code",
   "execution_count": null,
   "metadata": {},
   "outputs": [],
   "source": [
    "print([mpmath.findroot(j2, k) for k in [3]])"
   ]
  },
  {
   "cell_type": "code",
   "execution_count": null,
   "metadata": {},
   "outputs": [],
   "source": [
    "print([mpmath.findroot(j2, k) for k in [3.5]])"
   ]
  },
  {
   "cell_type": "code",
   "execution_count": null,
   "metadata": {},
   "outputs": [],
   "source": [
    "print([mpmath.findroot(j2, k) for k in [6]])"
   ]
  },
  {
   "cell_type": "code",
   "execution_count": null,
   "metadata": {},
   "outputs": [],
   "source": [
    "print([mpmath.findroot(j2, k) for k in [4]])"
   ]
  },
  {
   "cell_type": "code",
   "execution_count": null,
   "metadata": {},
   "outputs": [],
   "source": [
    "print([mpmath.findroot(j2, k) for k in [4]])"
   ]
  },
  {
   "cell_type": "code",
   "execution_count": null,
   "metadata": {},
   "outputs": [],
   "source": [
    "print([mpmath.findroot(j2, k) for k in [7]])"
   ]
  },
  {
   "cell_type": "code",
   "execution_count": null,
   "metadata": {},
   "outputs": [],
   "source": [
    "print([mpmath.findroot(j2, k) for k in [10]])"
   ]
  },
  {
   "cell_type": "code",
   "execution_count": null,
   "metadata": {},
   "outputs": [],
   "source": []
  },
  {
   "cell_type": "code",
   "execution_count": null,
   "metadata": {},
   "outputs": [],
   "source": []
  },
  {
   "cell_type": "code",
   "execution_count": null,
   "metadata": {},
   "outputs": [],
   "source": []
  },
  {
   "cell_type": "code",
   "execution_count": null,
   "metadata": {},
   "outputs": [],
   "source": []
  }
 ],
 "metadata": {
  "kernelspec": {
   "display_name": "Python 3",
   "language": "python",
   "name": "python3"
  },
  "language_info": {
   "codemirror_mode": {
    "name": "ipython",
    "version": 3
   },
   "file_extension": ".py",
   "mimetype": "text/x-python",
   "name": "python",
   "nbconvert_exporter": "python",
   "pygments_lexer": "ipython3",
   "version": "3.7.3"
  }
 },
 "nbformat": 4,
 "nbformat_minor": 2
}
