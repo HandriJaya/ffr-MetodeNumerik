{
 "cells": [
  {
   "cell_type": "markdown",
   "metadata": {},
   "source": [
    "<h1 style=\"text-align: center;\">TF2202 Teknik Komputasi - Persamaan Diferensial Biasa</h1>\n",
    "<h3 style=\"text-align: center;\">Fadjar Fathurrahman</h3>"
   ]
  },
  {
   "cell_type": "code",
   "execution_count": null,
   "metadata": {},
   "outputs": [],
   "source": [
    "import numpy as np\n",
    "import matplotlib.pyplot as plt"
   ]
  },
  {
   "cell_type": "code",
   "execution_count": null,
   "metadata": {},
   "outputs": [],
   "source": [
    "from IPython.display import set_matplotlib_formats\n",
    "set_matplotlib_formats(\"svg\")\n",
    "%matplotlib inline"
   ]
  },
  {
   "cell_type": "code",
   "execution_count": null,
   "metadata": {},
   "outputs": [],
   "source": [
    "import matplotlib\n",
    "matplotlib.style.use(\"default\")\n",
    "#matplotlib.style.use(\"dark_background\")"
   ]
  },
  {
   "cell_type": "code",
   "execution_count": null,
   "metadata": {},
   "outputs": [],
   "source": [
    "import scipy.integrate"
   ]
  },
  {
   "cell_type": "markdown",
   "metadata": {},
   "source": [
    "Dalam notebook ini akan diberikan implementasi sederhana dari beberapa metode yang dapat digunakan untuk menyelesaikan persamaan diferensial biasa."
   ]
  },
  {
   "cell_type": "markdown",
   "metadata": {},
   "source": [
    "Bentuk umum dari persamaan diferensial biasa orde 1 adalah:\n",
    "\n",
    "$$\n",
    "y' = \\frac{\\mathrm{d}y}{\\mathrm{d}x} = f(x,y)\n",
    "$$\n",
    "\n",
    "Solusi dari persamaan ini memiliki satu konstanta sembarang. Konstanta ini dapat ditentukan nilainya jika diberikan nilai $y$ pada suatu titik, misalnya $y(a) = \\alpha$.\n",
    "\n",
    "Persamaan diferensial biasa orde $n$ dapat dituliskan sebagai:\n",
    "\n",
    "$$\n",
    "y^{(n)} = \\frac{\\mathrm{d}^n y}{\\mathrm{d}x^n} = f\\left(x,y,y',\\ldots,y^{(n-1)}\\right)\n",
    "$$\n",
    "\n",
    "Dengan menggunakan notasi $y_0 = y$, $y_1 = y'$, $y_2 = y''$, $\\ldots$, $y_{n-1} = y^{(n-1)}$, persamaan diferensial biasa orde $n$ dapat diubah menjadi persamaan diferensial oder satu sebagai berikut:\n",
    "\n",
    "$$\n",
    "\\begin{align*}\n",
    "y'_{0} &= y_{1} \\\\\n",
    "y'_{1} &= y_{2} \\\\\n",
    "y'_{2} &= y_{3} \\\\\n",
    "\\cdots & = \\cdots \\\\\n",
    "y'_{n} &= f\\left(x,y_{0},y_{1},\\ldots,y_{n-1}\\right)\n",
    "\\end{align*}\n",
    "$$"
   ]
  },
  {
   "cell_type": "markdown",
   "metadata": {},
   "source": [
    "# Metode Euler"
   ]
  },
  {
   "cell_type": "code",
   "execution_count": null,
   "metadata": {},
   "outputs": [],
   "source": [
    "def ode_euler(f, xi, xf, y0, N, verbose=False):\n",
    "    \n",
    "    h = (xf - xi)/N\n",
    "    \n",
    "    if verbose:\n",
    "        print(\"ode_euler h = %18.10f\\n\" % (h))\n",
    "    \n",
    "    xsol = xi + np.arange(0,N+1)*h\n",
    "    \n",
    "    # orde dari ODE ditentukan dari jumlah syarat awal yang diberikan\n",
    "    Ndim = len(y0)\n",
    "    \n",
    "    # array untuk solusi\n",
    "    ysol = np.zeros((N+1,Ndim))\n",
    "    \n",
    "    # aplikasi syarat awal\n",
    "    ysol[0,:] = y0[:]\n",
    "    \n",
    "    for i in range(N):\n",
    "        ysol[i+1,:] = ysol[i,:] + h*f(xsol[i], ysol[i,:])\n",
    "    \n",
    "    return xsol, ysol"
   ]
  },
  {
   "cell_type": "markdown",
   "metadata": {},
   "source": [
    "### Contoh 1"
   ]
  },
  {
   "cell_type": "markdown",
   "metadata": {},
   "source": [
    "Cari solusi dari persamaan diferensial:\n",
    "\n",
    "$$\n",
    "y' + 4y = x^2\n",
    "$$\n",
    "\n",
    "pada rentang $x$ $[0,1]$ dengan syarat awal $y(0) = 1$. Bandingkan hasil yang diperoleh dengan solusi analitik:\n",
    "\n",
    "$$\n",
    "y = \\frac{31}{32}e^{-4x} + \\frac{1}{4}x^2 - \\frac{1}{8}x + \\frac{1}{32}\n",
    "$$"
   ]
  },
  {
   "cell_type": "markdown",
   "metadata": {},
   "source": [
    "Ubah persamaan menjadi bentuk standar $y' = f(x,y)$\n",
    "\n",
    "$$\n",
    "y' = x^2 - 4y\n",
    "$$\n",
    "\n",
    "sehingga $f(x,y) = x^2 - 4y$"
   ]
  },
  {
   "cell_type": "code",
   "execution_count": null,
   "metadata": {},
   "outputs": [],
   "source": [
    "def my_ode_problem_01(x,y):\n",
    "    return x**2 - 4*y\n",
    "\n",
    "xi = 0.0\n",
    "xf = 1.0\n",
    "y0 = [1.0]  # syarat batas dalam bentuk list\n",
    "Ninterval = 50\n",
    "xsol, ysol = ode_euler(my_ode_problem_01, xi, xf, y0, Ninterval, verbose=True)"
   ]
  },
  {
   "cell_type": "code",
   "execution_count": null,
   "metadata": {},
   "outputs": [],
   "source": [
    "def analytic_sol_01(x):\n",
    "    return (31.0/32.0)*np.exp(-4*x) + x**2/4 - x/8 + 1.0/32.0"
   ]
  },
  {
   "cell_type": "code",
   "execution_count": null,
   "metadata": {},
   "outputs": [],
   "source": [
    "plt.clf()\n",
    "plt.plot(xsol, ysol[:,0], label=\"ode_euler\", marker=\"o\", linewidth=0)\n",
    "plt.plot(xsol, analytic_sol_01(xsol), label=\"analitik\")\n",
    "plt.legend();"
   ]
  },
  {
   "cell_type": "markdown",
   "metadata": {},
   "source": [
    "### Contoh 2"
   ]
  },
  {
   "cell_type": "markdown",
   "metadata": {},
   "source": [
    "Selesaikan persamaan diferensial berikut:\n",
    "\n",
    "$$\n",
    "y'' = -0.1y' - x\n",
    "$$\n",
    "\n",
    "pada $x = 0$ sampai dengan 2 dengan syarat awal $y(0) = 0$ dan $y'(0) = 1$ dengan menggunakan ukuran langkah $h = 0.05$.\n",
    "\n",
    "Bandingkan dengan solusi analitik:\n",
    "\n",
    "$$\n",
    "y = 100x - 5x^2 + 990\\left( e^{-0.1x} - 1 \\right)\n",
    "$$"
   ]
  },
  {
   "cell_type": "code",
   "execution_count": null,
   "metadata": {},
   "outputs": [],
   "source": [
    "def my_ode_problem_02(x, y):\n",
    "    f = np.zeros(2)\n",
    "    f[0] = y[1]\n",
    "    f[1] = -0.1*y[1] - x\n",
    "    return f"
   ]
  },
  {
   "cell_type": "code",
   "execution_count": null,
   "metadata": {},
   "outputs": [],
   "source": [
    "def analytic_sol_02(x):\n",
    "    return 100*x - 5*x**2 + 990*(np.exp(-0.1*x) -1)"
   ]
  },
  {
   "cell_type": "code",
   "execution_count": null,
   "metadata": {},
   "outputs": [],
   "source": [
    "xi = 0.0\n",
    "xf = 2.0\n",
    "y0 = [0.0, 1.0]\n",
    "h = 0.05\n",
    "Ninterval = int( (xf - xi)/h )\n",
    "xsol, ysol = ode_euler(my_ode_problem_02, xi, xf, y0, Ninterval, verbose=True)"
   ]
  },
  {
   "cell_type": "code",
   "execution_count": null,
   "metadata": {},
   "outputs": [],
   "source": [
    "plt.clf()\n",
    "plt.plot(xsol, ysol[:,0], label=\"ode_euler\", marker=\"o\", linewidth=0)\n",
    "plt.plot(xsol, analytic_sol_02(xsol), label=\"analitik\")\n",
    "plt.legend();"
   ]
  },
  {
   "cell_type": "code",
   "execution_count": null,
   "metadata": {},
   "outputs": [],
   "source": []
  },
  {
   "cell_type": "markdown",
   "metadata": {},
   "source": [
    "# Metode Runge-Kutta orde 4"
   ]
  },
  {
   "cell_type": "code",
   "execution_count": null,
   "metadata": {},
   "outputs": [],
   "source": [
    "def ode_RK4(f, xi, xf, y0, N, verbose=False):\n",
    "    \n",
    "    h = (xf - xi)/N\n",
    "    \n",
    "    if verbose:\n",
    "        print(\"ode_RK4 h = %18.10f\\n\" % (h))\n",
    "    \n",
    "    xsol = xi + np.arange(0,N+1)*h\n",
    "    \n",
    "    # orde dari ODE ditentukan dari jumlah syarat awal yang diberikan\n",
    "    Ndim = len(y0)\n",
    "    \n",
    "    # array untuk solusi\n",
    "    ysol = np.zeros((N+1,Ndim))\n",
    "    \n",
    "    # aplikasi syarat awal\n",
    "    ysol[0,:] = y0[:]\n",
    "    \n",
    "    for i in range(N):\n",
    "        f1 = h*f( xsol[i], ysol[i,:] )\n",
    "        f2 = h*f( xsol[i] + h/2, ysol[i,:] + f1/2 )\n",
    "        f3 = h*f( xsol[i] + h/2, ysol[i,:] + f2/2 )\n",
    "        f4 = h*f( xsol[i] + h, ysol[i,:] + f3 )\n",
    "        ysol[i+1,:] = ysol[i,:] + (f1 + 2*(f2 + f3) + f4)/6\n",
    "    \n",
    "    return xsol, ysol"
   ]
  },
  {
   "cell_type": "markdown",
   "metadata": {},
   "source": [
    "### Contoh"
   ]
  },
  {
   "cell_type": "code",
   "execution_count": null,
   "metadata": {},
   "outputs": [],
   "source": [
    "xi = 0.0\n",
    "xf = 2.0\n",
    "y0 = [0.0, 1.0]\n",
    "h = 0.05\n",
    "Ninterval = int( (xf - xi)/h )\n",
    "xsol, ysol = ode_RK4(my_ode_problem_02, xi, xf, y0, Ninterval, verbose=True)"
   ]
  },
  {
   "cell_type": "code",
   "execution_count": null,
   "metadata": {
    "scrolled": true
   },
   "outputs": [],
   "source": [
    "plt.clf()\n",
    "plt.plot(xsol, ysol[:,0], label=\"ode_RK4\", marker=\"o\", linewidth=0)\n",
    "plt.plot(xsol, analytic_sol_02(xsol), label=\"analitik\")\n",
    "plt.legend();"
   ]
  },
  {
   "cell_type": "markdown",
   "metadata": {},
   "source": [
    "# Latihan soal di slide"
   ]
  },
  {
   "cell_type": "code",
   "execution_count": null,
   "metadata": {},
   "outputs": [],
   "source": [
    "def soal_slide_no15(x, y):\n",
    "    return -2*x**3 + 12*x**2 - 20*x + 8.5"
   ]
  },
  {
   "cell_type": "code",
   "execution_count": null,
   "metadata": {},
   "outputs": [],
   "source": [
    "def soal_slide_no15_analitik(x):\n",
    "    return -0.5*x**4 + 4*x**3 - 10*x**2 + 8.5*x + 1"
   ]
  },
  {
   "cell_type": "code",
   "execution_count": null,
   "metadata": {},
   "outputs": [],
   "source": [
    "xi = 0.0\n",
    "xf = 4.0\n",
    "y0 = [1.0] # syarat awal\n",
    "h = 0.5\n",
    "Ninterval = int( (xf - xi)/h )\n",
    "xsol, ysol = ode_euler(soal_slide_no15, xi, xf, y0, Ninterval, verbose=True)"
   ]
  },
  {
   "cell_type": "code",
   "execution_count": null,
   "metadata": {
    "scrolled": true
   },
   "outputs": [],
   "source": [
    "plt.clf()\n",
    "plt.plot(xsol, ysol)\n",
    "plt.plot(xsol, soal_slide_no15_analitik(xsol))"
   ]
  },
  {
   "cell_type": "code",
   "execution_count": null,
   "metadata": {},
   "outputs": [],
   "source": [
    "xi = 0.0\n",
    "xf = 4.0\n",
    "y0 = [1.0] # syarat awal\n",
    "hh = [0.5, 0.25, 0.1]\n",
    "\n",
    "plt.clf()\n",
    "for h in hh:\n",
    "    Ninterval = int( (xf - xi)/h )\n",
    "    xsol, ysol = ode_euler(soal_slide_no15, xi, xf, y0, Ninterval)\n",
    "    plt.plot(xsol, ysol, label=\"h = \"+str(h))\n",
    "plt.plot(xsol, soal_slide_no15_analitik(xsol), label=\"analitik\")\n",
    "plt.legend()\n",
    "plt.title(\"Menggunakan ode_euler\")"
   ]
  },
  {
   "cell_type": "code",
   "execution_count": null,
   "metadata": {},
   "outputs": [],
   "source": [
    "xi = 0.0\n",
    "xf = 4.0\n",
    "y0 = [1.0] # syarat awal\n",
    "hh = [0.5, 0.25, 0.1]\n",
    "\n",
    "plt.clf()\n",
    "for h in hh:\n",
    "    Ninterval = int( (xf - xi)/h )\n",
    "    xsol, ysol = ode_RK4(soal_slide_no15, xi, xf, y0, Ninterval)\n",
    "    plt.plot(xsol, ysol, label=\"h = \"+str(h))\n",
    "plt.plot(xsol, soal_slide_no15_analitik(xsol), label=\"analitik\")\n",
    "plt.legend()\n",
    "plt.title(\"Menggunakan ode_RK4\")"
   ]
  },
  {
   "cell_type": "code",
   "execution_count": null,
   "metadata": {},
   "outputs": [],
   "source": [
    "def soal_slide_no34(x, y):\n",
    "    f = np.zeros(2)\n",
    "    f[0] = y[1]\n",
    "    f[1] = -10.0\n",
    "    return f"
   ]
  },
  {
   "cell_type": "code",
   "execution_count": null,
   "metadata": {},
   "outputs": [],
   "source": [
    "h = 0.1\n",
    "xi = 0.0\n",
    "xf = 100.0\n",
    "y0 = [0.0, 100.0]\n",
    "Ninterval = int( (xf - xi)/h )\n",
    "xsol, ysol = ode_RK4(soal_slide_no34, xi, xf, y0, Ninterval, verbose=True)"
   ]
  },
  {
   "cell_type": "code",
   "execution_count": null,
   "metadata": {},
   "outputs": [],
   "source": [
    "plt.clf()\n",
    "plt.plot(xsol, ysol[:,0])"
   ]
  },
  {
   "cell_type": "code",
   "execution_count": null,
   "metadata": {},
   "outputs": [],
   "source": []
  },
  {
   "cell_type": "code",
   "execution_count": null,
   "metadata": {},
   "outputs": [],
   "source": []
  }
 ],
 "metadata": {
  "kernelspec": {
   "display_name": "Python 3",
   "language": "python",
   "name": "python3"
  },
  "language_info": {
   "codemirror_mode": {
    "name": "ipython",
    "version": 3
   },
   "file_extension": ".py",
   "mimetype": "text/x-python",
   "name": "python",
   "nbconvert_exporter": "python",
   "pygments_lexer": "ipython3",
   "version": "3.7.3"
  }
 },
 "nbformat": 4,
 "nbformat_minor": 2
}
