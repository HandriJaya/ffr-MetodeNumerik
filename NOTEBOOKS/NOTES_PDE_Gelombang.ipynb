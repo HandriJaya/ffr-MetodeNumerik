{
 "cells": [
  {
   "cell_type": "markdown",
   "metadata": {},
   "source": [
    "<h1 style=\"text-align:center;\">TF2202 Komputasi Rekayasa - Persamaan Diferensial Parsial</h1>\n",
    "<h2 style=\"text-align:center;\">Persamaan Gelombang</h2>\n",
    "<h3 style=\"text-align:center;\">Fadjar Fathurrahman</h3>"
   ]
  },
  {
   "cell_type": "markdown",
   "metadata": {},
   "source": [
    "# Setup"
   ]
  },
  {
   "cell_type": "code",
   "execution_count": null,
   "metadata": {},
   "outputs": [],
   "source": [
    "import numpy as np\n",
    "import matplotlib.pyplot as plt"
   ]
  },
  {
   "cell_type": "code",
   "execution_count": null,
   "metadata": {},
   "outputs": [],
   "source": [
    "%matplotlib inline"
   ]
  },
  {
   "cell_type": "code",
   "execution_count": null,
   "metadata": {},
   "outputs": [],
   "source": [
    "from IPython.display import set_matplotlib_formats\n",
    "set_matplotlib_formats(\"svg\")"
   ]
  },
  {
   "cell_type": "code",
   "execution_count": null,
   "metadata": {},
   "outputs": [],
   "source": [
    "import matplotlib\n",
    "matplotlib.style.use(\"default\")"
   ]
  },
  {
   "cell_type": "code",
   "execution_count": null,
   "metadata": {},
   "outputs": [],
   "source": [
    "from mpl_toolkits.mplot3d import Axes3D\n",
    "from mpl_toolkits.mplot3d import axes3d\n",
    "from matplotlib import cm"
   ]
  },
  {
   "cell_type": "code",
   "execution_count": null,
   "metadata": {},
   "outputs": [],
   "source": [
    "import matplotlib.animation as animation"
   ]
  },
  {
   "cell_type": "code",
   "execution_count": null,
   "metadata": {},
   "outputs": [],
   "source": [
    "import IPython.display"
   ]
  },
  {
   "cell_type": "markdown",
   "metadata": {
    "heading_collapsed": true
   },
   "source": [
    "### Fungsi untuk animasi 2d (silakan modifikasi sesuai kebutuhan)"
   ]
  },
  {
   "cell_type": "code",
   "execution_count": null,
   "metadata": {
    "hidden": true
   },
   "outputs": [],
   "source": [
    "def create_anim_2d(y, x, t, ymin, ymax):\n",
    "    plt.clf()\n",
    "    fig, ax = plt.subplots()\n",
    "    plt.ylim(ymin, ymax)\n",
    "    k = 0\n",
    "    line, = ax.plot(x, y[:,k])\n",
    "\n",
    "    time_template = \"t = %.5f\"\n",
    "    time_text = ax.text(0.8, 0.9, \"\", transform=ax.transAxes)\n",
    "\n",
    "    def init():\n",
    "        line.set_xdata(x)\n",
    "        line.set_ydata(y[:,0])\n",
    "        time_text.set_text(time_template % t[0])\n",
    "        return line, time_text\n",
    "\n",
    "    def animate(k):\n",
    "        line.set_xdata(x)\n",
    "        line.set_ydata(y[:,k])\n",
    "        time_text.set_text(time_template % t[k])\n",
    "        return line, time_text\n",
    "\n",
    "    anim = animation.FuncAnimation(fig, animate, init_func=init, interval=len(t), blit=True,\n",
    "                                   frames=len(t));\n",
    "    return anim"
   ]
  },
  {
   "cell_type": "markdown",
   "metadata": {
    "heading_collapsed": true
   },
   "source": [
    "### Fungsi untuk animasi 3d surface plot (silakan modifikasi sesuai kebutuhan)"
   ]
  },
  {
   "cell_type": "code",
   "execution_count": null,
   "metadata": {
    "hidden": true
   },
   "outputs": [],
   "source": [
    "def create_anim_surf3d(Z, X, Y, t, zmin, zmax):\n",
    "    \n",
    "    fig = plt.figure()\n",
    "    ax = fig.add_subplot(111, projection=\"3d\")\n",
    "    \n",
    "    def gen_surf_data(k, Z, line):\n",
    "        ax.clear()\n",
    "        line = ax.plot_surface(X, Y, Z[:,:,k], linewidth=2, cmap=\"jet\", antialiased=False)\n",
    "        ax.set_zlim(zmin, zmax)\n",
    "        ax.set_title(\"t=\"+format(\"%.4f\"%t[k]))\n",
    "        return line,\n",
    "    \n",
    "    line = ax.plot_surface(X, Y, Z[:,:,0], linewidth=2, cmap=\"jet\", antialiased=False)\n",
    "    ax.set_title(\"t=\"+format(\"%.4f\"%t[0]))\n",
    "    \n",
    "    anim = animation.FuncAnimation(fig, gen_surf_data, fargs=(Z, line),\n",
    "                                   interval=len(t), frames=len(t), blit=False)\n",
    "    \n",
    "    return anim"
   ]
  },
  {
   "cell_type": "markdown",
   "metadata": {},
   "source": [
    "# Persamaan Gelombang 1d"
   ]
  },
  {
   "cell_type": "markdown",
   "metadata": {
    "heading_collapsed": true
   },
   "source": [
    "## Intro"
   ]
  },
  {
   "cell_type": "markdown",
   "metadata": {
    "hidden": true
   },
   "source": [
    "$$\n",
    "c^2\n",
    "\\frac{\\partial^2}{\\partial x^2} u(x,t) = \n",
    "\\frac{\\partial^2}{\\partial t^2} u(x,t)\n",
    "$$\n",
    "\n",
    "\n",
    "$$\n",
    "\\frac{\\partial^2}{\\partial x^2} u(x,t) = \n",
    "\\frac{1}{c^2} \\frac{\\partial^2}{\\partial t^2} u(x,t)\n",
    "$$"
   ]
  },
  {
   "cell_type": "markdown",
   "metadata": {
    "heading_collapsed": true
   },
   "source": [
    "## Metode eksplisit untuk persamaan gelombang 1d"
   ]
  },
  {
   "cell_type": "markdown",
   "metadata": {
    "hidden": true
   },
   "source": [
    "Persamaan gelombang:\n",
    "\n",
    "$$\n",
    "c^2 \\frac{\\partial^2}{\\partial x^2} u(x,t) = \\frac{\\partial^2}{\\partial t^2} u(x,t)\n",
    "$$\n",
    "\n",
    "Domain:\n",
    "- $0 \\leq x \\leq x_{f}$\n",
    "- $0 \\leq t \\leq t_{f}$\n",
    "\n",
    "Syarat batas:\n",
    "- $u(0,t) = b_{0}(t)$\n",
    "- $u(x_{f},t) = b_{x_{f}}(t)$\n",
    "\n",
    "Syarat awal:\n",
    "- $u(x,0) = u_{0}(x)$\n",
    "- $\\left.\\dfrac{\\partial}{\\partial t}u(x,t)\\right|_{t=0} = u'_{0}(x)$"
   ]
  },
  {
   "cell_type": "markdown",
   "metadata": {
    "hidden": true
   },
   "source": [
    "Gunakan centered difference untuk turuan kedua terhadap $x$ dan $t$:\n",
    "\n",
    "$$\n",
    "c^2 \\frac{u^{k}_{i+1} - 2u^{k}_{i} + u^{k}_{i-1}}{(\\Delta x)^2} =\n",
    "\\frac{u^{k+1}_{i} - 2u^{k}_{i} + u^{k-1}_{i}}{(\\Delta t)^2}\n",
    "$$"
   ]
  },
  {
   "cell_type": "markdown",
   "metadata": {
    "hidden": true
   },
   "source": [
    "Dengan menggunakan definisi:\n",
    "\n",
    "$$\n",
    "r = c^2 \\frac{(\\Delta x)^2}{(\\Delta t)^2}\n",
    "$$\n",
    "\n",
    "dapat dituliskan:\n",
    "\n",
    "$$\n",
    "u^{k+1}_{i} = r \\left( u^{k}_{i+1} + u^{k}_{i-1} \\right) + \n",
    "2(1 - r)u^{k}_{i} - u^{k-1}_{i}\n",
    "$$\n",
    "\n",
    "Untuk $k = 0$, kita memerlukan nilai untuk $u^{-1}_{i} = u(x_{i},-\\Delta t)$:\n",
    "\n",
    "$$\n",
    "u^{1}_{i} = r \\left( u^{0}_{i+1} + u^{0}_{i-1} \\right) + \n",
    "2(1 - r)u^{0}_{i} - u^{-1}_{i}\n",
    "$$\n",
    "\n",
    "Dengan menggunakan aproksimasi centered diference untuk syarat awal:\n",
    "\n",
    "$$\n",
    "\\frac{u^{1}_{i} - u^{-1}_{i}}{2\\Delta t} = u'_{0}(x_{i})\n",
    "$$\n",
    "\n",
    "dapat diperoleh:\n",
    "\n",
    "$$\n",
    "u^{-1}_{i} = u^{1}_{i} - 2u'_{0}(x_{i}) \\Delta t\n",
    "$$\n",
    "\n",
    "Sehingga untuk $k = 0$, kita peroleh:\n",
    "\n",
    "$$\n",
    "\\begin{align*}\n",
    "u^{1}_{i} & = r \\left( u^{0}_{i+1} + u^{0}_{i-1} \\right) + \n",
    "2(1 - r)u^{0}_{i} - \\left( u^{1}_{i} - 2u'_{0}(x_{i}) \\Delta t \\right) \\\\\n",
    "u^{1}_{i} & = \\frac{1}{2} r \\left( u^{0}_{i+1} + u^{0}_{i-1} \\right) + \n",
    "(1 - r)u^{0}_{i} + u'_{0}(x_{i}) \\Delta t\n",
    "\\end{align*}\n",
    "$$"
   ]
  },
  {
   "cell_type": "markdown",
   "metadata": {
    "hidden": true
   },
   "source": [
    "Kondisi untuk stabilitas:\n",
    "\n",
    "$$\n",
    "r = c^2 \\frac{(\\Delta t)^2}{(\\Delta x)^2} \\leq 1\n",
    "$$"
   ]
  },
  {
   "cell_type": "markdown",
   "metadata": {
    "heading_collapsed": true
   },
   "source": [
    "## Implementasi"
   ]
  },
  {
   "cell_type": "code",
   "execution_count": null,
   "metadata": {
    "hidden": true
   },
   "outputs": [],
   "source": [
    "def wave_1d_exp(c2, xf, tf, u0, u0p, bx0, bxf, Nx, Nt ):\n",
    "\n",
    "    dx = xf/Nx\n",
    "    x = np.linspace(0.0, xf, Nx+1)\n",
    "    \n",
    "    dt = tf/Nt\n",
    "    t = np.linspace(0.0, tf, Nt+1)\n",
    "    \n",
    "    r = c2*(dt/dx)**2\n",
    "    \n",
    "    if r > 1.0:\n",
    "        print(\"WARNING: propagasi tidak stabil\")\n",
    "        print(\"r = %f > 1\\n\" % r)\n",
    "    \n",
    "    u = np.zeros( (Nx+1,Nt+1) )\n",
    "    \n",
    "    # Syarat awal\n",
    "    for i in range(Nx+1):\n",
    "        u[i,0] = u0( x[i] ) \n",
    "        \n",
    "    # Syarat batas\n",
    "    for k in range(Nt+1):\n",
    "        u[0,k]  = bx0( t[k] )\n",
    "        u[Nx,k] = bxf( t[k] )\n",
    "    \n",
    "    for i in range(1,Nx):\n",
    "        u[i,1] = 0.5*r*( u[i+1,0] + u[i-1,0] ) + (1.0 - r)*u[i,0] + dt*u0p( x[i] )\n",
    "    \n",
    "    for k in range(1,Nt):\n",
    "        for i in range(1,Nx):\n",
    "            u[i,k+1] = r*( u[i+1,k] + u[i-1,k] ) + 2*(1 - r)*u[i,k] - u[i,k-1]\n",
    "    \n",
    "    return u, x, t"
   ]
  },
  {
   "cell_type": "markdown",
   "metadata": {
    "heading_collapsed": true
   },
   "source": [
    "## Contoh 1"
   ]
  },
  {
   "cell_type": "code",
   "execution_count": null,
   "metadata": {
    "hidden": true
   },
   "outputs": [],
   "source": [
    "def u0(x):\n",
    "    return x*(1.0 - x)\n",
    "\n",
    "def u0p(x):\n",
    "    return 0.0\n",
    "\n",
    "def bx0(t):\n",
    "    return 0.0\n",
    "\n",
    "def bxf(t):\n",
    "    return 0.0\n",
    "\n",
    "c2 = 1.0\n",
    "xf = 1.0\n",
    "Nx = 100\n",
    "tf = 4.0\n",
    "Nt = 400\n",
    "u, x, t = wave_1d_exp(c2, xf, tf, u0, u0p, bx0, bxf, Nx, Nt)"
   ]
  },
  {
   "cell_type": "code",
   "execution_count": null,
   "metadata": {
    "hidden": true
   },
   "outputs": [],
   "source": [
    "plt.clf()\n",
    "for k in [0, -1, 100, 70]:\n",
    "    plt.plot(x, u[:,k], label=\"t=\"+format(\"%f\"%t[k]));\n",
    "plt.legend();"
   ]
  },
  {
   "cell_type": "markdown",
   "metadata": {
    "heading_collapsed": true,
    "hidden": true
   },
   "source": [
    "### Animasi"
   ]
  },
  {
   "cell_type": "code",
   "execution_count": null,
   "metadata": {
    "hidden": true,
    "scrolled": true
   },
   "outputs": [],
   "source": [
    "anim = create_anim_2d( u, x, t, -0.5, 0.5 );"
   ]
  },
  {
   "cell_type": "code",
   "execution_count": null,
   "metadata": {
    "hidden": true
   },
   "outputs": [],
   "source": [
    "IPython.display.HTML( anim.to_html5_video() )"
   ]
  },
  {
   "cell_type": "markdown",
   "metadata": {
    "heading_collapsed": true
   },
   "source": [
    "## Contoh 2"
   ]
  },
  {
   "cell_type": "code",
   "execution_count": null,
   "metadata": {
    "hidden": true
   },
   "outputs": [],
   "source": [
    "def u0(x):\n",
    "    return np.sin(5.0*np.pi*x)\n",
    "\n",
    "def u0p(x):\n",
    "    return 0.0\n",
    "\n",
    "def bx0(t):\n",
    "    return 0.0\n",
    "\n",
    "def bxf(t):\n",
    "    return 0.0\n",
    "\n",
    "c2 = 1.0\n",
    "xf = 1.0\n",
    "Nx = 100\n",
    "tf = 2.0\n",
    "Nt = 200\n",
    "u, x, t = wave_1d_exp(c2, xf, tf, u0, u0p, bx0, bxf, Nx, Nt)"
   ]
  },
  {
   "cell_type": "code",
   "execution_count": null,
   "metadata": {
    "hidden": true
   },
   "outputs": [],
   "source": [
    "plt.clf()\n",
    "for k in [0, 5, 11]:\n",
    "    plt.plot(x, u[:,k], label=\"t=\"+format(\"%f\"%t[k]));\n",
    "plt.legend();"
   ]
  },
  {
   "cell_type": "code",
   "execution_count": null,
   "metadata": {
    "hidden": true
   },
   "outputs": [],
   "source": [
    "anim = create_anim_2d(u, x, t, -1.1, 1.1)"
   ]
  },
  {
   "cell_type": "code",
   "execution_count": null,
   "metadata": {
    "hidden": true
   },
   "outputs": [],
   "source": [
    "IPython.display.HTML(anim.to_html5_video())"
   ]
  },
  {
   "cell_type": "markdown",
   "metadata": {
    "heading_collapsed": true
   },
   "source": [
    "## Contoh 3"
   ]
  },
  {
   "cell_type": "code",
   "execution_count": null,
   "metadata": {
    "hidden": true
   },
   "outputs": [],
   "source": [
    "def u0(x):\n",
    "    return np.exp(-200*(x-0.5)**2)\n",
    "\n",
    "def u0p(x):\n",
    "    return 0.0\n",
    "\n",
    "def bx0(t):\n",
    "    return 0.0\n",
    "\n",
    "def bxf(t):\n",
    "    return 0.0\n",
    "\n",
    "c2 = 1.0\n",
    "xf = 1.0\n",
    "Nx = 100\n",
    "tf = 2.0\n",
    "Nt = 200\n",
    "u, x, t = wave_1d_exp(c2, xf, tf, u0, u0p, bx0, bxf, Nx, Nt)"
   ]
  },
  {
   "cell_type": "code",
   "execution_count": null,
   "metadata": {
    "hidden": true
   },
   "outputs": [],
   "source": [
    "plt.clf()\n",
    "for k in [0, 5, 11]:\n",
    "    plt.plot(x, u[:,k], label=\"t=\"+format(\"%f\"%t[k]));\n",
    "plt.legend();"
   ]
  },
  {
   "cell_type": "code",
   "execution_count": null,
   "metadata": {
    "hidden": true,
    "scrolled": true
   },
   "outputs": [],
   "source": [
    "anim = create_anim_2d(u, x, t, -1.0, 1.0)"
   ]
  },
  {
   "cell_type": "code",
   "execution_count": null,
   "metadata": {
    "hidden": true
   },
   "outputs": [],
   "source": [
    "IPython.display.HTML(anim.to_html5_video())"
   ]
  },
  {
   "cell_type": "markdown",
   "metadata": {},
   "source": [
    "# Persamaan Gelombang 2d"
   ]
  },
  {
   "cell_type": "markdown",
   "metadata": {},
   "source": [
    "$$\n",
    "c^2 \\left( \\frac{\\partial^2 u(x,y,t)}{\\partial x^2} + \n",
    "\\frac{\\partial^2 u(x,y,t)}{\\partial y^2}\n",
    "\\right) = \\frac{\\partial^2 u(x,y,t)}{\\partial t^2}\n",
    "$$\n",
    "\n",
    "Domain:\n",
    "- $0 \\leq x \\leq x_{f}$\n",
    "- $0 \\leq y \\leq y_{f}$\n",
    "- $0 \\leq t \\leq t_{f}$\n",
    "\n",
    "Syarat batas:\n",
    "- $u(0,y,t) = b_{x_{0}}(y,t)$\n",
    "- $u(x_{f},y,t) = b_{x_{f}}(y,t)$\n",
    "- $u(x,0,t) = b_{y_{0}}(x,t)$\n",
    "- $u(x,y_{f},t) = b_{y_{f}}(x,t)$\n",
    "\n",
    "Syarat awal:\n",
    "- $u(x,y,0) = u_{0}(x,y)$\n",
    "- $\\left| \\dfrac{\\partial u}{\\partial t} \\right|_{t=0} = u'_{0}(x,y)$"
   ]
  },
  {
   "cell_type": "markdown",
   "metadata": {},
   "source": [
    "Gunakan central difference untuk turunan kedua:\n",
    "\n",
    "$$\n",
    "c^2 \\left(\n",
    "\\frac{u^{k}_{i+1,j} - 2u^{k}_{i,j} + u^{k}_{i-1,j}}{\\left(\\Delta x\\right)^2} +\n",
    "\\frac{u^{k}_{i,j+1} - 2u^{k}_{i,j} + u^{k}_{i,j-1}}{\\left(\\Delta y\\right)^2} =\n",
    "\\frac{u^{k+1}_{i,j} - 2u^{k}_{i,j} + u^{k-1}_{i,j}}{\\left(\\Delta t\\right)^2}\n",
    "\\right)\n",
    "$$"
   ]
  },
  {
   "cell_type": "markdown",
   "metadata": {},
   "source": [
    "Dapat diperoleh persamaan eksplisit berikut:\n",
    "\n",
    "$$\n",
    "u^{k+1}_{i,j} = r_{x} \\left( u^{k}_{i,j+1} + u^{k}_{i,j-1} \\right) +\n",
    "r_{y} \\left( u^{k}_{i+1,j} + u^{k}_{i-1,j} \\right) + 2(1 - r_x - r_y ) u^{k}_{i,j} - u^{k-1}_{i,j}\n",
    "$$\n",
    "\n",
    "dengan: $r_{x} = c^2 \\dfrac{(\\Delta t)^2}{(\\Delta x)^2}$ dan $r_{y} = c^2 \\dfrac{(\\Delta t)^2}{(\\Delta y)^2}$."
   ]
  },
  {
   "cell_type": "markdown",
   "metadata": {},
   "source": [
    "Untuk kasus $k = 0$, kita memerlukan $u^{-1}_{i,j}$. Nilai ini dapat diaproksimasi dari:\n",
    "\n",
    "$$\n",
    "\\frac{u^{1}_{i,j} - u^{-1}_{i,j}}{2\\Delta t} = u'_{0}(x_{i},y_{j})\n",
    "$$\n",
    "\n",
    "sehingga diperoleh\n",
    "\n",
    "$$\n",
    "u^{1}_{i,j} = \\frac{r_{x}}{2} \\left( u^{0}_{i,j+1} + u^{0}_{i,j-1} \\right) +\n",
    "\\frac{r_{y}}{2} \\left( u^{0}_{i+1,j} + u^{0}_{i-1,j} \\right) +\n",
    "2(1 - r_x - r_y)u^{0}_{i,j} + u'_{0}(x_{i},y_{j})\\Delta t\n",
    "$$"
   ]
  },
  {
   "cell_type": "markdown",
   "metadata": {},
   "source": [
    "Syarat untuk stabilitas adalah:\n",
    "\n",
    "$$\n",
    "r = \\frac{4c^2 (\\Delta t)^2}{(\\Delta x)^2 + (\\Delta y)^2} \\leq 1\n",
    "$$"
   ]
  },
  {
   "cell_type": "markdown",
   "metadata": {},
   "source": [
    "## Implementasi"
   ]
  },
  {
   "cell_type": "code",
   "execution_count": null,
   "metadata": {},
   "outputs": [],
   "source": [
    "def wave_2d_exp( c2, xf, yf, tf, u0, u0p, bx0, bxf, by0, byf, Nx, Ny, Nt ):\n",
    "\n",
    "    dx = xf/Nx\n",
    "    x  = np.linspace(0.0, xf, Nx+1)\n",
    "    \n",
    "    dy = yf/Nx\n",
    "    y  = np.linspace(0.0, yf, Ny+1) \n",
    "    \n",
    "    dt = tf/Nt\n",
    "    t  = np.linspace(0.0, tf, Nt+1)\n",
    "    \n",
    "    u  = np.zeros( (Nx+1,Ny+1,Nt+1) )\n",
    "    \n",
    "    for i in range(Nx+1):\n",
    "        for j in range(Ny+1):\n",
    "            u[i,j,0]  = u0( x[j], y[i] )\n",
    "    \n",
    "    # Syarat batas\n",
    "    for k in range(Nt+1):\n",
    "        for j in range(Ny+1):\n",
    "            u[0,j,k]  = bx0( y[j], t[k] ) \n",
    "            u[Nx,j,k] = bxf( y[j], t[k] )\n",
    "    \n",
    "    for k in range(Nt+1):\n",
    "        for i in range(Ny+1):\n",
    "            u[i,0,k]  = by0( x[i], t[k] ) \n",
    "            u[i,Ny,k] = byf( x[i], t[k] )\n",
    "    \n",
    "    rx = c2*dt**2/dx**2\n",
    "    ry = c2*dt**2/dy**2\n",
    "    \n",
    "    r = 4*c2*dt**2/(dx**2 + dy**2)\n",
    "    \n",
    "    if r >= 1.0:\n",
    "        print(\"WARNING: r >= 1, solusi tidak stabil\")\n",
    "        print(\"r = \", r)\n",
    "    \n",
    "    k = 0\n",
    "    for i in range(1,Nx):\n",
    "        for j in range(1,Ny):\n",
    "            u[i,j,k+1] = 0.5*( rx*(u[i,j+1,k] + u[i,j-1,k]) + ry*(u[i-1,j,k] + u[i+1,j,k]) ) + \\\n",
    "                         2*(1 - rx - ry)*u[i,j,k] + dt*u0p( x[i], x[j] )\n",
    "\n",
    "    for k in range(1,Nt):\n",
    "        for i in range(1,Nx):\n",
    "            for j in range(1,Ny):\n",
    "                u[i,j,k+1] = rx*(u[i,j+1,k] + u[i,j-1,k]) + \\\n",
    "                             ry*(u[i-1,j,k] + u[i+1,j,k]) + \\\n",
    "                             2*(1 - rx - ry)*u[i,j,k] - u[i,j,k-1]\n",
    "                        \n",
    "    return u, x, y, t"
   ]
  },
  {
   "cell_type": "markdown",
   "metadata": {},
   "source": [
    "## Contoh 1"
   ]
  },
  {
   "cell_type": "code",
   "execution_count": null,
   "metadata": {},
   "outputs": [],
   "source": [
    "def u0(x,y):\n",
    "    return 0.1*np.sin(np.pi*x)*np.sin(np.pi*y/2)\n",
    "\n",
    "def u0p(x,y):\n",
    "    return 0.0\n",
    "\n",
    "def bx0(y,t):\n",
    "    return 0.0\n",
    "\n",
    "def bxf(y,t):\n",
    "    return 0.0\n",
    "\n",
    "def by0(x,t):\n",
    "    return 0.0\n",
    "\n",
    "def byf(x,t):\n",
    "    return 0.0\n",
    "\n",
    "c2 = 0.25\n",
    "xf = 2.0\n",
    "yf = 2.0\n",
    "tf = 4.0\n",
    "\n",
    "Nx = 40\n",
    "Ny = 40\n",
    "Nt = 80\n",
    "\n",
    "u, x, y, t = wave_2d_exp( c2, xf, yf, tf, u0, u0p, bx0, bxf, by0, byf, Nx, Ny, Nt )"
   ]
  },
  {
   "cell_type": "code",
   "execution_count": null,
   "metadata": {},
   "outputs": [],
   "source": [
    "plt.clf()\n",
    "for k in [0, 1, 3, 4, -1]:\n",
    "    plt.plot( x, u[:,1,k], label=\"t=\"+format(\"%.3f\"%t[k]) )\n",
    "plt.legend();"
   ]
  },
  {
   "cell_type": "code",
   "execution_count": null,
   "metadata": {},
   "outputs": [],
   "source": [
    "plt.clf()\n",
    "for k in [0, 1, 3, 4, -1]:\n",
    "    plt.plot( y, u[1,:,k], label=\"t=\"+format(\"%.3f\"%t[k]) )\n",
    "plt.legend();"
   ]
  },
  {
   "cell_type": "code",
   "execution_count": null,
   "metadata": {},
   "outputs": [],
   "source": [
    "X, Y = np.meshgrid(x,y);\n",
    "k = 0\n",
    "plt.clf()\n",
    "fig = plt.figure()\n",
    "ax = fig.gca(projection=\"3d\")\n",
    "surf = ax.plot_surface(X, Y, u[:,:,k], linewidth=2, cmap=\"jet\", antialiased=False)\n",
    "ax.set_title(\"t=\"+format(\"%.4f\"%t[k]))\n",
    "ax.view_init(elev=40., azim=35)"
   ]
  },
  {
   "cell_type": "code",
   "execution_count": null,
   "metadata": {
    "scrolled": true
   },
   "outputs": [],
   "source": [
    "anim = create_anim_surf3d(u, X, Y, t, -0.5, 0.5)"
   ]
  },
  {
   "cell_type": "code",
   "execution_count": null,
   "metadata": {},
   "outputs": [],
   "source": [
    "IPython.display.HTML(anim.to_html5_video())"
   ]
  },
  {
   "cell_type": "markdown",
   "metadata": {},
   "source": [
    "## Contoh 2"
   ]
  },
  {
   "cell_type": "code",
   "execution_count": null,
   "metadata": {},
   "outputs": [],
   "source": [
    "def u0(x,y):\n",
    "    return np.exp(-30*( (x-1.0)**2 + (y-1.0)**2 ))\n",
    "\n",
    "def u0p(x,y):\n",
    "    return 0.0\n",
    "\n",
    "def bx0(y,t):\n",
    "    return 0.0\n",
    "\n",
    "def bxf(y,t):\n",
    "    return 0.0\n",
    "\n",
    "def by0(x,t):\n",
    "    return 0.0\n",
    "\n",
    "def byf(x,t):\n",
    "    return 0.0\n",
    "\n",
    "c2 = 0.25\n",
    "xf = 2.0\n",
    "yf = 2.0\n",
    "tf = 16.0\n",
    "\n",
    "Nx = 50\n",
    "Ny = 50\n",
    "Nt = 320\n",
    "\n",
    "u, x, y, t = wave_2d_exp( c2, xf, yf, tf, u0, u0p, bx0, bxf, by0, byf, Nx, Ny, Nt )"
   ]
  },
  {
   "cell_type": "code",
   "execution_count": null,
   "metadata": {},
   "outputs": [],
   "source": [
    "X, Y = np.meshgrid(x,y)\n",
    "k = 0\n",
    "plt.clf()\n",
    "fig = plt.figure();\n",
    "ax = fig.gca(projection=\"3d\")\n",
    "surf = ax.plot_surface(X, Y, u[:,:,k], linewidth=2, cmap=\"jet\", antialiased=False)\n",
    "ax.set_title(\"t=\"+format(\"%.4f\"%t[k]))\n",
    "ax.view_init(elev=10., azim=20)"
   ]
  },
  {
   "cell_type": "code",
   "execution_count": null,
   "metadata": {
    "scrolled": true
   },
   "outputs": [],
   "source": [
    "anim = create_anim_surf3d(u, X, Y, t, -1.0, 1.0)"
   ]
  },
  {
   "cell_type": "code",
   "execution_count": null,
   "metadata": {},
   "outputs": [],
   "source": [
    "IPython.display.HTML(anim.to_html5_video())"
   ]
  },
  {
   "cell_type": "markdown",
   "metadata": {},
   "source": [
    "## Travelling wave"
   ]
  },
  {
   "cell_type": "code",
   "execution_count": null,
   "metadata": {},
   "outputs": [],
   "source": [
    "def travel_wave(A, k, omega, x, t):\n",
    "    return A*np.cos(omega*t - k*x)"
   ]
  },
  {
   "cell_type": "code",
   "execution_count": null,
   "metadata": {},
   "outputs": [],
   "source": [
    "x0 = 0.0\n",
    "xf = 2.0\n",
    "x = np.linspace(x0, xf, 500)\n",
    "A = 1.0\n",
    "λ = 1.0\n",
    "k = -2*np.pi/λ\n",
    "T = 1.0\n",
    "omega = 2*np.pi/T\n",
    "\n",
    "t0 = 0.0\n",
    "Nt = 200\n",
    "delta_t = 0.01\n",
    "for i in range(Nt):\n",
    "    plt.clf()\n",
    "    t = t0 + i*delta_t\n",
    "    plt.plot(x, travel_wave(A, k, omega, x, t), label=\"t=\"+format(\"%.2f\" % t))\n",
    "    plt.ylim(-1.0, 1.0)\n",
    "    plt.legend(loc=\"upper right\")\n",
    "    filename = \"IMG_{:04d}.png\".format(i)\n",
    "    plt.savefig(filename)"
   ]
  },
  {
   "cell_type": "code",
   "execution_count": null,
   "metadata": {},
   "outputs": [],
   "source": []
  },
  {
   "cell_type": "code",
   "execution_count": null,
   "metadata": {},
   "outputs": [],
   "source": []
  }
 ],
 "metadata": {
  "kernelspec": {
   "display_name": "Python 3",
   "language": "python",
   "name": "python3"
  },
  "language_info": {
   "codemirror_mode": {
    "name": "ipython",
    "version": 3
   },
   "file_extension": ".py",
   "mimetype": "text/x-python",
   "name": "python",
   "nbconvert_exporter": "python",
   "pygments_lexer": "ipython3",
   "version": "3.7.3"
  }
 },
 "nbformat": 4,
 "nbformat_minor": 2
}
