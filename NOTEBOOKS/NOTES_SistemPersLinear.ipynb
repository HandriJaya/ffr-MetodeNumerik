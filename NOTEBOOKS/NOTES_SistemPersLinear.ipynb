{
 "cells": [
  {
   "cell_type": "markdown",
   "metadata": {},
   "source": [
    "# TF2202 Teknik Komputasi - Sistem Persamaan Linear\n",
    "\n",
    "Fadjar Fathurrahman"
   ]
  },
  {
   "cell_type": "code",
   "execution_count": 1,
   "metadata": {},
   "outputs": [],
   "source": [
    "import numpy as np"
   ]
  },
  {
   "cell_type": "code",
   "execution_count": null,
   "metadata": {},
   "outputs": [],
   "source": []
  },
  {
   "cell_type": "code",
   "execution_count": null,
   "metadata": {},
   "outputs": [],
   "source": []
  },
  {
   "cell_type": "markdown",
   "metadata": {},
   "source": [
    "Pada catatan ini kita kan fokus pada metode untuk mencari solusi dari sistem persamaan linear yang dapat dituliskan dalam bentuk matriks sebagai berikut:\n",
    "$$\n",
    "\\mathbf{A}\\mathbf{x} = \\mathbf{b}\n",
    "$$\n",
    "di mana $A$ dan $b$ masing-masing diberikan dan tugas kita adalah mencari $\\mathbf{x}$."
   ]
  },
  {
   "cell_type": "markdown",
   "metadata": {},
   "source": [
    "Perhatikan sistem persamaan linear berikut ini:\n",
    "$$\n",
    "\\begin{align*}\n",
    "x_{1} + x_{2} + x_{3} & = 4 \\\\\n",
    "2x_{1} + 3x_{2} + x_{3} & = 9 \\\\\n",
    "x_{1} - x_{2} - x_{3} & = -2\n",
    "\\end{align*}\n",
    "$$\n",
    "Persamaan di atas dapat diubah dalam bentuk matrix sebagai\n",
    "$$\n",
    "\\begin{bmatrix}\n",
    "1 & 1 & 1 \\\\\n",
    "2 & 3 & 1 \\\\\n",
    "1 & -1 & -1\n",
    "\\end{bmatrix}\n",
    "\\begin{bmatrix}\n",
    "x_{1} \\\\\n",
    "x_{2} \\\\\n",
    "x_{3}\n",
    "\\end{bmatrix}\n",
    "= \n",
    "\\begin{bmatrix}\n",
    "4 \\\\\n",
    "9 \\\\\n",
    "-2\n",
    "\\end{bmatrix}\n",
    "$$"
   ]
  },
  {
   "cell_type": "code",
   "execution_count": 2,
   "metadata": {},
   "outputs": [
    {
     "data": {
      "text/plain": [
       "matrix([[ 1,  1,  1],\n",
       "        [ 2,  3, -1],\n",
       "        [ 1, -1, -1]])"
      ]
     },
     "execution_count": 2,
     "metadata": {},
     "output_type": "execute_result"
    }
   ],
   "source": [
    "A = np.matrix([\n",
    "    [1, 1, 1],\n",
    "    [2, 3, -1],\n",
    "    [1, -1, -1]\n",
    "])\n",
    "A"
   ]
  },
  {
   "cell_type": "code",
   "execution_count": 3,
   "metadata": {},
   "outputs": [
    {
     "data": {
      "text/plain": [
       "matrix([[4],\n",
       "        [9],\n",
       "        [2]])"
      ]
     },
     "execution_count": 3,
     "metadata": {},
     "output_type": "execute_result"
    }
   ],
   "source": [
    "b = np.matrix([4, 9, 2]).transpose()\n",
    "b"
   ]
  },
  {
   "cell_type": "markdown",
   "metadata": {},
   "source": [
    "Karena kita akan memodifikasi matrix `A` dan `b`, maka kita harus membuat backup (copy) dari nilai asli mereka."
   ]
  },
  {
   "cell_type": "code",
   "execution_count": 4,
   "metadata": {},
   "outputs": [],
   "source": [
    "A_orig = np.matrix.copy(A)\n",
    "b_orig = np.matrix.copy(b)"
   ]
  },
  {
   "cell_type": "markdown",
   "metadata": {},
   "source": [
    "Untuk reduksi baris kedua"
   ]
  },
  {
   "cell_type": "code",
   "execution_count": 5,
   "metadata": {},
   "outputs": [],
   "source": [
    "alpha = A[1,0]/A[0,0]\n",
    "A[1,:] = A[1,:] - alpha*A[0,:]\n",
    "b[1] = b[1] - alpha*b[0]"
   ]
  },
  {
   "cell_type": "code",
   "execution_count": 7,
   "metadata": {},
   "outputs": [
    {
     "data": {
      "text/plain": [
       "matrix([[ 1,  1,  1],\n",
       "        [ 0,  1, -3],\n",
       "        [ 1, -1, -1]])"
      ]
     },
     "execution_count": 7,
     "metadata": {},
     "output_type": "execute_result"
    }
   ],
   "source": [
    "A"
   ]
  },
  {
   "cell_type": "code",
   "execution_count": 8,
   "metadata": {},
   "outputs": [
    {
     "data": {
      "text/plain": [
       "matrix([[4],\n",
       "        [1],\n",
       "        [2]])"
      ]
     },
     "execution_count": 8,
     "metadata": {},
     "output_type": "execute_result"
    }
   ],
   "source": [
    "b"
   ]
  },
  {
   "cell_type": "code",
   "execution_count": null,
   "metadata": {},
   "outputs": [],
   "source": []
  },
  {
   "cell_type": "code",
   "execution_count": null,
   "metadata": {},
   "outputs": [],
   "source": [
    "import numpy as np\n",
    "\n",
    "def gauss_elim(A_, b_):\n",
    "    \n",
    "    N, Nrhs = b_.shape\n",
    "\n",
    "    A = np.matrix.copy(A)\n",
    "    b = np.matrix.copy(b)\n",
    "\n",
    "    # Eliminasi\n",
    "    for k in range(0,N-1):\n",
    "        for i in range(k+1,N):\n",
    "            if A[i,k] != 0.0:\n",
    "                alpha = A[i,k]/A[k,k]\n",
    "                A[i,k+1:N] = A[i,k+1:N] - alpha*A[k,k+1:N]\n",
    "                b[i,:] = b[i,:] - alpha*B[k,:]\n",
    "\n",
    "    # Substitusi balik\n",
    "    for k in range(N-1,-1,-1):\n",
    "        B[k,:] = (B[k,:] - np.dot(A[k,k+1:N],B[k+1:N,:]))/A[k,k]\n",
    "    \n",
    "    return B # return the matrix, not just the slice"
   ]
  },
  {
   "cell_type": "code",
   "execution_count": null,
   "metadata": {},
   "outputs": [],
   "source": []
  },
  {
   "cell_type": "code",
   "execution_count": null,
   "metadata": {},
   "outputs": [],
   "source": []
  }
 ],
 "metadata": {
  "kernelspec": {
   "display_name": "Python 3",
   "language": "python",
   "name": "python3"
  },
  "language_info": {
   "codemirror_mode": {
    "name": "ipython",
    "version": 3
   },
   "file_extension": ".py",
   "mimetype": "text/x-python",
   "name": "python",
   "nbconvert_exporter": "python",
   "pygments_lexer": "ipython3",
   "version": "3.6.8"
  }
 },
 "nbformat": 4,
 "nbformat_minor": 2
}
