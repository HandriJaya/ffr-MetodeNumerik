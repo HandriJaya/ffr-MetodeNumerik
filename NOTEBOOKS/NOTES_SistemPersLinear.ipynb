{
 "cells": [
  {
   "cell_type": "markdown",
   "metadata": {},
   "source": [
    "# TF2202 Teknik Komputasi - Sistem Persamaan Linear\n",
    "\n",
    "Fadjar Fathurrahman"
   ]
  },
  {
   "cell_type": "code",
   "execution_count": 1,
   "metadata": {},
   "outputs": [],
   "source": [
    "import numpy as np"
   ]
  },
  {
   "cell_type": "markdown",
   "metadata": {},
   "source": [
    "Pada catatan ini kita kan fokus pada metode untuk mencari solusi dari sistem persamaan linear yang dapat dituliskan dalam bentuk matriks sebagai berikut:\n",
    "$$\n",
    "\\mathbf{A}\\mathbf{x} = \\mathbf{b}\n",
    "$$\n",
    "di mana $A$ dan $b$ masing-masing diberikan dan tugas kita adalah mencari $\\mathbf{x}$."
   ]
  },
  {
   "cell_type": "markdown",
   "metadata": {},
   "source": [
    "Sebelum membahas mengenai metode numerik untuk menyelesaikan sistem persamaan linear, kita akan mulai dengan pembahasan mengenai operasi matriks dan vektor dengan dalam Numpy."
   ]
  },
  {
   "cell_type": "markdown",
   "metadata": {
    "heading_collapsed": true
   },
   "source": [
    "## Matrix vs ndarray"
   ]
  },
  {
   "cell_type": "markdown",
   "metadata": {
    "hidden": true
   },
   "source": [
    "`ndarray` adalah tipe array yang paling penting pada Numpy. Untuk merepresentasikan matriks kita dapat menggunakan `ndarray` dengan menggunakan `ndarray` dengan dua dimensi. Untuk merepresentasikan vektor (baris atau kolom) kita dapat menggunakan `ndarray` dengan satu dimensi."
   ]
  },
  {
   "cell_type": "markdown",
   "metadata": {
    "hidden": true
   },
   "source": [
    "Contoh untuk matriks:\n",
    "$$\n",
    "A = \\begin{bmatrix}\n",
    "4 & 1 & 2 & 3 \\\\\n",
    "3 & 8 & 1 & 9 \\\\\n",
    "3 & 4 & 10 & 4\n",
    "\\end{bmatrix}\n",
    "$$"
   ]
  },
  {
   "cell_type": "markdown",
   "metadata": {
    "hidden": true
   },
   "source": [
    "Dengan menggunakan `ndarray`, kita dapa mendefinisikan matriks $A$ dengan:"
   ]
  },
  {
   "cell_type": "code",
   "execution_count": 2,
   "metadata": {
    "hidden": true
   },
   "outputs": [
    {
     "data": {
      "text/plain": [
       "array([[ 4,  1,  2,  3],\n",
       "       [ 3,  8,  1,  9],\n",
       "       [ 3,  4, 10,  4]])"
      ]
     },
     "execution_count": 2,
     "metadata": {},
     "output_type": "execute_result"
    }
   ],
   "source": [
    "A = np.array([\n",
    "    [4,1,2,3],\n",
    "    [3,8,1,9],\n",
    "    [3,4,10,4]\n",
    "])\n",
    "A"
   ]
  },
  {
   "cell_type": "code",
   "execution_count": 3,
   "metadata": {
    "hidden": true
   },
   "outputs": [
    {
     "data": {
      "text/plain": [
       "numpy.ndarray"
      ]
     },
     "execution_count": 3,
     "metadata": {},
     "output_type": "execute_result"
    }
   ],
   "source": [
    "type(A)"
   ]
  },
  {
   "cell_type": "markdown",
   "metadata": {
    "hidden": true
   },
   "source": [
    "Properti `shape` dapat digunakan untuk mengetahu ukuran dari `ndarray`. Dalam hal ini kita akan mendapatkan tupel berisi dua integer, yang masing-masing integer merupakan jumlah baris dan kolom dari matriks $A$"
   ]
  },
  {
   "cell_type": "code",
   "execution_count": 4,
   "metadata": {
    "hidden": true
   },
   "outputs": [
    {
     "data": {
      "text/plain": [
       "(3, 4)"
      ]
     },
     "execution_count": 4,
     "metadata": {},
     "output_type": "execute_result"
    }
   ],
   "source": [
    "A.shape"
   ]
  },
  {
   "cell_type": "markdown",
   "metadata": {
    "hidden": true
   },
   "source": [
    "Anda dapat menuliskan sebagai berikut:"
   ]
  },
  {
   "cell_type": "code",
   "execution_count": 5,
   "metadata": {
    "hidden": true
   },
   "outputs": [
    {
     "name": "stdout",
     "output_type": "stream",
     "text": [
      "Nrow = 3, Ncol = 4\n"
     ]
    }
   ],
   "source": [
    "Nrow = A.shape[0]\n",
    "Ncol = A.shape[1]\n",
    "print(\"Nrow = %d, Ncol = %d\" % (Nrow, Ncol))"
   ]
  },
  {
   "cell_type": "code",
   "execution_count": 6,
   "metadata": {
    "hidden": true
   },
   "outputs": [
    {
     "name": "stdout",
     "output_type": "stream",
     "text": [
      "Nrow = 3, Ncol = 4\n"
     ]
    }
   ],
   "source": [
    "Nrow, Ncol = A.shape\n",
    "print(\"Nrow = %d, Ncol = %d\" % (Nrow, Ncol))"
   ]
  },
  {
   "cell_type": "markdown",
   "metadata": {
    "hidden": true
   },
   "source": [
    "Untuk merepresentasikan vektor, kita dapat menggunakan `ndarray` 1d, misalnya:"
   ]
  },
  {
   "cell_type": "code",
   "execution_count": 7,
   "metadata": {
    "hidden": true
   },
   "outputs": [
    {
     "data": {
      "text/plain": [
       "array([3, 1, 6, 7])"
      ]
     },
     "execution_count": 7,
     "metadata": {},
     "output_type": "execute_result"
    }
   ],
   "source": [
    "x = np.array([3,1,6,7])\n",
    "x"
   ]
  },
  {
   "cell_type": "code",
   "execution_count": 8,
   "metadata": {
    "hidden": true
   },
   "outputs": [
    {
     "data": {
      "text/plain": [
       "numpy.ndarray"
      ]
     },
     "execution_count": 8,
     "metadata": {},
     "output_type": "execute_result"
    }
   ],
   "source": [
    "type(x)"
   ]
  },
  {
   "cell_type": "markdown",
   "metadata": {
    "hidden": true
   },
   "source": [
    "Properti `shape` dapat digunakan seperti pada `ndarray` dua dimensi. Pada kasus ini akan dikembalikan tupel dengan satu bilangan integer."
   ]
  },
  {
   "cell_type": "code",
   "execution_count": 9,
   "metadata": {
    "hidden": true
   },
   "outputs": [
    {
     "data": {
      "text/plain": [
       "(4,)"
      ]
     },
     "execution_count": 9,
     "metadata": {},
     "output_type": "execute_result"
    }
   ],
   "source": [
    "x.shape"
   ]
  },
  {
   "cell_type": "markdown",
   "metadata": {
    "hidden": true
   },
   "source": [
    "Fungsi `len` juga dapat digunakan dalam kasus `ndarray` 1d untuk mengetahui jumlah elemen pada suatu vektor:"
   ]
  },
  {
   "cell_type": "code",
   "execution_count": 10,
   "metadata": {
    "hidden": true
   },
   "outputs": [
    {
     "data": {
      "text/plain": [
       "4"
      ]
     },
     "execution_count": 10,
     "metadata": {},
     "output_type": "execute_result"
    }
   ],
   "source": [
    "len(x)"
   ]
  },
  {
   "cell_type": "markdown",
   "metadata": {
    "hidden": true
   },
   "source": [
    "Fungsi `len` juga dapat diaplikasikan pada `ndarray` dua dimensi, namun fungsi ini akan mengembalikan banyak elemen pada dimensi pertama."
   ]
  },
  {
   "cell_type": "code",
   "execution_count": 11,
   "metadata": {
    "hidden": true
   },
   "outputs": [
    {
     "data": {
      "text/plain": [
       "3"
      ]
     },
     "execution_count": 11,
     "metadata": {},
     "output_type": "execute_result"
    }
   ],
   "source": [
    "len(A)"
   ]
  },
  {
   "cell_type": "markdown",
   "metadata": {
    "hidden": true
   },
   "source": [
    "Untuk mengetahui jumlah kolom, kita dapat mencari panjang dari `A[0]` (misalnya):"
   ]
  },
  {
   "cell_type": "code",
   "execution_count": 12,
   "metadata": {
    "hidden": true
   },
   "outputs": [
    {
     "data": {
      "text/plain": [
       "4"
      ]
     },
     "execution_count": 12,
     "metadata": {},
     "output_type": "execute_result"
    }
   ],
   "source": [
    "len(A[0])"
   ]
  },
  {
   "cell_type": "markdown",
   "metadata": {
    "heading_collapsed": true,
    "hidden": true
   },
   "source": [
    "### Operasi perkalian matriks dan vektor"
   ]
  },
  {
   "cell_type": "markdown",
   "metadata": {
    "hidden": true
   },
   "source": [
    "Untuk menghitung operasi perkalian, misalnya $\\mathbf{b} = \\mathbf{A}\\mathbf{x}$.\n",
    "Untuk tipe `numpy.ndarray` kita dapat menggunakan fungsi `np.matmul`:"
   ]
  },
  {
   "cell_type": "code",
   "execution_count": 13,
   "metadata": {
    "hidden": true
   },
   "outputs": [
    {
     "data": {
      "text/plain": [
       "array([ 46,  86, 101])"
      ]
     },
     "execution_count": 13,
     "metadata": {},
     "output_type": "execute_result"
    }
   ],
   "source": [
    "b = np.matmul(A,x)\n",
    "b"
   ]
  },
  {
   "cell_type": "markdown",
   "metadata": {
    "hidden": true
   },
   "source": [
    "Operator `*` memiliki arti yang berbeda untuk operasi antara dua `ndarray`:"
   ]
  },
  {
   "cell_type": "code",
   "execution_count": 14,
   "metadata": {
    "hidden": true
   },
   "outputs": [
    {
     "data": {
      "text/plain": [
       "array([[ 4,  1,  2,  3],\n",
       "       [ 3,  8,  1,  9],\n",
       "       [ 3,  4, 10,  4]])"
      ]
     },
     "execution_count": 14,
     "metadata": {},
     "output_type": "execute_result"
    }
   ],
   "source": [
    "A"
   ]
  },
  {
   "cell_type": "code",
   "execution_count": 15,
   "metadata": {
    "hidden": true
   },
   "outputs": [
    {
     "data": {
      "text/plain": [
       "array([[12,  1, 12, 21],\n",
       "       [ 9,  8,  6, 63],\n",
       "       [ 9,  4, 60, 28]])"
      ]
     },
     "execution_count": 15,
     "metadata": {},
     "output_type": "execute_result"
    }
   ],
   "source": [
    "Ax = A*x\n",
    "Ax"
   ]
  },
  {
   "cell_type": "code",
   "execution_count": 16,
   "metadata": {
    "hidden": true
   },
   "outputs": [
    {
     "name": "stdout",
     "output_type": "stream",
     "text": [
      "[3. 3. 3.]\n",
      "[1. 1. 1.]\n",
      "[6. 6. 6.]\n"
     ]
    }
   ],
   "source": [
    "print(Ax[:,0]/A[:,0])\n",
    "print(Ax[:,1]/A[:,1])\n",
    "print(Ax[:,2]/A[:,2])"
   ]
  },
  {
   "cell_type": "code",
   "execution_count": 17,
   "metadata": {
    "hidden": true
   },
   "outputs": [
    {
     "data": {
      "text/plain": [
       "matrix([[ 38,  48],\n",
       "        [ 95, 116],\n",
       "        [ 93, 114]])"
      ]
     },
     "execution_count": 17,
     "metadata": {},
     "output_type": "execute_result"
    }
   ],
   "source": [
    "B = np.matrix([\n",
    "    [1, 2],\n",
    "    [3, 4],\n",
    "    [5, 6],\n",
    "    [7, 8]\n",
    "])\n",
    "np.matmul(A,B)"
   ]
  },
  {
   "cell_type": "markdown",
   "metadata": {
    "hidden": true
   },
   "source": [
    "Jika ingin menggunakan operator `*` kita dapat menggunakan konstruktor `np.matrix`."
   ]
  },
  {
   "cell_type": "code",
   "execution_count": 18,
   "metadata": {
    "hidden": true
   },
   "outputs": [],
   "source": [
    "AA = np.matrix(A)\n",
    "BB = np.matrix(B)"
   ]
  },
  {
   "cell_type": "code",
   "execution_count": 19,
   "metadata": {
    "hidden": true
   },
   "outputs": [
    {
     "data": {
      "text/plain": [
       "matrix([[ 4,  1,  2,  3],\n",
       "        [ 3,  8,  1,  9],\n",
       "        [ 3,  4, 10,  4]])"
      ]
     },
     "execution_count": 19,
     "metadata": {},
     "output_type": "execute_result"
    }
   ],
   "source": [
    "AA"
   ]
  },
  {
   "cell_type": "code",
   "execution_count": 20,
   "metadata": {
    "hidden": true
   },
   "outputs": [
    {
     "data": {
      "text/plain": [
       "matrix([[1, 2],\n",
       "        [3, 4],\n",
       "        [5, 6],\n",
       "        [7, 8]])"
      ]
     },
     "execution_count": 20,
     "metadata": {},
     "output_type": "execute_result"
    }
   ],
   "source": [
    "BB"
   ]
  },
  {
   "cell_type": "code",
   "execution_count": 21,
   "metadata": {
    "hidden": true
   },
   "outputs": [
    {
     "data": {
      "text/plain": [
       "numpy.matrixlib.defmatrix.matrix"
      ]
     },
     "execution_count": 21,
     "metadata": {},
     "output_type": "execute_result"
    }
   ],
   "source": [
    "type(AA)"
   ]
  },
  {
   "cell_type": "code",
   "execution_count": 22,
   "metadata": {
    "hidden": true
   },
   "outputs": [
    {
     "data": {
      "text/plain": [
       "((3, 4), (4, 2))"
      ]
     },
     "execution_count": 22,
     "metadata": {},
     "output_type": "execute_result"
    }
   ],
   "source": [
    "AA.shape, BB.shape"
   ]
  },
  {
   "cell_type": "code",
   "execution_count": 23,
   "metadata": {
    "hidden": true
   },
   "outputs": [
    {
     "data": {
      "text/plain": [
       "matrix([[ 38,  48],\n",
       "        [ 95, 116],\n",
       "        [ 93, 114]])"
      ]
     },
     "execution_count": 23,
     "metadata": {},
     "output_type": "execute_result"
    }
   ],
   "source": [
    "AA*BB"
   ]
  },
  {
   "cell_type": "markdown",
   "metadata": {
    "heading_collapsed": true,
    "hidden": true
   },
   "source": [
    "### Perkalian dot (skalar)"
   ]
  },
  {
   "cell_type": "markdown",
   "metadata": {
    "hidden": true
   },
   "source": [
    "Untuk operasi skalar antara dua vektor kita dapat menggunakan fungsi `np.dot`"
   ]
  },
  {
   "cell_type": "code",
   "execution_count": 24,
   "metadata": {
    "hidden": true
   },
   "outputs": [
    {
     "data": {
      "text/plain": [
       "array([2, 1, 3, 6])"
      ]
     },
     "execution_count": 24,
     "metadata": {},
     "output_type": "execute_result"
    }
   ],
   "source": [
    "y = np.array([2,1,3,6])\n",
    "y"
   ]
  },
  {
   "cell_type": "code",
   "execution_count": 25,
   "metadata": {
    "hidden": true
   },
   "outputs": [
    {
     "data": {
      "text/plain": [
       "50"
      ]
     },
     "execution_count": 25,
     "metadata": {},
     "output_type": "execute_result"
    }
   ],
   "source": [
    "np.dot(y,y)"
   ]
  },
  {
   "cell_type": "code",
   "execution_count": 26,
   "metadata": {
    "hidden": true
   },
   "outputs": [
    {
     "data": {
      "text/plain": [
       "67"
      ]
     },
     "execution_count": 26,
     "metadata": {},
     "output_type": "execute_result"
    }
   ],
   "source": [
    "np.dot(x,y)"
   ]
  },
  {
   "cell_type": "code",
   "execution_count": 27,
   "metadata": {
    "hidden": true
   },
   "outputs": [
    {
     "data": {
      "text/plain": [
       "95"
      ]
     },
     "execution_count": 27,
     "metadata": {},
     "output_type": "execute_result"
    }
   ],
   "source": [
    "np.dot(x,x)"
   ]
  },
  {
   "cell_type": "markdown",
   "metadata": {
    "hidden": true
   },
   "source": [
    "Metode `dot` juga dapat digunakan untuk operasi dot product:"
   ]
  },
  {
   "cell_type": "code",
   "execution_count": 28,
   "metadata": {
    "hidden": true
   },
   "outputs": [
    {
     "data": {
      "text/plain": [
       "95"
      ]
     },
     "execution_count": 28,
     "metadata": {},
     "output_type": "execute_result"
    }
   ],
   "source": [
    "x.dot(x)"
   ]
  },
  {
   "cell_type": "markdown",
   "metadata": {
    "hidden": true
   },
   "source": [
    "Operasi `dot` juga dapat digunakan untuk melakukan perkalian antara matriks dengan vektor:"
   ]
  },
  {
   "cell_type": "code",
   "execution_count": 29,
   "metadata": {
    "hidden": true
   },
   "outputs": [
    {
     "data": {
      "text/plain": [
       "array([ 46,  86, 101])"
      ]
     },
     "execution_count": 29,
     "metadata": {},
     "output_type": "execute_result"
    }
   ],
   "source": [
    "A.dot(x)"
   ]
  },
  {
   "cell_type": "code",
   "execution_count": 30,
   "metadata": {
    "hidden": true
   },
   "outputs": [
    {
     "data": {
      "text/plain": [
       "array([ 46,  86, 101])"
      ]
     },
     "execution_count": 30,
     "metadata": {},
     "output_type": "execute_result"
    }
   ],
   "source": [
    "np.matmul(A,x)"
   ]
  },
  {
   "cell_type": "markdown",
   "metadata": {
    "hidden": true
   },
   "source": [
    "Untuk tipe `matrix`:"
   ]
  },
  {
   "cell_type": "code",
   "execution_count": 31,
   "metadata": {
    "hidden": true
   },
   "outputs": [
    {
     "data": {
      "text/plain": [
       "matrix([[3],\n",
       "        [1],\n",
       "        [6],\n",
       "        [7]])"
      ]
     },
     "execution_count": 31,
     "metadata": {},
     "output_type": "execute_result"
    }
   ],
   "source": [
    "xx = np.matrix(x).transpose()\n",
    "xx"
   ]
  },
  {
   "cell_type": "code",
   "execution_count": 32,
   "metadata": {
    "hidden": true
   },
   "outputs": [
    {
     "data": {
      "text/plain": [
       "95"
      ]
     },
     "execution_count": 32,
     "metadata": {},
     "output_type": "execute_result"
    }
   ],
   "source": [
    "xx.transpose().dot(xx)[0,0]"
   ]
  },
  {
   "cell_type": "code",
   "execution_count": 33,
   "metadata": {
    "hidden": true
   },
   "outputs": [
    {
     "data": {
      "text/plain": [
       "matrix([[ 46],\n",
       "        [ 86],\n",
       "        [101]])"
      ]
     },
     "execution_count": 33,
     "metadata": {},
     "output_type": "execute_result"
    }
   ],
   "source": [
    "AA.dot(xx)"
   ]
  },
  {
   "cell_type": "code",
   "execution_count": 34,
   "metadata": {
    "hidden": true
   },
   "outputs": [
    {
     "data": {
      "text/plain": [
       "matrix([[ 46],\n",
       "        [ 86],\n",
       "        [101]])"
      ]
     },
     "execution_count": 34,
     "metadata": {},
     "output_type": "execute_result"
    }
   ],
   "source": [
    "AA*xx"
   ]
  },
  {
   "cell_type": "code",
   "execution_count": 35,
   "metadata": {
    "hidden": true
   },
   "outputs": [
    {
     "data": {
      "text/plain": [
       "matrix([[ 38,  48],\n",
       "        [ 95, 116],\n",
       "        [ 93, 114]])"
      ]
     },
     "execution_count": 35,
     "metadata": {},
     "output_type": "execute_result"
    }
   ],
   "source": [
    "AA.dot(BB)"
   ]
  },
  {
   "cell_type": "code",
   "execution_count": 36,
   "metadata": {
    "hidden": true
   },
   "outputs": [
    {
     "data": {
      "text/plain": [
       "matrix([[ 38,  48],\n",
       "        [ 95, 116],\n",
       "        [ 93, 114]])"
      ]
     },
     "execution_count": 36,
     "metadata": {},
     "output_type": "execute_result"
    }
   ],
   "source": [
    "AA*BB"
   ]
  },
  {
   "cell_type": "markdown",
   "metadata": {
    "hidden": true
   },
   "source": [
    "Pada catatan ini, penulis akan menggunakan `matrix`. Jika Anda lebih suka menggunakan `ndarray` langsung, Anda dapat menggunakannya dengan dengan sedikit modifikasi."
   ]
  },
  {
   "cell_type": "markdown",
   "metadata": {
    "hidden": true
   },
   "source": [
    "Operasi vektorisasi sebisa mungkin akan dihindari."
   ]
  },
  {
   "cell_type": "markdown",
   "metadata": {},
   "source": [
    "## Metode Eliminasi Gauss"
   ]
  },
  {
   "cell_type": "markdown",
   "metadata": {},
   "source": [
    "Dalam metode eliminasi Gauss, matriks $\\mathbf{A}$ dan vektor kolom $\\mathbf{b}$ akan ditransformasi sedemikian rupa sehingga diperoleh matriks dalam bentuk segitiga atas atau segitiga bawah."
   ]
  },
  {
   "cell_type": "markdown",
   "metadata": {},
   "source": [
    "Transformasi yang dilakukan adalah sebagai berikut.\n",
    "$$\n",
    "\\begin{align*}\n",
    "A_{ij} \\leftarrow A_{ij} - \\alpha A_{kj} \\\\\n",
    "b_{i} \\leftarrow b_{i} - \\alpha b_{k}\n",
    "\\end{align*}\n",
    "$$\n",
    "Setelah matriks $\\mathbf{A}$ direduksi menjadi bentuk segitiga atas, solusi persamaan linear yang dihasilkan dapat dicari dengan menggunakan substitusi mundur (*backward substitution*).\n",
    "$$\n",
    "x_{k} = \\left(\n",
    "b_{k} - \\sum_{j=k+1}^{N} A_{kj} x_{j}\n",
    "\\right)\\frac{1}{A_{kk}}\\,\\,\\,, k = N-1, N-2, \\ldots, 1\n",
    "$$"
   ]
  },
  {
   "cell_type": "markdown",
   "metadata": {},
   "source": [
    "### Contoh penggunaan metode eliminasi Gauss"
   ]
  },
  {
   "cell_type": "markdown",
   "metadata": {},
   "source": [
    "Perhatikan sistem persamaan linear berikut ini:\n",
    "$$\n",
    "\\begin{align*}\n",
    "x_{1} + x_{2} + x_{3} & = 4 \\\\\n",
    "2x_{1} + 3x_{2} + x_{3} & = 9 \\\\\n",
    "x_{1} - x_{2} - x_{3} & = -2\n",
    "\\end{align*}\n",
    "$$\n",
    "Persamaan di atas dapat diubah dalam bentuk matrix sebagai\n",
    "$$\n",
    "\\begin{bmatrix}\n",
    "1 & 1 & 1 \\\\\n",
    "2 & 3 & 1 \\\\\n",
    "1 & -1 & -1\n",
    "\\end{bmatrix}\n",
    "\\begin{bmatrix}\n",
    "x_{1} \\\\\n",
    "x_{2} \\\\\n",
    "x_{3}\n",
    "\\end{bmatrix}\n",
    "= \n",
    "\\begin{bmatrix}\n",
    "4 \\\\\n",
    "9 \\\\\n",
    "-2\n",
    "\\end{bmatrix}\n",
    "$$"
   ]
  },
  {
   "cell_type": "code",
   "execution_count": 89,
   "metadata": {},
   "outputs": [
    {
     "data": {
      "text/plain": [
       "matrix([[ 1,  1,  1],\n",
       "        [ 2,  3,  1],\n",
       "        [ 1, -1, -1]])"
      ]
     },
     "execution_count": 89,
     "metadata": {},
     "output_type": "execute_result"
    }
   ],
   "source": [
    "A = np.matrix([\n",
    "    [1, 1, 1],\n",
    "    [2, 3, 1],\n",
    "    [1, -1, -1]\n",
    "])\n",
    "A"
   ]
  },
  {
   "cell_type": "code",
   "execution_count": 90,
   "metadata": {},
   "outputs": [
    {
     "data": {
      "text/plain": [
       "matrix([[ 4],\n",
       "        [ 9],\n",
       "        [-2]])"
      ]
     },
     "execution_count": 90,
     "metadata": {},
     "output_type": "execute_result"
    }
   ],
   "source": [
    "b = np.matrix([4, 9, -2]).transpose()\n",
    "b"
   ]
  },
  {
   "cell_type": "markdown",
   "metadata": {},
   "source": [
    "Karena kita akan memodifikasi matrix `A` dan `b`, maka kita harus membuat backup (copy) dari nilai asli mereka."
   ]
  },
  {
   "cell_type": "code",
   "execution_count": 91,
   "metadata": {},
   "outputs": [],
   "source": [
    "A_orig = np.matrix.copy(A)\n",
    "b_orig = np.matrix.copy(b)"
   ]
  },
  {
   "cell_type": "markdown",
   "metadata": {},
   "source": [
    "Dimulai dengan menggunakan elemen matriks $A_{11}$ (atau `A[0,0]` dalam notasi Numpy) sebagai pivot, kita akan melakukan reduksi pada baris kedua dan ketiga.\n",
    "\n",
    "Kita akan mulai dengan reduksi baris kedua."
   ]
  },
  {
   "cell_type": "code",
   "execution_count": 40,
   "metadata": {},
   "outputs": [
    {
     "name": "stdout",
     "output_type": "stream",
     "text": [
      "A = \n",
      " [[ 1  1  1]\n",
      " [ 0  1 -1]\n",
      " [ 1 -1 -1]]\n",
      "b = \n",
      " [[ 4]\n",
      " [ 1]\n",
      " [-2]]\n"
     ]
    }
   ],
   "source": [
    "alpha = A[1,0]/A[0,0]\n",
    "A[1,:] = A[1,:] - alpha*A[0,:]\n",
    "b[1] = b[1] - alpha*b[0]\n",
    "\n",
    "print(\"A = \\n\", A)\n",
    "print(\"b = \\n\", b)"
   ]
  },
  {
   "cell_type": "markdown",
   "metadata": {},
   "source": [
    "Masih menggunakan `A[0,0]` sebagai pivot, kita akan reduksi baris ketiga:"
   ]
  },
  {
   "cell_type": "code",
   "execution_count": 41,
   "metadata": {},
   "outputs": [
    {
     "name": "stdout",
     "output_type": "stream",
     "text": [
      "A = \n",
      " [[ 1  1  1]\n",
      " [ 0  1 -1]\n",
      " [ 0 -2 -2]]\n",
      "b = \n",
      " [[ 4]\n",
      " [ 1]\n",
      " [-6]]\n"
     ]
    }
   ],
   "source": [
    "alpha = A[2,0]/A[0,0]\n",
    "A[2,:] = A[2,:] - alpha*A[0,:]\n",
    "b[2] = b[2] - alpha*b[0]\n",
    "\n",
    "print(\"A = \\n\", A)\n",
    "print(\"b = \\n\", b)"
   ]
  },
  {
   "cell_type": "markdown",
   "metadata": {},
   "source": [
    "Setelah menjadikan `A[0,0]` sebagai pivot dan mereduksi baris kedua dan ketiga, kita akan menggunakan `A[1,1]` sebagai pivot dan mereduksi baris ketiga:"
   ]
  },
  {
   "cell_type": "code",
   "execution_count": 42,
   "metadata": {},
   "outputs": [
    {
     "name": "stdout",
     "output_type": "stream",
     "text": [
      "A = \n",
      " [[ 1  1  1]\n",
      " [ 0  1 -1]\n",
      " [ 0  0 -4]]\n",
      "b = \n",
      " [[ 4]\n",
      " [ 1]\n",
      " [-4]]\n"
     ]
    }
   ],
   "source": [
    "alpha = A[2,1]/A[1,1]\n",
    "A[2,:] = A[2,:] - alpha*A[1,:]\n",
    "b[2] = b[2] - alpha*b[1]\n",
    "\n",
    "print(\"A = \\n\", A)\n",
    "print(\"b = \\n\", b)"
   ]
  },
  {
   "cell_type": "markdown",
   "metadata": {},
   "source": [
    "Sekarang `A` telah tereduksi menjadi bentuk matriks segitiga atas. Persamaan yang kita miliki sekarang adalah:\n",
    "$$\n",
    "\\begin{bmatrix}\n",
    "1 & 1 & 1 \\\\\n",
    "0 & 1 & -3 \\\\\n",
    "0 & 0 & -8\n",
    "\\end{bmatrix}\n",
    "\\begin{bmatrix}\n",
    "x_{1} \\\\\n",
    "x_{2} \\\\\n",
    "x_{3}\n",
    "\\end{bmatrix}\n",
    "= \n",
    "\\begin{bmatrix}\n",
    "4 \\\\\n",
    "1 \\\\\n",
    "-4\n",
    "\\end{bmatrix}\n",
    "$$"
   ]
  },
  {
   "cell_type": "markdown",
   "metadata": {},
   "source": [
    "Sistem persamaan linear ini dapat dengan mudah diselesaikan dengan menggunakan substitusi balik: mulai dari mencari $x_3$, kemudian $x_2$, dan akhirnya $x_1$."
   ]
  },
  {
   "cell_type": "code",
   "execution_count": 43,
   "metadata": {},
   "outputs": [
    {
     "name": "stdout",
     "output_type": "stream",
     "text": [
      "[[1.]]\n",
      "[[2.]]\n",
      "[[1.]]\n"
     ]
    }
   ],
   "source": [
    "N = len(b)\n",
    "x = np.matrix(np.zeros((N,1)))\n",
    "\n",
    "x[N-1] = b[N-1]/A[N-1,N-1]\n",
    "for k in range(N-2,-1,-1):\n",
    "    ss = 0.0\n",
    "    for j in range(k+1,N):\n",
    "        ss = ss + A[k,j]*x[j]\n",
    "    x[k] = (b[k] - ss)/A[k,k]\n",
    "\n",
    "for i in range(N):\n",
    "    print(x[i])"
   ]
  },
  {
   "cell_type": "markdown",
   "metadata": {},
   "source": [
    "Sekarang kita dapat mengecek apakah solusi yang kita dapatkan sudah benar."
   ]
  },
  {
   "cell_type": "code",
   "execution_count": 44,
   "metadata": {},
   "outputs": [
    {
     "data": {
      "text/plain": [
       "matrix([[0.],\n",
       "        [0.],\n",
       "        [0.]])"
      ]
     },
     "execution_count": 44,
     "metadata": {},
     "output_type": "execute_result"
    }
   ],
   "source": [
    "# Gunakan matrix dan vektor original\n",
    "# Hasil seharunya berupa vektor kolom dengan elemen-element 0\n",
    "A_orig*x - b_orig"
   ]
  },
  {
   "cell_type": "markdown",
   "metadata": {},
   "source": [
    "### Kode Python untuk eliminasi Gauss"
   ]
  },
  {
   "cell_type": "markdown",
   "metadata": {},
   "source": [
    "Berikut ini adalah implementasi metode eliminasi Gauss pada Python.\n",
    "\n",
    "Kode ini menerima masukan matriks `A_` dan vektor kolom `b_`. dan mengembalikan solusi `x` dari sistem persamaan linear `A_*x = b_`. Tanda `_` digunakan untuk menunjukkan input asli. Pada kode berikut kita bekerja dengan matriks `A` dan vektor `x` yang merupakan kopi dari input-input awal.\n",
    "Kode ini terbatas pada vektor input `b_` yang hanya terdiri dari satu kolom. Kode dapat dikembangkan untuk kasus kolom lebih dari satu. "
   ]
  },
  {
   "cell_type": "code",
   "execution_count": 200,
   "metadata": {},
   "outputs": [],
   "source": [
    "def gauss_elim(A_, b_):\n",
    "    \n",
    "    N, Nrhs = b_.shape\n",
    "    \n",
    "    assert Nrhs == 1\n",
    "\n",
    "    A = np.matrix.copy(A_)\n",
    "    b = np.matrix.copy(b_)\n",
    "\n",
    "    # Eliminasi maju\n",
    "    for k in range(0,N-1):\n",
    "        for i in range(k+1,N):\n",
    "            if A[i,k] != 0.0:\n",
    "                alpha = A[i,k]/A[k,k]\n",
    "                A[i,:] = A[i,:] - alpha*A[k,:]\n",
    "                b[i] = b[i] - alpha*b[k]\n",
    "    \n",
    "    # Alokasi mememori untuk solusi\n",
    "    x = np.matrix(np.zeros((N,1)))\n",
    "    \n",
    "    # Substitusi balik\n",
    "    x[N-1] = b[N-1]/A[N-1,N-1]\n",
    "    for k in range(N-2,-1,-1):\n",
    "        ss = 0.0\n",
    "        for j in range(k+1,N):\n",
    "            ss = ss + A[k,j]*x[j]\n",
    "        x[k] = (b[k] - ss)/A[k,k]\n",
    "    \n",
    "    return x"
   ]
  },
  {
   "cell_type": "code",
   "execution_count": 201,
   "metadata": {},
   "outputs": [
    {
     "data": {
      "text/plain": [
       "matrix([[1.],\n",
       "        [2.],\n",
       "        [1.]])"
      ]
     },
     "execution_count": 201,
     "metadata": {},
     "output_type": "execute_result"
    }
   ],
   "source": [
    "gauss_elim(A_orig, b_orig)"
   ]
  },
  {
   "cell_type": "markdown",
   "metadata": {
    "heading_collapsed": true
   },
   "source": [
    "## Dekomposisi LU"
   ]
  },
  {
   "cell_type": "markdown",
   "metadata": {
    "hidden": true
   },
   "source": [
    "Pada dekomposisi LU, matriks persegi $\\mathbf{A}$ dapat dinyatakan sebagai hasil kali dari matriks segitiga bawah $\\mathbf{L}$ dan matriks segitiga atas $\\mathbf{U}$:\n",
    "$$\n",
    "\\mathbf{A} = \\mathbf{LU}\n",
    "$$\n",
    "Proses untuk mendapatkan matriks $\\mathbf{L}$ dan $\\mathbf{U}$ dari matriks $\\mathbf{A}$ disebut dengan dekomposisi LU atau faktorisasi LU.\n",
    "Dekomposisi LU tidak unik, artinya bisa terdapat banyak kombinasi $\\mathbf{L}$ dan $\\mathbf{U}$ yang mungkin untuk suatu matriks $\\mathbf{A}$ yang diberikan.\n",
    "Untuk mendapatkan pasangan $\\mathbf{L}$ dan $\\mathbf{U}$ yang unik, kita perlu memberikan batasan atau konstrain terhadap proses dekomposisi LU. Terdapat beberapa varian dekomposisi LU:\n",
    "\n",
    "| Nama | Konstrain |\n",
    "| ---- | --------- |\n",
    "| Dekomposisi Doolittle | $L_{ii} = 1$ |\n",
    "| Dekomposisi Crout | $U_{ii} = 1$ |\n",
    "| Dekomposisi Cholesky | $\\mathbf{L} = \\mathbf{U}^{T}$ (untuk matriks $\\mathbf{A}$ simetrik dan definit positif |"
   ]
  },
  {
   "cell_type": "markdown",
   "metadata": {
    "hidden": true
   },
   "source": [
    "Dengan dekomposisi LU kita dapat menuliskan sistem persamaan linear\n",
    "$$\n",
    "\\mathbf{Ax} = \\mathbf{b}\n",
    "$$\n",
    "menjadi:\n",
    "$$\n",
    "\\mathbf{LUx} = \\mathbf{b}\n",
    "$$\n",
    "Dengan menggunakan $\\mathbf{y} = \\mathbf{Ux}$ kita dapat menuliskan:\n",
    "$$\n",
    "\\mathbf{Ly} = \\mathbf{b}\n",
    "$$\n",
    "Persamaan ini dapat diselesaikan dengan menggunakan substitusi maju.\n",
    "Solusi $\\mathbf{x}$ dapat dicari dengan menggunakan substitusi balik (mundur)."
   ]
  },
  {
   "cell_type": "markdown",
   "metadata": {
    "hidden": true
   },
   "source": [
    "Varian Doolittle untuk dekomposisi LU memiliki bentuk berikut untuk matriks $\\mathbf{L}$ dan $\\mathbf{U}$, misalnya untuk ukuran $3\\times3$ \n",
    "$$\n",
    "\\mathbf{L} =\n",
    "\\begin{bmatrix}\n",
    "1 & 0 & 0 \\\\\n",
    "L_{21} & 1 & 0 \\\\\n",
    "L_{31} & L_{32} & 1\n",
    "\\end{bmatrix},\\,\\,\\,\n",
    "\\mathbf{U} =\n",
    "\\begin{bmatrix}\n",
    "U_{11} & U_{12} & U_{13} \\\\\n",
    "0 & U_{22} & U_{23} \\\\\n",
    "0 & 0 & U_{33}\n",
    "\\end{bmatrix}\n",
    "$$\n",
    "Dengan melakukan perkalian $\\mathbf{A} = \\mathbf{LU}$\n",
    "$$\n",
    "\\mathbf{A} = \\begin{bmatrix}\n",
    "U_{11} & U_{12} & U_{13} \\\\\n",
    "U_{11}L_{21} & U_{12}L_{21} + U_{22} & U_{13}L_{21} + U_{23} \\\\\n",
    "U_{11}L_{31} & U_{12}L_{31} + U_{22}L_{32} & U_{13}L_{31} + U_{23}L_{32} + U_{33}\n",
    "\\end{bmatrix}\n",
    "$$"
   ]
  },
  {
   "cell_type": "markdown",
   "metadata": {
    "hidden": true
   },
   "source": [
    "Dapat ditunjukkan bahwa matriks $\\mathbf{U}$ adalah matriks segitiga atas hasil dari eliminasi Gauss pada matriks $\\mathbf{A}$. Elemen *off-diagonal* dari matriks $\\mathbf{L}$ adalah pengali $\\alpha$, atau $L_{ij}$ adalah pengali yang mengelimisasi $A_{ij}$."
   ]
  },
  {
   "cell_type": "markdown",
   "metadata": {
    "heading_collapsed": true,
    "hidden": true
   },
   "source": [
    "### Kode Python untuk dekomposisi LU (varian Doolittle)"
   ]
  },
  {
   "cell_type": "code",
   "execution_count": 114,
   "metadata": {
    "hidden": true
   },
   "outputs": [],
   "source": [
    "def LU_decomp(A_):\n",
    "    \n",
    "    Nrow, Ncol = A_.shape\n",
    "    \n",
    "    assert Nrow == Ncol\n",
    "\n",
    "    A = np.matrix.copy(A_)\n",
    "\n",
    "    # Eliminasi Gauss (maju)\n",
    "    for k in range(0,N-1):\n",
    "        for i in range(k+1,N):\n",
    "            if A[i,k] != 0.0:\n",
    "                alpha = A[i,k]/A[k,k]\n",
    "                A[i,k+1:N] = A[i,k+1:N] - alpha*A[k,k+1:N]\n",
    "                A[i,k] = alpha\n",
    "    \n",
    "    L = np.matrix( np.tril(A,-1) )\n",
    "    for i in range(N):\n",
    "        L[i,i] = 1.0 # konstrain Doolittle\n",
    "    U = np.matrix( np.triu(A) )\n",
    "    \n",
    "    return L, U # kembalikan matriks L dan U"
   ]
  },
  {
   "cell_type": "markdown",
   "metadata": {
    "hidden": true
   },
   "source": [
    "Definisikan lagi matriks dan vektor yang ada pada contoh sebelumnya."
   ]
  },
  {
   "cell_type": "code",
   "execution_count": 115,
   "metadata": {
    "hidden": true
   },
   "outputs": [],
   "source": [
    "A = np.matrix([\n",
    "    [1, 1, 1],\n",
    "    [2, 3, 1],\n",
    "    [1, -1, -1]\n",
    "])\n",
    "b = np.matrix([4, 9, -2]).transpose()"
   ]
  },
  {
   "cell_type": "markdown",
   "metadata": {
    "hidden": true
   },
   "source": [
    "Lakukan dekomposisi LU:"
   ]
  },
  {
   "cell_type": "code",
   "execution_count": 118,
   "metadata": {
    "hidden": true
   },
   "outputs": [
    {
     "name": "stdout",
     "output_type": "stream",
     "text": [
      "L = \n",
      " [[ 1  0  0]\n",
      " [ 2  1  0]\n",
      " [ 1 -2  1]]\n",
      "U = \n",
      " [[ 1  1  1]\n",
      " [ 0  1 -1]\n",
      " [ 0  0 -4]]\n"
     ]
    }
   ],
   "source": [
    "L, U = LU_decomp(A)\n",
    "print(\"L = \\n\", L)\n",
    "print(\"U = \\n\", U)"
   ]
  },
  {
   "cell_type": "markdown",
   "metadata": {
    "hidden": true
   },
   "source": [
    "Periksa bahwa $\\mathbf{A} = \\mathbf{LU}$:"
   ]
  },
  {
   "cell_type": "code",
   "execution_count": 93,
   "metadata": {
    "hidden": true
   },
   "outputs": [
    {
     "data": {
      "text/plain": [
       "matrix([[0, 0, 0],\n",
       "        [0, 0, 0],\n",
       "        [0, 0, 0]])"
      ]
     },
     "execution_count": 93,
     "metadata": {},
     "output_type": "execute_result"
    }
   ],
   "source": [
    "L*U - A"
   ]
  },
  {
   "cell_type": "code",
   "execution_count": null,
   "metadata": {
    "hidden": true
   },
   "outputs": [],
   "source": []
  },
  {
   "cell_type": "markdown",
   "metadata": {
    "hidden": true
   },
   "source": [
    "### Implementasi solusi dengan matrix L dan U yang sudah dihitung"
   ]
  },
  {
   "cell_type": "markdown",
   "metadata": {
    "hidden": true
   },
   "source": [
    "Substitusi maju\n",
    "$$\n",
    "y_{k} = b_{k} - \\sum_{j=1}^{k-1} L_{kj} y_{j},\\,\\,\\,k = 2,3,\\ldots,N\n",
    "$$"
   ]
  },
  {
   "cell_type": "code",
   "execution_count": 108,
   "metadata": {
    "hidden": true
   },
   "outputs": [],
   "source": [
    "def LU_solve(L, U, b):\n",
    "    \n",
    "    N = L.shape[0]\n",
    "    \n",
    "    x = np.matrix(np.zeros((N,))).transpose()\n",
    "    y = np.matrix(np.zeros((N,))).transpose()\n",
    "    \n",
    "    # Ly = b\n",
    "    # Substitusi maju\n",
    "    y[0] = b[0]/L[0,0]\n",
    "    for k in range(1,N):\n",
    "        ss = 0.0\n",
    "        for j in range(k):\n",
    "            ss = ss + L[k,j]*y[j]\n",
    "        y[k] = (b[k] - ss)/L[k,k]\n",
    "    \n",
    "    # Ux = y\n",
    "    # Substitusi balik\n",
    "    x[N-1] = y[N-1]/U[N-1,N-1]\n",
    "    for k in range(N-2,-1,-1):\n",
    "        ss = 0.0\n",
    "        for j in range(k+1,N):\n",
    "            ss = ss + U[k,j]*x[j]\n",
    "        x[k] = (y[k] - ss)/U[k,k]\n",
    "    \n",
    "    return x"
   ]
  },
  {
   "cell_type": "code",
   "execution_count": 119,
   "metadata": {
    "hidden": true
   },
   "outputs": [],
   "source": [
    "x = LU_solve(L, U, b)"
   ]
  },
  {
   "cell_type": "markdown",
   "metadata": {
    "hidden": true
   },
   "source": [
    "Cek hasil:"
   ]
  },
  {
   "cell_type": "code",
   "execution_count": 120,
   "metadata": {
    "hidden": true
   },
   "outputs": [
    {
     "data": {
      "text/plain": [
       "matrix([[0.],\n",
       "        [0.],\n",
       "        [0.]])"
      ]
     },
     "execution_count": 120,
     "metadata": {},
     "output_type": "execute_result"
    }
   ],
   "source": [
    "A*x - b"
   ]
  },
  {
   "cell_type": "markdown",
   "metadata": {
    "heading_collapsed": true
   },
   "source": [
    "## Latihan 1"
   ]
  },
  {
   "cell_type": "markdown",
   "metadata": {
    "hidden": true
   },
   "source": [
    "Selasaikan persamaan:\n",
    "$$\n",
    "\\begin{bmatrix}\n",
    "6 & -4 & 1 \\\\\n",
    "4 & 6 & -4 \\\\\n",
    "1 & -4 & 6\n",
    "\\end{bmatrix}\n",
    "\\begin{bmatrix}\n",
    "x_1 \\\\\n",
    "x_2 \\\\\n",
    "x_3\n",
    "\\end{bmatrix}\n",
    "= \n",
    "\\begin{bmatrix}\n",
    "-14 \\\\\n",
    "36 \\\\\n",
    "6\n",
    "\\end{bmatrix}\n",
    "$$"
   ]
  },
  {
   "cell_type": "markdown",
   "metadata": {
    "hidden": true
   },
   "source": [
    "### Latihan 1 (Solusi)"
   ]
  },
  {
   "cell_type": "markdown",
   "metadata": {
    "hidden": true
   },
   "source": [
    "Menggunakan eliminasi Gauss:"
   ]
  },
  {
   "cell_type": "code",
   "execution_count": 213,
   "metadata": {
    "hidden": true
   },
   "outputs": [
    {
     "name": "stdout",
     "output_type": "stream",
     "text": [
      "Solusi x=\n",
      " [[10.]\n",
      " [22.]\n",
      " [14.]]\n",
      "Cek solusi: Ax - b\n",
      " [[1.77635684e-15]\n",
      " [2.13162821e-14]\n",
      " [0.00000000e+00]]\n"
     ]
    }
   ],
   "source": [
    "A = np.matrix([\n",
    "    [6, -4, 1],\n",
    "    [-4, 6, -4],\n",
    "    [1, -4, 6]], dtype=np.float64)\n",
    "b = np.matrix([-14, 36, 6], dtype=np.float64).transpose()\n",
    "x = gauss_elim(A, b)\n",
    "print(\"Solusi x=\\n\", x)\n",
    "print(\"Cek solusi: Ax - b\\n\", A*x - b)"
   ]
  },
  {
   "cell_type": "markdown",
   "metadata": {
    "hidden": true
   },
   "source": [
    "Menggunakan dekomposisi LU:"
   ]
  },
  {
   "cell_type": "code",
   "execution_count": 212,
   "metadata": {
    "hidden": true
   },
   "outputs": [
    {
     "name": "stdout",
     "output_type": "stream",
     "text": [
      "Solusi x=\n",
      " [[10.]\n",
      " [22.]\n",
      " [14.]]\n",
      "Cek solusi: Ax - b\n",
      " [[1.77635684e-15]\n",
      " [2.13162821e-14]\n",
      " [0.00000000e+00]]\n"
     ]
    }
   ],
   "source": [
    "A = np.matrix([\n",
    "    [6, -4, 1],\n",
    "    [-4, 6, -4],\n",
    "    [1, -4, 6]], dtype=np.float64)\n",
    "b = np.matrix([-14, 36, 6], dtype=np.float64).transpose()\n",
    "L, U = LU_decomp(A)\n",
    "x = LU_solve(L, U, b)\n",
    "print(\"Solusi x=\\n\", x)\n",
    "print(\"Cek solusi: Ax - b\\n\", A*x - b)"
   ]
  },
  {
   "cell_type": "markdown",
   "metadata": {
    "heading_collapsed": true
   },
   "source": [
    "## Latihan 2"
   ]
  },
  {
   "cell_type": "markdown",
   "metadata": {
    "hidden": true
   },
   "source": [
    "Selasaikan persamaan:\n",
    "$$\n",
    "\\begin{bmatrix}\n",
    "3 & 1 & -1 \\\\\n",
    "5 & 8 & 2 \\\\\n",
    "3 & 1 & 10\n",
    "\\end{bmatrix}\n",
    "\\begin{bmatrix}\n",
    "x_1 \\\\\n",
    "x_2 \\\\\n",
    "x_3\n",
    "\\end{bmatrix}\n",
    "= \n",
    "\\begin{bmatrix}\n",
    "1 \\\\\n",
    "-4 \\\\\n",
    "5\n",
    "\\end{bmatrix}\n",
    "$$"
   ]
  },
  {
   "cell_type": "markdown",
   "metadata": {
    "hidden": true
   },
   "source": [
    "Menggunakan eliminasi Gauss:"
   ]
  },
  {
   "cell_type": "code",
   "execution_count": 215,
   "metadata": {
    "hidden": true
   },
   "outputs": [
    {
     "name": "stdout",
     "output_type": "stream",
     "text": [
      "Solusi x=\n",
      " [[ 0.82296651]\n",
      " [-1.10526316]\n",
      " [ 0.36363636]]\n",
      "Cek solusi: Ax - b\n",
      " [[-1.11022302e-16]\n",
      " [-8.88178420e-16]\n",
      " [ 0.00000000e+00]]\n"
     ]
    }
   ],
   "source": [
    "A = np.matrix( [\n",
    "    [3, 1, -1],\n",
    "    [5, 8, 2],\n",
    "    [3, 1, 10]\n",
    "], dtype=np.float64)\n",
    "b = np.matrix([1, -4, 5], np.float64).transpose()\n",
    "x = gauss_elim(A, b)\n",
    "print(\"Solusi x=\\n\", x)\n",
    "print(\"Cek solusi: Ax - b\\n\", A*x - b)"
   ]
  },
  {
   "cell_type": "markdown",
   "metadata": {
    "hidden": true
   },
   "source": [
    "Menggunakan dekomposisi LU:"
   ]
  },
  {
   "cell_type": "code",
   "execution_count": 214,
   "metadata": {
    "hidden": true
   },
   "outputs": [
    {
     "name": "stdout",
     "output_type": "stream",
     "text": [
      "Solusi x=\n",
      " [[ 0.82296651]\n",
      " [-1.10526316]\n",
      " [ 0.36363636]]\n",
      "Cek solusi: Ax - b\n",
      " [[-1.11022302e-16]\n",
      " [-8.88178420e-16]\n",
      " [ 0.00000000e+00]]\n"
     ]
    }
   ],
   "source": [
    "A = np.matrix( [\n",
    "    [3, 1, -1],\n",
    "    [5, 8, 2],\n",
    "    [3, 1, 10]\n",
    "], dtype=np.float64)\n",
    "b = np.matrix([1, -4, 5], np.float64).transpose()\n",
    "L, U = LU_decomp(A)\n",
    "x = LU_solve(L, U, b)\n",
    "print(\"Solusi x=\\n\", x)\n",
    "print(\"Cek solusi: Ax - b\\n\", A*x - b)"
   ]
  },
  {
   "cell_type": "markdown",
   "metadata": {},
   "source": [
    "## Pivoting"
   ]
  },
  {
   "cell_type": "markdown",
   "metadata": {},
   "source": [
    "Metode eliminasi Gauss dan LU memiliki beberapa kekurangan. Salah satu yang sering ditemui adalah ketika elemen pivot yang ditemukan adalah 0. Misalkan pada persamaan berikut ini:\n",
    "\n",
    "$$\n",
    "\\begin{bmatrix}\n",
    "0 & -3 & 7 \\\\\n",
    "1 & 2 & -1 \\\\\n",
    "5 & -2 & 0\n",
    "\\end{bmatrix}\n",
    "\\begin{bmatrix}\n",
    "x_1 \\\\\n",
    "x_2 \\\\\n",
    "x_3\n",
    "\\end{bmatrix}\n",
    "= \n",
    "\\begin{bmatrix}\n",
    "2 \\\\\n",
    "3 \\\\\n",
    "4\n",
    "\\end{bmatrix}\n",
    "$$"
   ]
  },
  {
   "cell_type": "markdown",
   "metadata": {},
   "source": [
    "Jika kita langsung menggunakan fungsi `gauss_elim` kita akan mendapatkan pesan peringatan sebagai berikut:\n",
    "```python\n",
    "A = np.matrix( [\n",
    "    [0, -3, 7],\n",
    "    [1, 2, -1],\n",
    "    [5, -2, 0]\n",
    "], dtype=np.float64)\n",
    "b = np.matrix([2, 3, 4], np.float64).transpose()\n",
    "x = gauss_elim(A, b)\n",
    "```\n",
    "\n",
    "```\n",
    "/home/efefer/miniconda3/lib/python3.7/site-packages/ipykernel_launcher.py:14: RuntimeWarning: divide by zero encountered in double_scalars\n",
    "  \n",
    "/home/efefer/miniconda3/lib/python3.7/site-packages/ipykernel_launcher.py:15: RuntimeWarning: invalid value encountered in multiply\n",
    "  from ipykernel import kernelapp as app\n",
    "/home/efefer/miniconda3/lib/python3.7/site-packages/ipykernel_launcher.py:14: RuntimeWarning: invalid value encountered in double_scalars\n",
    "```"
   ]
  },
  {
   "cell_type": "markdown",
   "metadata": {},
   "source": [
    "Solusi yang dapat digunakan adalah dengan cara menukar baris atau pivoting sedemikian rupa sehingga elemen pivot yang diperoleh tidak menjadi nol. Dalam kasus ini, kita dapat menukar baris pertama dengan baris ketiga:\n",
    "\n",
    "$$\n",
    "\\begin{bmatrix}\n",
    "5 & -2 & 0 \\\\\n",
    "1 & 2 & -1 \\\\\n",
    "0 & -3 & 7\n",
    "\\end{bmatrix}\n",
    "\\begin{bmatrix}\n",
    "x_3 \\\\\n",
    "x_2 \\\\\n",
    "x_1\n",
    "\\end{bmatrix}\n",
    "= \n",
    "\\begin{bmatrix}\n",
    "4 \\\\\n",
    "3 \\\\\n",
    "2\n",
    "\\end{bmatrix}\n",
    "$$"
   ]
  },
  {
   "cell_type": "code",
   "execution_count": 216,
   "metadata": {},
   "outputs": [
    {
     "name": "stdout",
     "output_type": "stream",
     "text": [
      "Solusi x=\n",
      " [[1.30434783]\n",
      " [1.26086957]\n",
      " [0.82608696]]\n",
      "Cek solusi: Ax - b\n",
      " [[ 0.0000000e+00]\n",
      " [ 4.4408921e-16]\n",
      " [-8.8817842e-16]]\n"
     ]
    }
   ],
   "source": [
    "A = np.matrix( [\n",
    "    [5, -2, 0],\n",
    "    [1, 2, -1],\n",
    "    [0, -3, 7]\n",
    "], dtype=np.float64)\n",
    "b = np.matrix([4, 3, 2], np.float64).transpose()\n",
    "x = gauss_elim(A, b)\n",
    "print(\"Solusi x=\\n\", x)\n",
    "print(\"Cek solusi: Ax - b\\n\", A*x - b)"
   ]
  },
  {
   "cell_type": "markdown",
   "metadata": {},
   "source": [
    "Dapat dilihat bahwa pivoting pada dasarnya bertujuan untuk memperbaik sifat dominan diagonal dari matriks. Suatu matriks dikatakan dominan diagonal apabila nilai absolut dari elemen diagoanal matriks memiliki nilai yang terbesar bila dibandingkan dengan nilai-nilai elemen lainnya dalam satu baris."
   ]
  },
  {
   "cell_type": "markdown",
   "metadata": {},
   "source": [
    "Ada beberapa strategi yang dapat digunakan untuk pivoting, salah satu yang paling sederhana adalah dengan menggunakan pivoting terskala. Dengan metode ini, pertama kali kita mencari array $\\mathbf{s}$ dengan elemen sebagai berikut:\n",
    "\n",
    "$$\n",
    "s_{i} = \\max\\left|A_{ij}\\right|,\\,\\,\\,i=1,2,\\ldots,N\n",
    "$$\n",
    "\n",
    "$s_{i}$ akan disebut sebagai faktor skala dari baris ke-$i$ yang merupakan elemen dengan nilai absolut terbesar dari baris ke-$i$.\n",
    "Ukuran relatif dari elemen $A_{ij}$ relatif terhadap elemen dengan nilai terbesar adalah:\n",
    "$$\n",
    "r_{ij} = \\frac{\\left|A_{ij}\\right|}{s_{i}}\n",
    "$$\n",
    "Elemen pivot dari matriks $\\mathbf{A}$ akan ditentukan berdasarkan $r_{ij}$. Elemen $A_{kk}$ tidak secara otomatis menjadi elemen pivot, namun kita akan mencari elemen lain di bawah $A_{kk}$ pada kolom ke-$k$ untuk elemen pivot yang terbaik. Misalkan elemen terbaik ini ada pada baris ke-$p$, yaitu $A_{pk}$ yang memiliki ukuran relatif terbesar, yakni:\n",
    "$$\n",
    "r_{pk} = \\max_{j} r_{jk},\\,\\,\\, j \\geq k\n",
    "$$\n",
    "Jika elemen tersebut ditemukan maka kita melakukan pertukaran baris antara baris ke-$k$ dan ke-$p$."
   ]
  },
  {
   "cell_type": "markdown",
   "metadata": {},
   "source": [
    "### Implementasi eliminasi Gauss dengan pivoting"
   ]
  },
  {
   "cell_type": "code",
   "execution_count": 218,
   "metadata": {},
   "outputs": [],
   "source": [
    "def tukar_baris(v, i, j):\n",
    "    if len(v.shape) == 1: # array satu dimensi atau vektor kolom\n",
    "        v[i], v[j] = v[j], v[i]\n",
    "    else:\n",
    "        v[[i,j],:] = v[[j,i],:]"
   ]
  },
  {
   "cell_type": "code",
   "execution_count": 242,
   "metadata": {},
   "outputs": [],
   "source": [
    "def gauss_elim_pivot(A_, b_):\n",
    "    N, Nrhs = b_.shape\n",
    "    \n",
    "    assert Nrhs == 1\n",
    "\n",
    "    A = np.matrix.copy(A_)\n",
    "    b = np.matrix.copy(b_)\n",
    "    \n",
    "    # Faktor skala\n",
    "    s = np.matrix(np.zeros((N,1)))\n",
    "    for i in range(N):\n",
    "        s[i] = np.max(np.abs(A[i,:]))\n",
    "\n",
    "    SMALL = 1e-12\n",
    "    \n",
    "    # Eliminasi maju\n",
    "    for k in range(0,N-1):\n",
    "        \n",
    "        r = np.abs(A[k:N,k])/s[k:N]\n",
    "        p = np.argmax(r) + k\n",
    "        if abs(A[p,k]) < SMALL:\n",
    "            raise RuntimeError(\"Matriks A singular\")\n",
    "        # Tukar baris jika diperlukan\n",
    "        if p != k:\n",
    "            print(\"INFO: tukar baris %d dengan %d\" % (p,k))\n",
    "            tukar_baris(b, k, p)\n",
    "            tukar_baris(s, k, p)\n",
    "            tukar_baris(A, k, p)\n",
    "        \n",
    "        for i in range(k+1,N):\n",
    "            if A[i,k] != 0.0:\n",
    "                alpha = A[i,k]/A[k,k]\n",
    "                A[i,:] = A[i,:] - alpha*A[k,:]\n",
    "                b[i] = b[i] - alpha*b[k]\n",
    "    \n",
    "    # Alokasi mememori untuk solusi\n",
    "    x = np.matrix(np.zeros((N,1)))\n",
    "    \n",
    "    # Substitusi balik\n",
    "    x[N-1] = b[N-1]/A[N-1,N-1]\n",
    "    for k in range(N-2,-1,-1):\n",
    "        ss = 0.0\n",
    "        for j in range(k+1,N):\n",
    "            ss = ss + A[k,j]*x[j]\n",
    "        x[k] = (b[k] - ss)/A[k,k]\n",
    "    \n",
    "    return x    "
   ]
  },
  {
   "cell_type": "code",
   "execution_count": 243,
   "metadata": {},
   "outputs": [
    {
     "name": "stdout",
     "output_type": "stream",
     "text": [
      "INFO: tukar baris 2 dengan 0\n",
      "Solusi x=\n",
      " [[1.30434783]\n",
      " [1.26086957]\n",
      " [0.82608696]]\n",
      "Cek solusi: Ax - b\n",
      " [[-8.8817842e-16]\n",
      " [ 4.4408921e-16]\n",
      " [ 0.0000000e+00]]\n"
     ]
    }
   ],
   "source": [
    "A = np.matrix( [\n",
    "    [0, -3, 7],\n",
    "    [1, 2, -1],\n",
    "    [5, -2, 0]\n",
    "], dtype=np.float64)\n",
    "b = np.matrix([2, 3, 4], np.float64).transpose()\n",
    "\n",
    "x = gauss_elim_pivot(A, b)\n",
    "print(\"Solusi x=\\n\", x)\n",
    "print(\"Cek solusi: Ax - b\\n\", A*x - b)"
   ]
  },
  {
   "cell_type": "code",
   "execution_count": null,
   "metadata": {},
   "outputs": [],
   "source": []
  },
  {
   "cell_type": "code",
   "execution_count": null,
   "metadata": {},
   "outputs": [],
   "source": []
  },
  {
   "cell_type": "code",
   "execution_count": null,
   "metadata": {},
   "outputs": [],
   "source": []
  },
  {
   "cell_type": "markdown",
   "metadata": {},
   "source": [
    "## Menggunakan pustaka pada Python"
   ]
  },
  {
   "cell_type": "markdown",
   "metadata": {},
   "source": [
    "Untuk berbagai aplikasi pada sains dan teknik, kita biasanya menyelesaikan sistem persamaan linear yang ditemui dengan menggunakan berbagai macam pustaka yang sudah tersedia.\n",
    "\n",
    "Python sudah memiliki beberapa fungsi yang terkait dengan sistem persamaan linear dan operasi terkait seperti menghitung determinan dan invers matriks."
   ]
  },
  {
   "cell_type": "markdown",
   "metadata": {},
   "source": [
    "Fungsi `np.linalg.solve` dapat digunakan untuk menyelesaikan sistem persamaan linear:"
   ]
  },
  {
   "cell_type": "code",
   "execution_count": 47,
   "metadata": {},
   "outputs": [],
   "source": [
    "A = np.matrix([\n",
    "    [1, 1, 1],\n",
    "    [2, 3, -1],\n",
    "    [1, -1, -1]\n",
    "])\n",
    "B = np.matrix([4, 9, 2]).transpose()"
   ]
  },
  {
   "cell_type": "code",
   "execution_count": 48,
   "metadata": {},
   "outputs": [
    {
     "data": {
      "text/plain": [
       "matrix([[3.00000000e+00],\n",
       "        [1.00000000e+00],\n",
       "        [1.73472348e-17]])"
      ]
     },
     "execution_count": 48,
     "metadata": {},
     "output_type": "execute_result"
    }
   ],
   "source": [
    "x = np.linalg.solve(A,B)\n",
    "x"
   ]
  },
  {
   "cell_type": "code",
   "execution_count": 49,
   "metadata": {},
   "outputs": [
    {
     "data": {
      "text/plain": [
       "matrix([[0.],\n",
       "        [0.],\n",
       "        [0.]])"
      ]
     },
     "execution_count": 49,
     "metadata": {},
     "output_type": "execute_result"
    }
   ],
   "source": [
    "A*x - B"
   ]
  },
  {
   "cell_type": "markdown",
   "metadata": {},
   "source": [
    "Fungsi `np.linalg.det` dapat digunakan untuk menghitung determinan dari suatu matriks"
   ]
  },
  {
   "cell_type": "code",
   "execution_count": 50,
   "metadata": {},
   "outputs": [
    {
     "data": {
      "text/plain": [
       "-8.000000000000002"
      ]
     },
     "execution_count": 50,
     "metadata": {},
     "output_type": "execute_result"
    }
   ],
   "source": [
    "np.linalg.det(A)"
   ]
  },
  {
   "cell_type": "markdown",
   "metadata": {},
   "source": [
    "Fungsi `np.linalg.inv` dapat digunakan untuk menghitung invers dari suatu matriks"
   ]
  },
  {
   "cell_type": "code",
   "execution_count": 51,
   "metadata": {},
   "outputs": [
    {
     "data": {
      "text/plain": [
       "matrix([[ 0.5  ,  0.   ,  0.5  ],\n",
       "        [-0.125,  0.25 , -0.375],\n",
       "        [ 0.625, -0.25 , -0.125]])"
      ]
     },
     "execution_count": 51,
     "metadata": {},
     "output_type": "execute_result"
    }
   ],
   "source": [
    "np.linalg.inv(A)"
   ]
  },
  {
   "cell_type": "code",
   "execution_count": null,
   "metadata": {},
   "outputs": [],
   "source": []
  }
 ],
 "metadata": {
  "kernelspec": {
   "display_name": "Python 3",
   "language": "python",
   "name": "python3"
  },
  "language_info": {
   "codemirror_mode": {
    "name": "ipython",
    "version": 3
   },
   "file_extension": ".py",
   "mimetype": "text/x-python",
   "name": "python",
   "nbconvert_exporter": "python",
   "pygments_lexer": "ipython3",
   "version": "3.7.1"
  }
 },
 "nbformat": 4,
 "nbformat_minor": 2
}
