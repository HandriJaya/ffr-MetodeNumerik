{
 "cells": [
  {
   "cell_type": "markdown",
   "metadata": {},
   "source": [
    "# Pengenalan SymPy\n",
    "\n",
    "Fadjar Fathurrahman"
   ]
  },
  {
   "cell_type": "code",
   "execution_count": 1,
   "metadata": {},
   "outputs": [],
   "source": [
    "import sympy\n",
    "from sympy import *"
   ]
  },
  {
   "cell_type": "code",
   "execution_count": 2,
   "metadata": {},
   "outputs": [
    {
     "name": "stdout",
     "output_type": "stream",
     "text": [
      "1.1.1\n"
     ]
    }
   ],
   "source": [
    "print(sympy.__version__)"
   ]
  },
  {
   "cell_type": "code",
   "execution_count": 3,
   "metadata": {},
   "outputs": [],
   "source": [
    "init_printing(use_latex=True)"
   ]
  },
  {
   "cell_type": "markdown",
   "metadata": {},
   "source": [
    "## Operasi dasar"
   ]
  },
  {
   "cell_type": "markdown",
   "metadata": {},
   "source": [
    "Fungsi `symbols` dapat digunakan untuk membuat objek simbolik. Sebagai contoh, kita akan membuat suatu tiga objek simbolik `x`, `y`, dan `z`:"
   ]
  },
  {
   "cell_type": "code",
   "execution_count": 4,
   "metadata": {},
   "outputs": [],
   "source": [
    "x, y, z = symbols(\"x y z\")"
   ]
  },
  {
   "cell_type": "markdown",
   "metadata": {},
   "source": [
    "Jika kita menggunakan `init_print(use_latex=True)`, maka tampilan dari objek tersebut merupakan $x$, $y$, dan $z$:"
   ]
  },
  {
   "cell_type": "code",
   "execution_count": 12,
   "metadata": {},
   "outputs": [
    {
     "data": {
      "image/png": "[encoded data removed]",
      "text/latex": [
       "$$\\left ( x, \\quad y, \\quad z\\right )$$"
      ],
      "text/plain": [
       "(x, y, z)"
      ]
     },
     "execution_count": 12,
     "metadata": {},
     "output_type": "execute_result"
    }
   ],
   "source": [
    "x, y, z"
   ]
  },
  {
   "cell_type": "markdown",
   "metadata": {},
   "source": [
    "Tipe dari `x`, `y`, dan `z` adalah `Symbol` (lebih lengkapnya adalah `sympy.symbol.Symbol`)."
   ]
  },
  {
   "cell_type": "code",
   "execution_count": 16,
   "metadata": {},
   "outputs": [
    {
     "data": {
      "text/plain": [
       "(sympy.core.symbol.Symbol, sympy.core.symbol.Symbol, sympy.core.symbol.Symbol)"
      ]
     },
     "execution_count": 16,
     "metadata": {},
     "output_type": "execute_result"
    }
   ],
   "source": [
    "type(x), type(y), type(z)"
   ]
  },
  {
   "cell_type": "markdown",
   "metadata": {},
   "source": [
    "Mari kita mulai dengan perhitungan sederhana. Misalkan kita ingin menghitung hasil dari\n",
    "$$\n",
    "2x + \\frac{3x}{5x^2} - 7x\n",
    "$$"
   ]
  },
  {
   "cell_type": "code",
   "execution_count": 5,
   "metadata": {},
   "outputs": [
    {
     "data": {
      "image/png": "[encoded data removed]",
      "text/latex": [
       "$$- 5 x + \\frac{3}{5 x}$$"
      ],
      "text/plain": [
       "        3 \n",
       "-5⋅x + ───\n",
       "       5⋅x"
      ]
     },
     "execution_count": 5,
     "metadata": {},
     "output_type": "execute_result"
    }
   ],
   "source": [
    "expr = 2*x + 3*x/(5*x**2) - 7*x\n",
    "expr"
   ]
  },
  {
   "cell_type": "code",
   "execution_count": 13,
   "metadata": {},
   "outputs": [
    {
     "data": {
      "image/png": "[encoded data removed]",
      "text/latex": [
       "$$- \\frac{25 x^{2} - 3}{5 x}$$"
      ],
      "text/plain": [
       " ⎛    2    ⎞ \n",
       "-⎝25⋅x  - 3⎠ \n",
       "─────────────\n",
       "     5⋅x     "
      ]
     },
     "execution_count": 13,
     "metadata": {},
     "output_type": "execute_result"
    }
   ],
   "source": [
    "factor(expr)"
   ]
  },
  {
   "cell_type": "markdown",
   "metadata": {},
   "source": [
    "### Substitusi"
   ]
  },
  {
   "cell_type": "markdown",
   "metadata": {},
   "source": [
    "Salah satu operasi yang sering dilakukan adalah substitusi. Misalkan kita ingin melakukan substitusi $x \\rightarrow 3y$, maka kita dapat menggunakan metode `subs` dari suatu objek simbolik (`Symbol`)."
   ]
  },
  {
   "cell_type": "code",
   "execution_count": 15,
   "metadata": {},
   "outputs": [
    {
     "data": {
      "image/png": "[encoded data removed]",
      "text/latex": [
       "$$- 15 y + \\frac{1}{5 y}$$"
      ],
      "text/plain": [
       "         1 \n",
       "-15⋅y + ───\n",
       "        5⋅y"
      ]
     },
     "execution_count": 15,
     "metadata": {},
     "output_type": "execute_result"
    }
   ],
   "source": [
    "expr.subs(x, 3*y)"
   ]
  },
  {
   "cell_type": "code",
   "execution_count": 17,
   "metadata": {},
   "outputs": [
    {
     "data": {
      "image/png": "[encoded data removed]",
      "text/latex": [
       "$$- \\frac{22}{5}$$"
      ],
      "text/plain": [
       "-22/5"
      ]
     },
     "execution_count": 17,
     "metadata": {},
     "output_type": "execute_result"
    }
   ],
   "source": [
    "expr.subs(x, 1)"
   ]
  },
  {
   "cell_type": "code",
   "execution_count": 25,
   "metadata": {},
   "outputs": [
    {
     "data": {
      "image/png": "[encoded data removed]",
      "text/latex": [
       "$$-2.43333333333333$$"
      ],
      "text/plain": [
       "-2.43333333333333"
      ]
     },
     "execution_count": 25,
     "metadata": {},
     "output_type": "execute_result"
    }
   ],
   "source": [
    "expr.subs(x, 2/3)"
   ]
  },
  {
   "cell_type": "code",
   "execution_count": 26,
   "metadata": {},
   "outputs": [
    {
     "data": {
      "image/png": "[encoded data removed]",
      "text/latex": [
       "$$- \\frac{73}{30}$$"
      ],
      "text/plain": [
       "-73 \n",
       "────\n",
       " 30 "
      ]
     },
     "execution_count": 26,
     "metadata": {},
     "output_type": "execute_result"
    }
   ],
   "source": [
    "expr.subs(x, Integer(2)/Integer(3))"
   ]
  },
  {
   "cell_type": "code",
   "execution_count": 30,
   "metadata": {},
   "outputs": [
    {
     "data": {
      "text/plain": [
       "(sympy.core.numbers.Rational, float)"
      ]
     },
     "execution_count": 30,
     "metadata": {},
     "output_type": "execute_result"
    }
   ],
   "source": [
    "type(Integer(2)/Integer(3)), type(2/3)"
   ]
  },
  {
   "cell_type": "code",
   "execution_count": 32,
   "metadata": {},
   "outputs": [
    {
     "data": {
      "image/png": "[encoded data removed]",
      "text/latex": [
       "$$\\frac{2}{3}$$"
      ],
      "text/plain": [
       "2/3"
      ]
     },
     "execution_count": 32,
     "metadata": {},
     "output_type": "execute_result"
    }
   ],
   "source": [
    "Rational(2,3)"
   ]
  },
  {
   "cell_type": "code",
   "execution_count": 33,
   "metadata": {},
   "outputs": [
    {
     "data": {
      "image/png": "[encoded data removed]",
      "text/latex": [
       "$$- \\frac{73}{30}$$"
      ],
      "text/plain": [
       "-73 \n",
       "────\n",
       " 30 "
      ]
     },
     "execution_count": 33,
     "metadata": {},
     "output_type": "execute_result"
    }
   ],
   "source": [
    "expr.subs(x, Rational(2,3))"
   ]
  },
  {
   "cell_type": "markdown",
   "metadata": {},
   "source": [
    "Untuk melakukan beberapa substitusi sekaligus, kita dapat memberikan list `(old, new)` ke metode `subs`. Sebagai contoh:"
   ]
  },
  {
   "cell_type": "code",
   "execution_count": 40,
   "metadata": {},
   "outputs": [
    {
     "data": {
      "image/png": "[encoded data removed]",
      "text/latex": [
       "$$\\left ( x^{3} + 6 x y - z, \\quad 8 x^{3} + 48 x\\right )$$"
      ],
      "text/plain": [
       "⎛ 3                 3       ⎞\n",
       "⎝x  + 6⋅x⋅y - z, 8⋅x  + 48⋅x⎠"
      ]
     },
     "execution_count": 40,
     "metadata": {},
     "output_type": "execute_result"
    }
   ],
   "source": [
    "expr = x**3 + 6*x*y - z\n",
    "expr, expr.subs( [(x, 2*x), (y, 4), (z, 0)] )"
   ]
  },
  {
   "cell_type": "markdown",
   "metadata": {},
   "source": [
    "### Mengubah string menjadi ekspresi SymPy"
   ]
  },
  {
   "cell_type": "markdown",
   "metadata": {},
   "source": [
    "Metode `sympify` dapat digunakan untuk mengubah suatu string menjadi ekspresi SymPy."
   ]
  },
  {
   "cell_type": "code",
   "execution_count": 42,
   "metadata": {},
   "outputs": [
    {
     "data": {
      "image/png": "[encoded data removed]",
      "text/latex": [
       "$$x^{2} + 2 y + \\frac{4}{5}$$"
      ],
      "text/plain": [
       " 2         4\n",
       "x  + 2⋅y + ─\n",
       "           5"
      ]
     },
     "execution_count": 42,
     "metadata": {},
     "output_type": "execute_result"
    }
   ],
   "source": [
    "str_expr = \"x**2 + 2*y + 4/5\"\n",
    "expr = sympify(str_expr)\n",
    "expr"
   ]
  },
  {
   "cell_type": "code",
   "execution_count": 43,
   "metadata": {},
   "outputs": [
    {
     "data": {
      "image/png": "[encoded data removed]",
      "text/latex": [
       "$$2 y + \\frac{116}{45}$$"
      ],
      "text/plain": [
       "      116\n",
       "2⋅y + ───\n",
       "       45"
      ]
     },
     "execution_count": 43,
     "metadata": {},
     "output_type": "execute_result"
    }
   ],
   "source": [
    "expr.subs(x, Rational(4,3))"
   ]
  },
  {
   "cell_type": "markdown",
   "metadata": {},
   "source": [
    "### Mengevaluasi ekspresi menjadi nilai numerik float"
   ]
  },
  {
   "cell_type": "markdown",
   "metadata": {},
   "source": [
    "Metode `evalf` dapat digunakan untuk mengevaluasi suatu ekspresi menjadi nilai numerik float."
   ]
  },
  {
   "cell_type": "code",
   "execution_count": 45,
   "metadata": {},
   "outputs": [
    {
     "data": {
      "image/png": "[encoded data removed]",
      "text/latex": [
       "$$\\left ( \\frac{\\sqrt{6}}{3}, \\quad 0.816496580927726\\right )$$"
      ],
      "text/plain": [
       "⎛√6                   ⎞\n",
       "⎜──, 0.816496580927726⎟\n",
       "⎝3                    ⎠"
      ]
     },
     "execution_count": 45,
     "metadata": {},
     "output_type": "execute_result"
    }
   ],
   "source": [
    "expr = sqrt(Rational(2,3))\n",
    "expr, expr.evalf()"
   ]
  },
  {
   "cell_type": "markdown",
   "metadata": {},
   "source": [
    "Karena kita menggunakan `from sympy import *` maka beberapa konstanta dan fungsi dari modul standard Python `math` akan digantikan dengan konstanta dan fungsi dari SymPy yang lebih cocok untuk perhitungan simbolik. Salah satu konstanta tersebut adalah `pi`. Perhatikan bahwa `pi` di sini adalah `pi` dari modul `sympy` bukan dari `math`."
   ]
  },
  {
   "cell_type": "code",
   "execution_count": 52,
   "metadata": {},
   "outputs": [
    {
     "data": {
      "image/png": "[encoded data removed]",
      "text/latex": [
       "$$\\left ( \\pi, \\quad 3.141592653589793\\right )$$"
      ],
      "text/plain": [
       "(π, 3.141592653589793)"
      ]
     },
     "execution_count": 52,
     "metadata": {},
     "output_type": "execute_result"
    }
   ],
   "source": [
    "import math\n",
    "pi, math.pi"
   ]
  },
  {
   "cell_type": "markdown",
   "metadata": {},
   "source": [
    "Evaluasi nilai numerik dari $\\pi$ dalam 40 digit:"
   ]
  },
  {
   "cell_type": "code",
   "execution_count": 49,
   "metadata": {},
   "outputs": [
    {
     "data": {
      "image/png": "[encoded data removed]",
      "text/latex": [
       "$$3.141592653589793238462643383279502884197$$"
      ],
      "text/plain": [
       "3.141592653589793238462643383279502884197"
      ]
     },
     "execution_count": 49,
     "metadata": {},
     "output_type": "execute_result"
    }
   ],
   "source": [
    "pi.evalf(40)"
   ]
  },
  {
   "cell_type": "markdown",
   "metadata": {},
   "source": [
    "Evaluasi nilai $\\pi$ dalam 1000 digit. Kita menggunakan fungsi `print` agar lebih mudah ditampilkan (tidak menggunakan LaTeX)."
   ]
  },
  {
   "cell_type": "code",
   "execution_count": 51,
   "metadata": {},
   "outputs": [
    {
     "name": "stdout",
     "output_type": "stream",
     "text": [
      "3.141592653589793238462643383279502884197169399375105820974944592307816406286208998628034825342117067982148086513282306647093844609550582231725359408128481117450284102701938521105559644622948954930381964428810975665933446128475648233786783165271201909145648566923460348610454326648213393607260249141273724587006606315588174881520920962829254091715364367892590360011330530548820466521384146951941511609433057270365759591953092186117381932611793105118548074462379962749567351885752724891227938183011949129833673362440656643086021394946395224737190702179860943702770539217176293176752384674818467669405132000568127145263560827785771342757789609173637178721468440901224953430146549585371050792279689258923542019956112129021960864034418159813629774771309960518707211349999998372978049951059731732816096318595024459455346908302642522308253344685035261931188171010003137838752886587533208381420617177669147303598253490428755468731159562863882353787593751957781857780532171226806613001927876611195909216420198\n"
     ]
    }
   ],
   "source": [
    "print(pi.evalf(1000))"
   ]
  },
  {
   "cell_type": "markdown",
   "metadata": {},
   "source": [
    "Contoh lain:"
   ]
  },
  {
   "cell_type": "code",
   "execution_count": 56,
   "metadata": {},
   "outputs": [
    {
     "data": {
      "image/png": "[encoded data removed]",
      "text/latex": [
       "$$\\frac{2 x}{y^{2}} - 1$$"
      ],
      "text/plain": [
       "2⋅x    \n",
       "─── - 1\n",
       "  2    \n",
       " y     "
      ]
     },
     "execution_count": 56,
     "metadata": {},
     "output_type": "execute_result"
    }
   ],
   "source": [
    "expr = 2*x/y**2 - 1\n",
    "expr"
   ]
  },
  {
   "cell_type": "code",
   "execution_count": 59,
   "metadata": {},
   "outputs": [
    {
     "data": {
      "image/png": "[encoded data removed]",
      "text/latex": [
       "$$\\left ( - \\frac{7}{9}, \\quad -0.777777777777778\\right )$$"
      ],
      "text/plain": [
       "(-7/9, -0.777777777777778)"
      ]
     },
     "execution_count": 59,
     "metadata": {},
     "output_type": "execute_result"
    }
   ],
   "source": [
    "expr1 = expr.subs([ (x,1), (y,3)])\n",
    "expr1, expr1.evalf()"
   ]
  },
  {
   "cell_type": "code",
   "execution_count": 60,
   "metadata": {},
   "outputs": [
    {
     "data": {
      "image/png": "[encoded data removed]",
      "text/latex": [
       "$$-0.777777777777778$$"
      ],
      "text/plain": [
       "-0.777777777777778"
      ]
     },
     "execution_count": 60,
     "metadata": {},
     "output_type": "execute_result"
    }
   ],
   "source": [
    "expr.evalf(subs={x: 1, y: 3})"
   ]
  },
  {
   "cell_type": "markdown",
   "metadata": {},
   "source": [
    "## Kalkulus"
   ]
  },
  {
   "cell_type": "markdown",
   "metadata": {},
   "source": [
    "Turunan dapat dihitung dengan menggunakan perintah `diff`:"
   ]
  },
  {
   "cell_type": "code",
   "execution_count": 9,
   "metadata": {},
   "outputs": [
    {
     "data": {
      "image/png": "[encoded data removed]",
      "text/latex": [
       "$$\\cos{\\left (x^{3} \\right )} \\cos{\\left (y^{4} \\right )} \\cos{\\left (z^{2} \\right )}$$"
      ],
      "text/plain": [
       "   ⎛ 3⎞    ⎛ 4⎞    ⎛ 2⎞\n",
       "cos⎝x ⎠⋅cos⎝y ⎠⋅cos⎝z ⎠"
      ]
     },
     "execution_count": 9,
     "metadata": {},
     "output_type": "execute_result"
    }
   ],
   "source": [
    "eksp = cos(x**3)*cos(y**4)*cos(z**2)\n",
    "eksp"
   ]
  },
  {
   "cell_type": "markdown",
   "metadata": {},
   "source": [
    "Turunan pertama terhadap `x`. Secara default `diff` akan menghitung turunan pertama."
   ]
  },
  {
   "cell_type": "code",
   "execution_count": 10,
   "metadata": {},
   "outputs": [
    {
     "data": {
      "image/png": "[encoded data removed]",
      "text/latex": [
       "$$- 3 x^{2} \\sin{\\left (x^{3} \\right )} \\cos{\\left (y^{4} \\right )} \\cos{\\left (z^{2} \\right )}$$"
      ],
      "text/plain": [
       "    2    ⎛ 3⎞    ⎛ 4⎞    ⎛ 2⎞\n",
       "-3⋅x ⋅sin⎝x ⎠⋅cos⎝y ⎠⋅cos⎝z ⎠"
      ]
     },
     "execution_count": 10,
     "metadata": {},
     "output_type": "execute_result"
    }
   ],
   "source": [
    "diff(eksp, x)"
   ]
  },
  {
   "cell_type": "markdown",
   "metadata": {},
   "source": [
    "Turunan kedua terhadap `y`"
   ]
  },
  {
   "cell_type": "code",
   "execution_count": 11,
   "metadata": {},
   "outputs": [
    {
     "data": {
      "image/png": "[encoded data removed]",
      "text/latex": [
       "$$- 4 y^{2} \\left(4 y^{4} \\cos{\\left (y^{4} \\right )} + 3 \\sin{\\left (y^{4} \\right )}\\right) \\cos{\\left (x^{3} \\right )} \\cos{\\left (z^{2} \\right )}$$"
      ],
      "text/plain": [
       "    2 ⎛   4    ⎛ 4⎞        ⎛ 4⎞⎞    ⎛ 3⎞    ⎛ 2⎞\n",
       "-4⋅y ⋅⎝4⋅y ⋅cos⎝y ⎠ + 3⋅sin⎝y ⎠⎠⋅cos⎝x ⎠⋅cos⎝z ⎠"
      ]
     },
     "execution_count": 11,
     "metadata": {},
     "output_type": "execute_result"
    }
   ],
   "source": [
    "diff(eksp, y, 2)"
   ]
  },
  {
   "cell_type": "markdown",
   "metadata": {},
   "source": [
    "Turunan keempat terhadap `z`"
   ]
  },
  {
   "cell_type": "code",
   "execution_count": 13,
   "metadata": {},
   "outputs": [
    {
     "data": {
      "image/png": "[encoded data removed]",
      "text/latex": [
       "$$4 \\left(4 z^{4} \\cos{\\left (z^{2} \\right )} + 12 z^{2} \\sin{\\left (z^{2} \\right )} - 3 \\cos{\\left (z^{2} \\right )}\\right) \\cos{\\left (x^{3} \\right )} \\cos{\\left (y^{4} \\right )}$$"
      ],
      "text/plain": [
       "  ⎛   4    ⎛ 2⎞       2    ⎛ 2⎞        ⎛ 2⎞⎞    ⎛ 3⎞    ⎛ 4⎞\n",
       "4⋅⎝4⋅z ⋅cos⎝z ⎠ + 12⋅z ⋅sin⎝z ⎠ - 3⋅cos⎝z ⎠⎠⋅cos⎝x ⎠⋅cos⎝y ⎠"
      ]
     },
     "execution_count": 13,
     "metadata": {},
     "output_type": "execute_result"
    }
   ],
   "source": [
    "diff(eksp, z, 4)"
   ]
  },
  {
   "cell_type": "markdown",
   "metadata": {},
   "source": [
    "Integral dapat dihitung dengan menggunakan fungsi `integrate`."
   ]
  },
  {
   "cell_type": "code",
   "execution_count": 17,
   "metadata": {},
   "outputs": [
    {
     "data": {
      "image/png": "[encoded data removed]",
      "text/latex": [
       "$$\\frac{2 x}{3 y} + z$$"
      ],
      "text/plain": [
       "2⋅x    \n",
       "─── + z\n",
       "3⋅y    "
      ]
     },
     "execution_count": 17,
     "metadata": {},
     "output_type": "execute_result"
    }
   ],
   "source": [
    "eksp = 2*x/(3*y) + z\n",
    "eksp"
   ]
  },
  {
   "cell_type": "code",
   "execution_count": 18,
   "metadata": {},
   "outputs": [
    {
     "data": {
      "image/png": "[encoded data removed]",
      "text/latex": [
       "$$\\frac{x^{2}}{3 y} + x z$$"
      ],
      "text/plain": [
       "  2      \n",
       " x       \n",
       "─── + x⋅z\n",
       "3⋅y      "
      ]
     },
     "execution_count": 18,
     "metadata": {},
     "output_type": "execute_result"
    }
   ],
   "source": [
    "integrate(eksp, x)"
   ]
  },
  {
   "cell_type": "code",
   "execution_count": 19,
   "metadata": {},
   "outputs": [
    {
     "data": {
      "image/png": "[encoded data removed]",
      "text/latex": [
       "$$\\frac{2 x}{3} \\log{\\left (y \\right )} + y z$$"
      ],
      "text/plain": [
       "2⋅x⋅log(y)      \n",
       "────────── + y⋅z\n",
       "    3           "
      ]
     },
     "execution_count": 19,
     "metadata": {},
     "output_type": "execute_result"
    }
   ],
   "source": [
    "integrate(eksp, y)"
   ]
  },
  {
   "cell_type": "markdown",
   "metadata": {},
   "source": [
    "Ingat: Secara default fungsi `log` dihitung terhadap bilangan Euler $e$ (logaritma natural)"
   ]
  },
  {
   "cell_type": "code",
   "execution_count": 22,
   "metadata": {},
   "outputs": [
    {
     "data": {
      "image/png": "[encoded data removed]",
      "text/latex": [
       "$$\\left ( e, \\quad 1\\right )$$"
      ],
      "text/plain": [
       "(ℯ, 1)"
      ]
     },
     "execution_count": 22,
     "metadata": {},
     "output_type": "execute_result"
    }
   ],
   "source": [
    "exp(1), log(exp(1))"
   ]
  },
  {
   "cell_type": "code",
   "execution_count": 23,
   "metadata": {},
   "outputs": [
    {
     "data": {
      "image/png": "[encoded data removed]",
      "text/latex": [
       "$$\\frac{2 x z}{3 y} + \\frac{z^{2}}{2}$$"
      ],
      "text/plain": [
       "         2\n",
       "2⋅x⋅z   z \n",
       "───── + ──\n",
       " 3⋅y    2 "
      ]
     },
     "execution_count": 23,
     "metadata": {},
     "output_type": "execute_result"
    }
   ],
   "source": [
    "integrate(eksp, z)"
   ]
  },
  {
   "cell_type": "markdown",
   "metadata": {},
   "source": [
    "Contoh integral definit (dengan batas atas dan bawah)."
   ]
  },
  {
   "cell_type": "code",
   "execution_count": 24,
   "metadata": {},
   "outputs": [
    {
     "data": {
      "image/png": "[encoded data removed]",
      "text/latex": [
       "$$\\frac{2 x}{3 y} + \\frac{1}{2}$$"
      ],
      "text/plain": [
       "2⋅x   1\n",
       "─── + ─\n",
       "3⋅y   2"
      ]
     },
     "execution_count": 24,
     "metadata": {},
     "output_type": "execute_result"
    }
   ],
   "source": [
    "integrate(eksp, (z,0,1))"
   ]
  },
  {
   "cell_type": "markdown",
   "metadata": {},
   "source": [
    "Fungsi `Integral` dapat digunakan untuk membuat sebuah objek integral yang belum dievaluasi (berguna untuk menampilkan integral)."
   ]
  },
  {
   "cell_type": "code",
   "execution_count": 27,
   "metadata": {},
   "outputs": [
    {
     "data": {
      "image/png": "[encoded data removed]",
      "text/latex": [
       "$$\\int_{0}^{1} \\left(\\frac{2 x}{3 y} + z\\right)\\, dz$$"
      ],
      "text/plain": [
       "1             \n",
       "⌠             \n",
       "⎮ ⎛2⋅x    ⎞   \n",
       "⎮ ⎜─── + z⎟ dz\n",
       "⎮ ⎝3⋅y    ⎠   \n",
       "⌡             \n",
       "0             "
      ]
     },
     "execution_count": 27,
     "metadata": {},
     "output_type": "execute_result"
    }
   ],
   "source": [
    "myinteg = Integral(eksp, (z,0,1))\n",
    "myinteg"
   ]
  },
  {
   "cell_type": "markdown",
   "metadata": {},
   "source": [
    "Untuk mengevaluasi integral tersebut, kita dapat menggunakan metode `doit()`."
   ]
  },
  {
   "cell_type": "code",
   "execution_count": 28,
   "metadata": {},
   "outputs": [
    {
     "data": {
      "image/png": "[encoded data removed]",
      "text/latex": [
       "$$\\frac{2 x}{3 y} + \\frac{1}{2}$$"
      ],
      "text/plain": [
       "2⋅x   1\n",
       "─── + ─\n",
       "3⋅y   2"
      ]
     },
     "execution_count": 28,
     "metadata": {},
     "output_type": "execute_result"
    }
   ],
   "source": [
    "myinteg.doit()"
   ]
  },
  {
   "cell_type": "markdown",
   "metadata": {},
   "source": [
    "Contoh lain, fungsi Gaussian:"
   ]
  },
  {
   "cell_type": "code",
   "execution_count": 32,
   "metadata": {},
   "outputs": [
    {
     "data": {
      "image/png": "[encoded data removed]",
      "text/latex": [
       "$$e^{- x^{2}}$$"
      ],
      "text/plain": [
       "   2\n",
       " -x \n",
       "ℯ   "
      ]
     },
     "execution_count": 32,
     "metadata": {},
     "output_type": "execute_result"
    }
   ],
   "source": [
    "eksp = exp(-x**2)\n",
    "eksp"
   ]
  },
  {
   "cell_type": "markdown",
   "metadata": {},
   "source": [
    "Tanda `oo` dapat digunakan untuk merepresentasikan tak hingga ($\\infty$)"
   ]
  },
  {
   "cell_type": "code",
   "execution_count": 33,
   "metadata": {},
   "outputs": [
    {
     "data": {
      "image/png": "[encoded data removed]",
      "text/latex": [
       "$$\\int_{-\\infty}^{\\infty} e^{- x^{2}}\\, dx$$"
      ],
      "text/plain": [
       "∞         \n",
       "⌠         \n",
       "⎮     2   \n",
       "⎮   -x    \n",
       "⎮  ℯ    dx\n",
       "⌡         \n",
       "-∞        "
      ]
     },
     "execution_count": 33,
     "metadata": {},
     "output_type": "execute_result"
    }
   ],
   "source": [
    "myinteg = Integral(eksp, (x,-oo,oo))\n",
    "myinteg"
   ]
  },
  {
   "cell_type": "code",
   "execution_count": 34,
   "metadata": {},
   "outputs": [
    {
     "data": {
      "image/png": "[encoded data removed]",
      "text/latex": [
       "$$\\sqrt{\\pi}$$"
      ],
      "text/plain": [
       "√π"
      ]
     },
     "execution_count": 34,
     "metadata": {},
     "output_type": "execute_result"
    }
   ],
   "source": [
    "myinteg.doit()"
   ]
  },
  {
   "cell_type": "markdown",
   "metadata": {},
   "source": [
    "Fungsi Gaussian dikalikan dengan $x^2$"
   ]
  },
  {
   "cell_type": "code",
   "execution_count": 37,
   "metadata": {},
   "outputs": [
    {
     "data": {
      "image/png": "[encoded data removed]",
      "text/latex": [
       "$$x^{2} e^{- x^{2}}$$"
      ],
      "text/plain": [
       "      2\n",
       " 2  -x \n",
       "x ⋅ℯ   "
      ]
     },
     "execution_count": 37,
     "metadata": {},
     "output_type": "execute_result"
    }
   ],
   "source": [
    "eksp = x**2*exp(-x**2)\n",
    "eksp"
   ]
  },
  {
   "cell_type": "code",
   "execution_count": 38,
   "metadata": {},
   "outputs": [
    {
     "data": {
      "image/png": "[encoded data removed]",
      "text/latex": [
       "$$\\int_{-\\infty}^{\\infty} x^{2} e^{- x^{2}}\\, dx$$"
      ],
      "text/plain": [
       "∞            \n",
       "⌠            \n",
       "⎮        2   \n",
       "⎮   2  -x    \n",
       "⎮  x ⋅ℯ    dx\n",
       "⌡            \n",
       "-∞           "
      ]
     },
     "execution_count": 38,
     "metadata": {},
     "output_type": "execute_result"
    }
   ],
   "source": [
    "myinteg = Integral(eksp, (x,-oo,oo))\n",
    "myinteg"
   ]
  },
  {
   "cell_type": "code",
   "execution_count": 39,
   "metadata": {},
   "outputs": [
    {
     "data": {
      "image/png": "[encoded data removed]",
      "text/latex": [
       "$$\\frac{\\sqrt{\\pi}}{2}$$"
      ],
      "text/plain": [
       "√π\n",
       "──\n",
       "2 "
      ]
     },
     "execution_count": 39,
     "metadata": {},
     "output_type": "execute_result"
    }
   ],
   "source": [
    "myinteg.doit()"
   ]
  },
  {
   "cell_type": "markdown",
   "metadata": {},
   "source": [
    "Perhitungan integral secara simbolik sangat sulit. Tidak semua integral dapat diselesaikan secara analitik oleh SymPy."
   ]
  },
  {
   "cell_type": "markdown",
   "metadata": {},
   "source": [
    "## Matriks"
   ]
  },
  {
   "cell_type": "code",
   "execution_count": 62,
   "metadata": {},
   "outputs": [
    {
     "data": {
      "image/png": "[encoded data removed]",
      "text/latex": [
       "$$\\left[\\begin{matrix}1 & 2 & 3\\\\4 & 5 & 6\\\\7 & 8 & 9\\end{matrix}\\right]$$"
      ],
      "text/plain": [
       "⎡1  2  3⎤\n",
       "⎢       ⎥\n",
       "⎢4  5  6⎥\n",
       "⎢       ⎥\n",
       "⎣7  8  9⎦"
      ]
     },
     "execution_count": 62,
     "metadata": {},
     "output_type": "execute_result"
    }
   ],
   "source": [
    "mat = Matrix([[1,2,3], [4,5,6], [7,8,9]] )\n",
    "mat"
   ]
  },
  {
   "cell_type": "code",
   "execution_count": 63,
   "metadata": {},
   "outputs": [
    {
     "data": {
      "image/png": "[encoded data removed]",
      "text/latex": [
       "$$\\left[\\begin{matrix}1 & 2 & 3\\end{matrix}\\right]$$"
      ],
      "text/plain": [
       "[1  2  3]"
      ]
     },
     "execution_count": 63,
     "metadata": {},
     "output_type": "execute_result"
    }
   ],
   "source": [
    "mat.row(0)"
   ]
  },
  {
   "cell_type": "code",
   "execution_count": 67,
   "metadata": {},
   "outputs": [
    {
     "data": {
      "image/png": "[encoded data removed]",
      "text/latex": [
       "$$\\left[\\begin{matrix}2\\\\5\\\\8\\end{matrix}\\right]$$"
      ],
      "text/plain": [
       "⎡2⎤\n",
       "⎢ ⎥\n",
       "⎢5⎥\n",
       "⎢ ⎥\n",
       "⎣8⎦"
      ]
     },
     "execution_count": 67,
     "metadata": {},
     "output_type": "execute_result"
    }
   ],
   "source": [
    "mat.col(1)"
   ]
  },
  {
   "cell_type": "code",
   "execution_count": 71,
   "metadata": {},
   "outputs": [
    {
     "data": {
      "image/png": "[encoded data removed]",
      "text/latex": [
       "$$\\left[\\begin{matrix}0\\\\-3\\\\-6\\end{matrix}\\right]$$"
      ],
      "text/plain": [
       "⎡0 ⎤\n",
       "⎢  ⎥\n",
       "⎢-3⎥\n",
       "⎢  ⎥\n",
       "⎣-6⎦"
      ]
     },
     "execution_count": 71,
     "metadata": {},
     "output_type": "execute_result"
    }
   ],
   "source": [
    "3*ones(3,1) - mat.col(2)"
   ]
  },
  {
   "cell_type": "code",
   "execution_count": 72,
   "metadata": {},
   "outputs": [
    {
     "data": {
      "image/png": "[encoded data removed]",
      "text/latex": [
       "$$\\left[\\begin{matrix}1 & 2 & 3\\\\4 & 5 & 6\\\\7 & 8 & 9\\end{matrix}\\right]$$"
      ],
      "text/plain": [
       "⎡1  2  3⎤\n",
       "⎢       ⎥\n",
       "⎢4  5  6⎥\n",
       "⎢       ⎥\n",
       "⎣7  8  9⎦"
      ]
     },
     "execution_count": 72,
     "metadata": {},
     "output_type": "execute_result"
    }
   ],
   "source": [
    "mat"
   ]
  },
  {
   "cell_type": "code",
   "execution_count": 77,
   "metadata": {},
   "outputs": [
    {
     "data": {
      "image/png": "[encoded data removed]",
      "text/latex": [
       "$$\\left[\\begin{matrix}4 & 8 & 12\\\\16 & 20 & 24\\\\28 & 32 & 36\\end{matrix}\\right]$$"
      ],
      "text/plain": [
       "⎡4   8   12⎤\n",
       "⎢          ⎥\n",
       "⎢16  20  24⎥\n",
       "⎢          ⎥\n",
       "⎣28  32  36⎦"
      ]
     },
     "execution_count": 77,
     "metadata": {},
     "output_type": "execute_result"
    }
   ],
   "source": [
    "mat = mat*2\n",
    "mat"
   ]
  },
  {
   "cell_type": "code",
   "execution_count": 78,
   "metadata": {},
   "outputs": [],
   "source": [
    "mat1 = mat"
   ]
  },
  {
   "cell_type": "code",
   "execution_count": 79,
   "metadata": {},
   "outputs": [
    {
     "data": {
      "image/png": "[encoded data removed]",
      "text/latex": [
       "$$\\left[\\begin{matrix}4 & 8 & 12\\\\16 & 20 & 24\\\\28 & 32 & 36\\end{matrix}\\right]$$"
      ],
      "text/plain": [
       "⎡4   8   12⎤\n",
       "⎢          ⎥\n",
       "⎢16  20  24⎥\n",
       "⎢          ⎥\n",
       "⎣28  32  36⎦"
      ]
     },
     "execution_count": 79,
     "metadata": {},
     "output_type": "execute_result"
    }
   ],
   "source": [
    "mat1"
   ]
  },
  {
   "cell_type": "code",
   "execution_count": 80,
   "metadata": {},
   "outputs": [
    {
     "data": {
      "image/png": "[encoded data removed]",
      "text/latex": [
       "$$\\left ( \\left[\\begin{matrix}12 & 24 & 36\\\\48 & 60 & 72\\\\84 & 96 & 108\\end{matrix}\\right], \\quad \\left[\\begin{matrix}4 & 8 & 12\\\\16 & 20 & 24\\\\28 & 32 & 36\\end{matrix}\\right]\\right )$$"
      ],
      "text/plain": [
       "⎛⎡12  24  36 ⎤  ⎡4   8   12⎤⎞\n",
       "⎜⎢           ⎥  ⎢          ⎥⎟\n",
       "⎜⎢48  60  72 ⎥, ⎢16  20  24⎥⎟\n",
       "⎜⎢           ⎥  ⎢          ⎥⎟\n",
       "⎝⎣84  96  108⎦  ⎣28  32  36⎦⎠"
      ]
     },
     "execution_count": 80,
     "metadata": {},
     "output_type": "execute_result"
    }
   ],
   "source": [
    "mat1 = mat1*3\n",
    "mat1, mat"
   ]
  },
  {
   "cell_type": "code",
   "execution_count": 82,
   "metadata": {},
   "outputs": [],
   "source": [
    "mat1[0] = 2"
   ]
  },
  {
   "cell_type": "code",
   "execution_count": 88,
   "metadata": {},
   "outputs": [],
   "source": [
    "mat1[0:2,2:3] = Matrix([[0],[0]])"
   ]
  },
  {
   "cell_type": "code",
   "execution_count": 89,
   "metadata": {},
   "outputs": [
    {
     "data": {
      "image/png": "[encoded data removed]",
      "text/latex": [
       "$$\\left[\\begin{matrix}2 & 24 & 0\\\\48 & 60 & 0\\\\84 & 96 & 108\\end{matrix}\\right]$$"
      ],
      "text/plain": [
       "⎡2   24   0 ⎤\n",
       "⎢           ⎥\n",
       "⎢48  60   0 ⎥\n",
       "⎢           ⎥\n",
       "⎣84  96  108⎦"
      ]
     },
     "execution_count": 89,
     "metadata": {},
     "output_type": "execute_result"
    }
   ],
   "source": [
    "mat1"
   ]
  },
  {
   "cell_type": "code",
   "execution_count": 91,
   "metadata": {},
   "outputs": [
    {
     "data": {
      "image/png": "[encoded data removed]",
      "text/latex": [
       "$$\\left[\\begin{matrix}2 & 24 & 100\\\\48 & 60 & 33\\\\84 & 96 & 44\\end{matrix}\\right]$$"
      ],
      "text/plain": [
       "⎡2   24  100⎤\n",
       "⎢           ⎥\n",
       "⎢48  60  33 ⎥\n",
       "⎢           ⎥\n",
       "⎣84  96  44 ⎦"
      ]
     },
     "execution_count": 91,
     "metadata": {},
     "output_type": "execute_result"
    }
   ],
   "source": [
    "mat1[:,2] = Matrix([ [100], [33], [44]])\n",
    "mat1"
   ]
  },
  {
   "cell_type": "code",
   "execution_count": 94,
   "metadata": {},
   "outputs": [
    {
     "data": {
      "image/png": "[encoded data removed]",
      "text/latex": [
       "$$\\left[\\begin{matrix}1 & 12 & 50\\\\48 & 60 & 33\\\\84 & 96 & 44\\end{matrix}\\right]$$"
      ],
      "text/plain": [
       "⎡1   12  50⎤\n",
       "⎢          ⎥\n",
       "⎢48  60  33⎥\n",
       "⎢          ⎥\n",
       "⎣84  96  44⎦"
      ]
     },
     "execution_count": 94,
     "metadata": {},
     "output_type": "execute_result"
    }
   ],
   "source": [
    "mat1[0,:] = mat1[0,:]/2\n",
    "mat1"
   ]
  },
  {
   "cell_type": "code",
   "execution_count": 95,
   "metadata": {},
   "outputs": [
    {
     "data": {
      "image/png": "[encoded data removed]",
      "text/latex": [
       "$$\\left[\\begin{matrix}1 & 12 & 50\\\\0 & -516 & -2367\\\\84 & 96 & 44\\end{matrix}\\right]$$"
      ],
      "text/plain": [
       "⎡1    12    50  ⎤\n",
       "⎢               ⎥\n",
       "⎢0   -516  -2367⎥\n",
       "⎢               ⎥\n",
       "⎣84   96    44  ⎦"
      ]
     },
     "execution_count": 95,
     "metadata": {},
     "output_type": "execute_result"
    }
   ],
   "source": [
    "mat1[1,:] = mat1[1,:] - 48*mat1[0,:]\n",
    "mat1"
   ]
  },
  {
   "cell_type": "code",
   "execution_count": 96,
   "metadata": {},
   "outputs": [
    {
     "data": {
      "image/png": "[encoded data removed]",
      "text/latex": [
       "$$\\left[\\begin{matrix}1 & 12 & 50\\\\0 & 1 & \\frac{789}{172}\\\\84 & 96 & 44\\end{matrix}\\right]$$"
      ],
      "text/plain": [
       "⎡1   12  50 ⎤\n",
       "⎢           ⎥\n",
       "⎢        789⎥\n",
       "⎢0   1   ───⎥\n",
       "⎢        172⎥\n",
       "⎢           ⎥\n",
       "⎣84  96  44 ⎦"
      ]
     },
     "execution_count": 96,
     "metadata": {},
     "output_type": "execute_result"
    }
   ],
   "source": [
    "mat1[1,:] = mat1[1,:]/(-516)\n",
    "mat1"
   ]
  },
  {
   "cell_type": "code",
   "execution_count": 97,
   "metadata": {},
   "outputs": [
    {
     "data": {
      "image/png": "[encoded data removed]",
      "text/latex": [
       "$$\\left[\\begin{matrix}1 & 12 & 50\\\\0 & 1 & \\frac{789}{172}\\\\0 & -912 & -4156\\end{matrix}\\right]$$"
      ],
      "text/plain": [
       "⎡1   12    50  ⎤\n",
       "⎢              ⎥\n",
       "⎢          789 ⎥\n",
       "⎢0   1     ─── ⎥\n",
       "⎢          172 ⎥\n",
       "⎢              ⎥\n",
       "⎣0  -912  -4156⎦"
      ]
     },
     "execution_count": 97,
     "metadata": {},
     "output_type": "execute_result"
    }
   ],
   "source": [
    "mat1[2,:] = mat1[2,:] - 84*mat1[0,:]\n",
    "mat1"
   ]
  },
  {
   "cell_type": "code",
   "execution_count": 98,
   "metadata": {},
   "outputs": [
    {
     "data": {
      "image/png": "[encoded data removed]",
      "text/latex": [
       "$$\\left[\\begin{matrix}1 & 12 & 50\\\\0 & 1 & \\frac{789}{172}\\\\0 & 0 & \\frac{1184}{43}\\end{matrix}\\right]$$"
      ],
      "text/plain": [
       "⎡1  12   50 ⎤\n",
       "⎢           ⎥\n",
       "⎢       789 ⎥\n",
       "⎢0  1   ─── ⎥\n",
       "⎢       172 ⎥\n",
       "⎢           ⎥\n",
       "⎢       1184⎥\n",
       "⎢0  0   ────⎥\n",
       "⎣        43 ⎦"
      ]
     },
     "execution_count": 98,
     "metadata": {},
     "output_type": "execute_result"
    }
   ],
   "source": [
    "mat1[2,:] = mat1[2,:] - mat1[1,:]*-912\n",
    "mat1"
   ]
  },
  {
   "cell_type": "code",
   "execution_count": null,
   "metadata": {},
   "outputs": [],
   "source": []
  }
 ],
 "metadata": {
  "kernelspec": {
   "display_name": "Python 3",
   "language": "python",
   "name": "python3"
  },
  "language_info": {
   "codemirror_mode": {
    "name": "ipython",
    "version": 3
   },
   "file_extension": ".py",
   "mimetype": "text/x-python",
   "name": "python",
   "nbconvert_exporter": "python",
   "pygments_lexer": "ipython3",
   "version": "3.6.8"
  }
 },
 "nbformat": 4,
 "nbformat_minor": 2
}
