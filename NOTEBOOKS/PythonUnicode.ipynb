{
 "cells": [
  {
   "cell_type": "markdown",
   "metadata": {},
   "source": [
    "## Sedikit catatan mengenai Unicode"
   ]
  },
  {
   "cell_type": "markdown",
   "metadata": {},
   "source": [
    "Python3 secara default sudah menggunakan standard Unicode UTF-8. Hal ini berarti kita dapat menggunakan karakter Unicode sebagai bagian dari string maupun variabel."
   ]
  },
  {
   "cell_type": "code",
   "execution_count": 1,
   "metadata": {},
   "outputs": [
    {
     "name": "stdout",
     "output_type": "stream",
     "text": [
      "α, β, Δ =      -2.0000000000       2.0000000000       0.0100000000\n"
     ]
    }
   ],
   "source": [
    "α = -2.0\n",
    "β = 2.0\n",
    "Δ = 0.01\n",
    "print(\"α, β, Δ = %18.10f %18.10f %18.10f\" % (α, β, Δ))"
   ]
  },
  {
   "cell_type": "markdown",
   "metadata": {},
   "source": [
    "Anda dapat mengetikkan karakter α dengan pada cell kode dengan mengetikkan \\alpha diikuti dengan Tab."
   ]
  },
  {
   "cell_type": "code",
   "execution_count": 25,
   "metadata": {},
   "outputs": [
    {
     "data": {
      "text/plain": [
       "'Δ'"
      ]
     },
     "execution_count": 25,
     "metadata": {},
     "output_type": "execute_result"
    }
   ],
   "source": [
    "\"\\N{GREEK CAPITAL LETTER DELTA}\""
   ]
  },
  {
   "cell_type": "code",
   "execution_count": 49,
   "metadata": {},
   "outputs": [
    {
     "name": "stdout",
     "output_type": "stream",
     "text": [
      "愛ai\n"
     ]
    }
   ],
   "source": [
    "love = \"愛\"\n",
    "print(love + \"ai\")"
   ]
  },
  {
   "cell_type": "code",
   "execution_count": 42,
   "metadata": {},
   "outputs": [
    {
     "data": {
      "text/plain": [
       "'Γ'"
      ]
     },
     "execution_count": 42,
     "metadata": {},
     "output_type": "execute_result"
    }
   ],
   "source": [
    "\"\\N{GREEK CAPITAL LETTER GAMMA}\""
   ]
  },
  {
   "cell_type": "code",
   "execution_count": 51,
   "metadata": {},
   "outputs": [
    {
     "name": "stdout",
     "output_type": "stream",
     "text": [
      "愛してる\n"
     ]
    }
   ],
   "source": [
    "print(love + \"してる\")"
   ]
  },
  {
   "cell_type": "code",
   "execution_count": 52,
   "metadata": {},
   "outputs": [],
   "source": [
    "hearts = \"\"\"❦❧☙❥❣♡♥❤➳ღ💌🏩💓💔💕💖💗💘💙💚💛💜🖤💝💞💟💑\"\"\""
   ]
  },
  {
   "cell_type": "code",
   "execution_count": 53,
   "metadata": {},
   "outputs": [
    {
     "name": "stdout",
     "output_type": "stream",
     "text": [
      "❦❧☙❥❣♡♥❤➳ღ💌🏩💓💔💕💖💗💘💙💚💛💜🖤💝💞💟💑\n"
     ]
    }
   ],
   "source": [
    "print(hearts)"
   ]
  },
  {
   "cell_type": "code",
   "execution_count": null,
   "metadata": {},
   "outputs": [],
   "source": []
  }
 ],
 "metadata": {
  "kernelspec": {
   "display_name": "Python 3",
   "language": "python",
   "name": "python3"
  },
  "language_info": {
   "codemirror_mode": {
    "name": "ipython",
    "version": 3
   },
   "file_extension": ".py",
   "mimetype": "text/x-python",
   "name": "python",
   "nbconvert_exporter": "python",
   "pygments_lexer": "ipython3",
   "version": "3.6.8"
  }
 },
 "nbformat": 4,
 "nbformat_minor": 2
}
