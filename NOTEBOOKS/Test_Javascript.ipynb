{
 "cells": [
  {
   "cell_type": "markdown",
   "metadata": {},
   "source": [
    "```\n",
    "%%javascript\n",
    "requirejs.config({\n",
    "    paths: { \n",
    "        'd3': ['//cdnjs.cloudflare.com/ajax/libs/d3/3.5.6/d3'], \n",
    "    },                                         // strip .js ^, require adds it back\n",
    "});\n",
    "```\n",
    "\n",
    "Any cell that needs d3js, wrap the call (e.g. your console.log(d3);) in the following:\n",
    "```\n",
    "require(['d3'], function(d3) {\n",
    "    console.log(d3);  // or whatever\n",
    "    return {};\n",
    "});\n",
    "```\n",
    "\n",
    "A hackier solution might be to just add a time.sleep(1) between those two cells.\n",
    "\n",
    "    As an aside, you don't need to from IPython.display import HTML to use the %%html cell magic.\n"
   ]
  },
  {
   "cell_type": "code",
   "execution_count": 10,
   "metadata": {},
   "outputs": [
    {
     "data": {
      "application/javascript": [
       "\n",
       "requirejs.config({\n",
       "    paths: { \n",
       "        'threejs': ['https://cdnjs.cloudflare.com/ajax/libs/three.js/84/three.min.js'], \n",
       "    },                                         // strip .js ^, require adds it back\n",
       "});\n",
       "\n",
       "require([\"threejs\"], function do_three(threejs)\n",
       "        {\n",
       "// Set the scene size.\n",
       "const WIDTH = 400;\n",
       "const HEIGHT = 300;\n",
       "\n",
       "// Set some camera attributes.\n",
       "const VIEW_ANGLE = 45;\n",
       "const ASPECT = WIDTH / HEIGHT;\n",
       "const NEAR = 0.1;\n",
       "const FAR = 10000;\n",
       "\n",
       "// Get the DOM element to attach to\n",
       "const container =\n",
       "    document.querySelector('#container');\n",
       "\n",
       "// Create a WebGL renderer, camera\n",
       "// and a scene\n",
       "const renderer = new THREE.WebGLRenderer();\n",
       "const camera =\n",
       "    new THREE.PerspectiveCamera(\n",
       "        VIEW_ANGLE,\n",
       "        ASPECT,\n",
       "        NEAR,\n",
       "        FAR\n",
       "    );\n",
       "\n",
       "const scene = new THREE.Scene();\n",
       "\n",
       "// Add the camera to the scene.\n",
       "scene.add(camera);\n",
       "\n",
       "// Start the renderer.\n",
       "renderer.setSize(WIDTH, HEIGHT);\n",
       "\n",
       "// Attach the renderer-supplied\n",
       "// DOM element.\n",
       "container.appendChild(renderer.domElement);\n",
       "    \n",
       "})\n"
      ],
      "text/plain": [
       "<IPython.core.display.Javascript object>"
      ]
     },
     "metadata": {},
     "output_type": "display_data"
    }
   ],
   "source": [
    "%%javascript\n",
    "\n",
    "requirejs.config({\n",
    "    paths: { \n",
    "        'threejs': ['https://cdnjs.cloudflare.com/ajax/libs/three.js/84/three.min.js'], \n",
    "    },                                         // strip .js ^, require adds it back\n",
    "});\n",
    "\n",
    "require([\"threejs\"], function do_three(threejs)\n",
    "        {\n",
    "// Set the scene size.\n",
    "const WIDTH = 400;\n",
    "const HEIGHT = 300;\n",
    "\n",
    "// Set some camera attributes.\n",
    "const VIEW_ANGLE = 45;\n",
    "const ASPECT = WIDTH / HEIGHT;\n",
    "const NEAR = 0.1;\n",
    "const FAR = 10000;\n",
    "\n",
    "// Get the DOM element to attach to\n",
    "const container =\n",
    "    document.querySelector('#container');\n",
    "\n",
    "// Create a WebGL renderer, camera\n",
    "// and a scene\n",
    "const renderer = new THREE.WebGLRenderer();\n",
    "const camera =\n",
    "    new THREE.PerspectiveCamera(\n",
    "        VIEW_ANGLE,\n",
    "        ASPECT,\n",
    "        NEAR,\n",
    "        FAR\n",
    "    );\n",
    "\n",
    "const scene = new THREE.Scene();\n",
    "\n",
    "// Add the camera to the scene.\n",
    "scene.add(camera);\n",
    "\n",
    "// Start the renderer.\n",
    "renderer.setSize(WIDTH, HEIGHT);\n",
    "\n",
    "// Attach the renderer-supplied\n",
    "// DOM element.\n",
    "container.appendChild(renderer.domElement);\n",
    "    \n",
    "})"
   ]
  },
  {
   "cell_type": "code",
   "execution_count": 8,
   "metadata": {},
   "outputs": [
    {
     "data": {
      "application/javascript": [
       "\n",
       "alert(\"Hi\")\n"
      ],
      "text/plain": [
       "<IPython.core.display.Javascript object>"
      ]
     },
     "metadata": {},
     "output_type": "display_data"
    }
   ],
   "source": [
    "%%javascript\n",
    "\n",
    "alert(\"Hi\")"
   ]
  },
  {
   "cell_type": "code",
   "execution_count": 9,
   "metadata": {},
   "outputs": [
    {
     "data": {
      "text/html": [
       "<div id='textid'>100</div>"
      ],
      "text/plain": [
       "<IPython.core.display.HTML object>"
      ]
     },
     "execution_count": 9,
     "metadata": {},
     "output_type": "execute_result"
    }
   ],
   "source": [
    "from IPython.display import HTML\n",
    "\n",
    "pystartlife = str(100)\n",
    "HTML(\"<div id='textid'>\" + pystartlife + \"</div>\")"
   ]
  },
  {
   "cell_type": "code",
   "execution_count": 25,
   "metadata": {},
   "outputs": [
    {
     "data": {
      "application/javascript": [
       "\n",
       "var a = 5;\n",
       "console.log(\"Hello a = \", a);\n"
      ],
      "text/plain": [
       "<IPython.core.display.Javascript object>"
      ]
     },
     "metadata": {},
     "output_type": "display_data"
    }
   ],
   "source": [
    "%%javascript\n",
    "\n",
    "var a = 5;\n",
    "console.log(\"Hello a = \", a + 1.1);"
   ]
  },
  {
   "cell_type": "code",
   "execution_count": null,
   "metadata": {},
   "outputs": [],
   "source": []
  },
  {
   "cell_type": "code",
   "execution_count": null,
   "metadata": {},
   "outputs": [],
   "source": []
  }
 ],
 "metadata": {
  "kernelspec": {
   "display_name": "Python 3",
   "language": "python",
   "name": "python3"
  },
  "language_info": {
   "codemirror_mode": {
    "name": "ipython",
    "version": 3
   },
   "file_extension": ".py",
   "mimetype": "text/x-python",
   "name": "python",
   "nbconvert_exporter": "python",
   "pygments_lexer": "ipython3",
   "version": "3.7.1"
  }
 },
 "nbformat": 4,
 "nbformat_minor": 2
}
