{
 "cells": [
  {
   "cell_type": "code",
   "execution_count": 6,
   "metadata": {},
   "outputs": [
    {
     "data": {
      "image/svg+xml": [
       "<svg height=\"110\" width=\"400\">\n",
       "  <rect height=\"100\" style=\"fill:rgb(50,100,200);stroke-width:3;stroke:rgb(0,0,0)\" width=\"300\"/>\n",
       "  Sorry, your browser does not support inline SVG.  \n",
       "</svg>"
      ],
      "text/plain": [
       "<IPython.core.display.SVG object>"
      ]
     },
     "metadata": {},
     "output_type": "display_data"
    }
   ],
   "source": [
    "%%svg\n",
    "<svg width=\"400\" height=\"110\">\n",
    "  <rect width=\"300\" height=\"100\" style=\"fill:rgb(50,100,200);stroke-width:3;stroke:rgb(0,0,0)\" />\n",
    "  Sorry, your browser does not support inline SVG.  \n",
    "</svg>"
   ]
  },
  {
   "cell_type": "code",
   "execution_count": 9,
   "metadata": {},
   "outputs": [
    {
     "data": {
      "image/svg+xml": [
       "<svg>\n",
       "    <ellipse cx=\"200\" cy=\"100\" rx=\"100\" ry=\"48\" style=\"fill:#00ff00;stroke:#000000;\"/>\n",
       "</svg>"
      ],
      "text/plain": [
       "<IPython.core.display.SVG object>"
      ]
     },
     "metadata": {},
     "output_type": "display_data"
    }
   ],
   "source": [
    "%%svg\n",
    "<svg>\n",
    "    <ellipse style=\"fill:#00ff00;stroke:#000000;\" cx=\"200\" cy=\"100\" rx=\"100\" ry=\"48\"></ellipse>\n",
    "</svg>"
   ]
  }
 ],
 "metadata": {
  "kernelspec": {
   "display_name": "Python 3",
   "language": "python",
   "name": "python3"
  },
  "language_info": {
   "codemirror_mode": {
    "name": "ipython",
    "version": 3
   },
   "file_extension": ".py",
   "mimetype": "text/x-python",
   "name": "python",
   "nbconvert_exporter": "python",
   "pygments_lexer": "ipython3",
   "version": "3.7.3"
  }
 },
 "nbformat": 4,
 "nbformat_minor": 2
}
