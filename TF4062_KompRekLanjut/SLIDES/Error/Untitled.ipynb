{
 "cells": [
  {
   "cell_type": "code",
   "execution_count": 1,
   "metadata": {},
   "outputs": [],
   "source": [
    "import numpy as np"
   ]
  },
  {
   "cell_type": "code",
   "execution_count": null,
   "metadata": {},
   "outputs": [],
   "source": []
  },
  {
   "cell_type": "markdown",
   "metadata": {},
   "source": [
    "# Pakai float64"
   ]
  },
  {
   "cell_type": "code",
   "execution_count": 2,
   "metadata": {},
   "outputs": [],
   "source": [
    "a = 1.0\n",
    "b = 3000.001\n",
    "c = 3.0"
   ]
  },
  {
   "cell_type": "code",
   "execution_count": 3,
   "metadata": {},
   "outputs": [],
   "source": [
    "def rumus_biasa(a, b, c):\n",
    "    D = b**2 - 4*a*c\n",
    "    x1 = (-b + np.sqrt(D))/(2*a)\n",
    "    x2 = (-b - np.sqrt(D))/(2*a)\n",
    "    return x1, x2"
   ]
  },
  {
   "cell_type": "code",
   "execution_count": 19,
   "metadata": {},
   "outputs": [],
   "source": [
    "def rumus_biasa_float32(a, b, c):\n",
    "    TWO = np.float32(2)\n",
    "    FOUR = np.float32(4)\n",
    "    D = b**TWO - FOUR*a*c\n",
    "    x1 = (-b + np.sqrt(D))/(TWO*a)\n",
    "    x2 = (-b - np.sqrt(D))/(TWO*a)\n",
    "    return x1, x2"
   ]
  },
  {
   "cell_type": "code",
   "execution_count": 4,
   "metadata": {},
   "outputs": [],
   "source": [
    "def rumus_tidak_biasa(a, b, c):\n",
    "    D = b**2 - 4*a*c\n",
    "    x1 = -2*c/(b + np.sqrt(D))\n",
    "    x2 = -2*c/(b - np.sqrt(D))\n",
    "    return x1, x2"
   ]
  },
  {
   "cell_type": "code",
   "execution_count": 18,
   "metadata": {},
   "outputs": [],
   "source": [
    "def rumus_tidak_biasa_float32(a, b, c):\n",
    "    TWO = np.float32(2)\n",
    "    FOUR = np.float32(4)    \n",
    "    D = b**TWO - FOUR*a*c\n",
    "    x1 = -TWO*c/(b + np.sqrt(D))\n",
    "    x2 = -TWO*c/(b - np.sqrt(D))\n",
    "    return x1, x2"
   ]
  },
  {
   "cell_type": "code",
   "execution_count": 5,
   "metadata": {},
   "outputs": [
    {
     "data": {
      "text/plain": [
       "(-0.0009999999999763531, -3000.0)"
      ]
     },
     "execution_count": 5,
     "metadata": {},
     "output_type": "execute_result"
    }
   ],
   "source": [
    "rumus_biasa(a, b, c)"
   ]
  },
  {
   "cell_type": "code",
   "execution_count": 6,
   "metadata": {},
   "outputs": [
    {
     "data": {
      "text/plain": [
       "(-0.001, -3000.0000000709406)"
      ]
     },
     "execution_count": 6,
     "metadata": {},
     "output_type": "execute_result"
    }
   ],
   "source": [
    "rumus_tidak_biasa(a, b, c)"
   ]
  },
  {
   "cell_type": "markdown",
   "metadata": {},
   "source": [
    "# Pakai np.float32"
   ]
  },
  {
   "cell_type": "code",
   "execution_count": 20,
   "metadata": {},
   "outputs": [],
   "source": [
    "a = np.float32(1.0)\n",
    "b = np.float32(3000.001)\n",
    "c = np.float32(3.0)"
   ]
  },
  {
   "cell_type": "code",
   "execution_count": 22,
   "metadata": {},
   "outputs": [
    {
     "data": {
      "text/plain": [
       "(-0.0009765625, -3000.0)"
      ]
     },
     "execution_count": 22,
     "metadata": {},
     "output_type": "execute_result"
    }
   ],
   "source": [
    "x1, x2 = rumus_biasa_float32(a, b, c)\n",
    "x1, x2"
   ]
  },
  {
   "cell_type": "code",
   "execution_count": 25,
   "metadata": {},
   "outputs": [
    {
     "data": {
      "text/plain": [
       "(numpy.float32, numpy.float32)"
      ]
     },
     "execution_count": 25,
     "metadata": {},
     "output_type": "execute_result"
    }
   ],
   "source": [
    "type(x1), type(x2)"
   ]
  },
  {
   "cell_type": "code",
   "execution_count": 26,
   "metadata": {},
   "outputs": [
    {
     "data": {
      "text/plain": [
       "(-0.001, -3072.0)"
      ]
     },
     "execution_count": 26,
     "metadata": {},
     "output_type": "execute_result"
    }
   ],
   "source": [
    "x1, x2 = rumus_tidak_biasa_float32(a, b, c)\n",
    "x1, x2"
   ]
  },
  {
   "cell_type": "code",
   "execution_count": 27,
   "metadata": {},
   "outputs": [
    {
     "data": {
      "text/plain": [
       "(numpy.float32, numpy.float32)"
      ]
     },
     "execution_count": 27,
     "metadata": {},
     "output_type": "execute_result"
    }
   ],
   "source": [
    "type(x1), type(x2)"
   ]
  },
  {
   "cell_type": "markdown",
   "metadata": {},
   "source": [
    "# Pakai SymPy"
   ]
  },
  {
   "cell_type": "code",
   "execution_count": 28,
   "metadata": {},
   "outputs": [],
   "source": [
    "import sympy"
   ]
  },
  {
   "cell_type": "code",
   "execution_count": 36,
   "metadata": {},
   "outputs": [],
   "source": [
    "sympy.init_printing(use_latex=True)"
   ]
  },
  {
   "cell_type": "code",
   "execution_count": 29,
   "metadata": {},
   "outputs": [],
   "source": [
    "a, b, c = sympy.symbols(\"a b c\")"
   ]
  },
  {
   "cell_type": "code",
   "execution_count": 34,
   "metadata": {},
   "outputs": [],
   "source": [
    "def rumus_biasa_sympy(a, b, c):\n",
    "    D = b**2 - 4*a*c\n",
    "    x1 = (-b + sympy.sqrt(D))/(2*a)\n",
    "    x2 = (-b - sympy.sqrt(D))/(2*a)\n",
    "    return x1, x2"
   ]
  },
  {
   "cell_type": "code",
   "execution_count": 33,
   "metadata": {},
   "outputs": [],
   "source": [
    "def rumus_tidak_biasa_sympy(a, b, c):\n",
    "    D = b**2 - 4*a*c\n",
    "    x1 = -2*c/(b + sympy.sqrt(D))\n",
    "    x2 = -2*c/(b - sympy.sqrt(D))\n",
    "    return x1, x2"
   ]
  },
  {
   "cell_type": "code",
   "execution_count": 37,
   "metadata": {},
   "outputs": [
    {
     "data": {
      "image/png": "[encoded data removed]",
      "text/latex": [
       "$\\displaystyle \\left( \\frac{- b + \\sqrt{- 4 a c + b^{2}}}{2 a}, \\  \\frac{- b - \\sqrt{- 4 a c + b^{2}}}{2 a}\\right)$"
      ],
      "text/plain": [
       "⎛        _____________          _____________⎞\n",
       "⎜       ╱           2          ╱           2 ⎟\n",
       "⎜-b + ╲╱  -4⋅a⋅c + b    -b - ╲╱  -4⋅a⋅c + b  ⎟\n",
       "⎜─────────────────────, ─────────────────────⎟\n",
       "⎝         2⋅a                    2⋅a         ⎠"
      ]
     },
     "execution_count": 37,
     "metadata": {},
     "output_type": "execute_result"
    }
   ],
   "source": [
    "x1, x2 = rumus_biasa_sympy(a, b, c)\n",
    "x1, x2"
   ]
  },
  {
   "cell_type": "code",
   "execution_count": 44,
   "metadata": {},
   "outputs": [
    {
     "data": {
      "image/png": "[encoded data removed]",
      "text/latex": [
       "$\\displaystyle \\frac{3000001}{1000}$"
      ],
      "text/plain": [
       "3000001\n",
       "───────\n",
       "  1000 "
      ]
     },
     "execution_count": 44,
     "metadata": {},
     "output_type": "execute_result"
    }
   ],
   "source": [
    "b_rational = 3000 + sympy.Rational(1, 1000)\n",
    "b_rational"
   ]
  },
  {
   "cell_type": "code",
   "execution_count": 46,
   "metadata": {
    "scrolled": true
   },
   "outputs": [
    {
     "data": {
      "image/png": "[encoded data removed]",
      "text/latex": [
       "$\\displaystyle - \\frac{1}{1000}$"
      ],
      "text/plain": [
       "-1/1000"
      ]
     },
     "execution_count": 46,
     "metadata": {},
     "output_type": "execute_result"
    }
   ],
   "source": [
    "x1_eval = x1.subs({a: 1, b: 3000 + sympy.Rational(1, 1000), c: 3})\n",
    "x1_eval"
   ]
  },
  {
   "cell_type": "code",
   "execution_count": 47,
   "metadata": {},
   "outputs": [
    {
     "data": {
      "image/png": "[encoded data removed]",
      "text/latex": [
       "$\\displaystyle -3000$"
      ],
      "text/plain": [
       "-3000"
      ]
     },
     "execution_count": 47,
     "metadata": {},
     "output_type": "execute_result"
    }
   ],
   "source": [
    "x2_eval = x2.subs({a: 1, b: 3000 + sympy.Rational(1, 1000), c: 3})\n",
    "x2_eval"
   ]
  },
  {
   "cell_type": "markdown",
   "metadata": {},
   "source": [
    "# SymPy, tidak biasa"
   ]
  },
  {
   "cell_type": "markdown",
   "metadata": {},
   "source": [
    "CAS (computer algebra system).\n",
    "Mathematica, Maple, Symbolic Toolbox, Maxima, SageMATH"
   ]
  },
  {
   "cell_type": "code",
   "execution_count": 48,
   "metadata": {},
   "outputs": [
    {
     "data": {
      "image/png": "[encoded data removed]",
      "text/latex": [
       "$\\displaystyle \\left( - \\frac{2 c}{b + \\sqrt{- 4 a c + b^{2}}}, \\  - \\frac{2 c}{b - \\sqrt{- 4 a c + b^{2}}}\\right)$"
      ],
      "text/plain": [
       "⎛       -2⋅c                  -2⋅c         ⎞\n",
       "⎜────────────────────, ────────────────────⎟\n",
       "⎜       _____________         _____________⎟\n",
       "⎜      ╱           2         ╱           2 ⎟\n",
       "⎝b + ╲╱  -4⋅a⋅c + b    b - ╲╱  -4⋅a⋅c + b  ⎠"
      ]
     },
     "execution_count": 48,
     "metadata": {},
     "output_type": "execute_result"
    }
   ],
   "source": [
    "x1, x2 = rumus_tidak_biasa_sympy(a, b, c)\n",
    "x1, x2"
   ]
  },
  {
   "cell_type": "code",
   "execution_count": 49,
   "metadata": {},
   "outputs": [
    {
     "data": {
      "image/png": "[encoded data removed]",
      "text/latex": [
       "$\\displaystyle - \\frac{1}{1000}$"
      ],
      "text/plain": [
       "-1/1000"
      ]
     },
     "execution_count": 49,
     "metadata": {},
     "output_type": "execute_result"
    }
   ],
   "source": [
    "x1_eval = x1.subs({a: 1, b: 3000 + sympy.Rational(1, 1000), c: 3})\n",
    "x1_eval"
   ]
  },
  {
   "cell_type": "code",
   "execution_count": 50,
   "metadata": {},
   "outputs": [
    {
     "data": {
      "image/png": "[encoded data removed]",
      "text/latex": [
       "$\\displaystyle -3000$"
      ],
      "text/plain": [
       "-3000"
      ]
     },
     "execution_count": 50,
     "metadata": {},
     "output_type": "execute_result"
    }
   ],
   "source": [
    "x2_eval = x2.subs({a: 1, b: 3000 + sympy.Rational(1, 1000), c: 3})\n",
    "x2_eval"
   ]
  }
 ],
 "metadata": {
  "kernelspec": {
   "display_name": "Python 3",
   "language": "python",
   "name": "python3"
  },
  "language_info": {
   "codemirror_mode": {
    "name": "ipython",
    "version": 3
   },
   "file_extension": ".py",
   "mimetype": "text/x-python",
   "name": "python",
   "nbconvert_exporter": "python",
   "pygments_lexer": "ipython3",
   "version": "3.7.3"
  }
 },
 "nbformat": 4,
 "nbformat_minor": 2
}
